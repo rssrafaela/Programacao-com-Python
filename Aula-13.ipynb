{
 "cells": [
  {
   "cell_type": "markdown",
   "metadata": {},
   "source": [
    "# Operações com Strings"
   ]
  },
  {
   "cell_type": "markdown",
   "metadata": {},
   "source": [
    "## O QUE SÃO STRINGS?\n",
    "\n",
    "- **Strings** são sequências de caracteres usadas para armazenar e manipular texto em Python.\n"
   ]
  },
  {
   "cell_type": "markdown",
   "metadata": {},
   "source": [
    "## ARRAY DE CARACTERES?!\n",
    "\n",
    "- O Python não possui o tipo **caractere**, portanto, mesmo um único caractere é definido como uma **string**. E uma string é justamente uma string, não um array.\n",
    "- Mas se comporta como um **objeto iterável e ordenado**.\n"
   ]
  },
  {
   "cell_type": "markdown",
   "metadata": {},
   "source": [
    "## OPERAÇÕES BÁSICAS COM STRINGS\n",
    "\n",
    "- Operações básicas incluem **concatenação** (juntar strings), **acessar caracteres** individuais e **medir o comprimento** de uma string.\n",
    "\n",
    "### Exemplo de código:\n"
   ]
  },
  {
   "cell_type": "code",
   "execution_count": 1,
   "metadata": {},
   "outputs": [
    {
     "name": "stdout",
     "output_type": "stream",
     "text": [
      "Maria Silva\n",
      "Primeira letra: M\n",
      "Número de caracteres: 11\n"
     ]
    }
   ],
   "source": [
    "primeiro_nome = \"Maria\"\n",
    "sobrenome = \"Silva\"\n",
    "nome_completo = primeiro_nome + \" \" + sobrenome\n",
    "print(nome_completo)  # Resultado: Maria Silva\n",
    "print(\"Primeira letra:\", primeiro_nome[0])  # Resultado: M\n",
    "print(\"Número de caracteres:\", len(nome_completo))  # Resultado: 11"
   ]
  },
  {
   "cell_type": "markdown",
   "metadata": {},
   "source": [
    "## CONVERTENDO NÚMERO EM STRING E VICE-VERSA\n",
    "\n",
    "Em Python, podemos converter números para strings e strings para números utilizando as funções `int()` e `str()`.\n",
    "\n",
    "### Exemplo de código:"
   ]
  },
  {
   "cell_type": "code",
   "execution_count": 2,
   "metadata": {},
   "outputs": [
    {
     "name": "stdout",
     "output_type": "stream",
     "text": [
      "125\n",
      "Número: 456\n"
     ]
    }
   ],
   "source": [
    "numero_em_string = \"123\"\n",
    "numero = int(numero_em_string)  # Converte a string \"123\" para o número inteiro 123\n",
    "print(numero + 2)  # Resultado: 125\n",
    "\n",
    "numero_para_string = str(456)  # Converte o número 456 para a string \"456\"\n",
    "print(\"Número: \" + numero_para_string)  # Resultado: Número: 456"
   ]
  },
  {
   "cell_type": "markdown",
   "metadata": {},
   "source": [
    "## STRINGS MULTILINHAS\n",
    "\n",
    "Em Python, você pode atribuir uma string multilinha a uma variável utilizando três aspas (`\"\"\"` ou `'''`). Isso permite que você crie strings que se estendem por várias linhas sem precisar usar o caractere de escape de nova linha `\\n`.\n",
    "\n",
    "### Exemplo de código:"
   ]
  },
  {
   "cell_type": "code",
   "execution_count": 3,
   "metadata": {},
   "outputs": [
    {
     "name": "stdout",
     "output_type": "stream",
     "text": [
      "Lorem ipsum dolor sit amet,\n",
      "consectetur adipiscing elit,\n",
      "sed do eiusmod tempor incididunt\n",
      "ut labore et dolore magna aliqua.\n"
     ]
    }
   ],
   "source": [
    "a = \"\"\"Lorem ipsum dolor sit amet,\n",
    "consectetur adipiscing elit,\n",
    "sed do eiusmod tempor incididunt\n",
    "ut labore et dolore magna aliqua.\"\"\"\n",
    "print(a)"
   ]
  },
  {
   "cell_type": "markdown",
   "metadata": {},
   "source": [
    "## OPERADOR DE IDENTIFICAÇÃO\n",
    "\n",
    "O operador de identificação em Python é utilizado para verificar se uma sequência (como uma string) contém um determinado valor ou não. Os operadores mais comuns são:\n",
    "- `in`: Verifica se o valor está presente na sequência.\n",
    "- `not in`: Verifica se o valor **não** está presente na sequência.\n",
    "\n",
    "### Exemplos de código:"
   ]
  },
  {
   "cell_type": "code",
   "execution_count": 4,
   "metadata": {},
   "outputs": [
    {
     "name": "stdout",
     "output_type": "stream",
     "text": [
      "True\n"
     ]
    }
   ],
   "source": [
    "txt = \"The best things in life are free!\"\n",
    "print(\"free\" in txt)  # Verifica se \"free\" está na string"
   ]
  },
  {
   "cell_type": "code",
   "execution_count": 5,
   "metadata": {},
   "outputs": [
    {
     "name": "stdout",
     "output_type": "stream",
     "text": [
      "Yes, 'free' is present.\n"
     ]
    }
   ],
   "source": [
    "txt = \"The best things in life are free!\"\n",
    "if \"free\" in txt:\n",
    "    print(\"Yes, 'free' is present.\")  # Imprime a mensagem se \"free\" estiver presente\n"
   ]
  },
  {
   "cell_type": "code",
   "execution_count": 6,
   "metadata": {},
   "outputs": [
    {
     "name": "stdout",
     "output_type": "stream",
     "text": [
      "No, 'expensive' is NOT present.\n"
     ]
    }
   ],
   "source": [
    "txt = \"The best things in life are free!\"\n",
    "if \"expensive\" not in txt:\n",
    "    print(\"No, 'expensive' is NOT present.\")  # Imprime a mensagem se \"expensive\" não estiver presente\n"
   ]
  },
  {
   "cell_type": "markdown",
   "metadata": {},
   "source": [
    "- **início**: Índice onde o slicing começa (inclusivo).\n",
    "- **fim**: Índice onde o slicing termina (exclusivo).\n",
    "\n",
    "### Exemplo de código:"
   ]
  },
  {
   "cell_type": "code",
   "execution_count": 7,
   "metadata": {},
   "outputs": [
    {
     "name": "stdout",
     "output_type": "stream",
     "text": [
      "amação em P\n"
     ]
    }
   ],
   "source": [
    "texto = \"Programação em Python\"\n",
    "subtexto = texto[5:16]  # Resultado: 'ação em Py'\n",
    "print(subtexto)"
   ]
  },
  {
   "cell_type": "markdown",
   "metadata": {},
   "source": [
    "## SLICING\n",
    "\n",
    "O **slicing** em Python também permite manipular uma string de várias formas, incluindo pegar um intervalo de caracteres utilizando diferentes tipos de índices.\n",
    "\n",
    "### Exemplos de Slicing:\n",
    "\n",
    "- **Leve os caracteres do início até a posição 5 (não incluído):**"
   ]
  },
  {
   "cell_type": "code",
   "execution_count": 8,
   "metadata": {},
   "outputs": [
    {
     "name": "stdout",
     "output_type": "stream",
     "text": [
      "Hello\n"
     ]
    }
   ],
   "source": [
    "b = \"Hello, World!\"\n",
    "print(b[:5])"
   ]
  },
  {
   "cell_type": "markdown",
   "metadata": {},
   "source": [
    "- **Pegue os caracteres da posição 2 até o final:**"
   ]
  },
  {
   "cell_type": "code",
   "execution_count": 9,
   "metadata": {},
   "outputs": [
    {
     "name": "stdout",
     "output_type": "stream",
     "text": [
      "llo, World!\n"
     ]
    }
   ],
   "source": [
    "b = \"Hello, World!\"\n",
    "print(b[2:])\n"
   ]
  },
  {
   "cell_type": "markdown",
   "metadata": {},
   "source": [
    "- **Indexação negativa:**"
   ]
  },
  {
   "cell_type": "code",
   "execution_count": 10,
   "metadata": {},
   "outputs": [
    {
     "ename": "SyntaxError",
     "evalue": "invalid syntax (769338033.py, line 4)",
     "output_type": "error",
     "traceback": [
      "  \u001b[36mCell\u001b[39m\u001b[36m \u001b[39m\u001b[32mIn[10]\u001b[39m\u001b[32m, line 4\u001b[39m\n\u001b[31m    \u001b[39m\u001b[31m(posição -2):\u001b[39m\n                ^\n\u001b[31mSyntaxError\u001b[39m\u001b[31m:\u001b[39m invalid syntax\n"
     ]
    }
   ],
   "source": [
    " # Obtenha os personagens:\n",
    " # De: \"o\" em “World!\" (posição -5)\n",
    " # Para, mas não incluído: \"d\" em \"World!\" \n",
    "(posição -2):"
   ]
  },
  {
   "cell_type": "code",
   "execution_count": 11,
   "metadata": {},
   "outputs": [
    {
     "name": "stdout",
     "output_type": "stream",
     "text": [
      "orl\n"
     ]
    }
   ],
   "source": [
    "b = \"Hello, World!\"\n",
    "print(b[-5:-2])\n"
   ]
  },
  {
   "cell_type": "code",
   "execution_count": 12,
   "metadata": {},
   "outputs": [
    {
     "name": "stdout",
     "output_type": "stream",
     "text": [
      "!dlroW ,olleH\n"
     ]
    }
   ],
   "source": [
    "b = \"Hello, World!\"\n",
    "print(b[::-1])\n"
   ]
  },
  {
   "cell_type": "markdown",
   "metadata": {},
   "source": [
    "## UTILIZANDO CARACTERES PROIBIDOS\n",
    "\n",
    "Em Python, se você precisar incluir caracteres especiais ou \"proibidos\" em uma string, como uma nova linha ou uma aspa dentro de uma string, você pode usar **caracteres de escape**.\n",
    "\n",
    "### O que são caracteres de escape?\n",
    "\n",
    "Um **caractere de escape** é uma barra invertida `\\` seguida por um caractere que você deseja inserir, mas que, de outra forma, causaria um erro ou não seria permitido dentro da string.\n",
    "\n",
    "### Exemplo de uso de caracteres de escape:"
   ]
  },
  {
   "cell_type": "code",
   "execution_count": 13,
   "metadata": {},
   "outputs": [
    {
     "name": "stdout",
     "output_type": "stream",
     "text": [
      "Esta é uma \"string\" com aspas.\n"
     ]
    }
   ],
   "source": [
    "txt = \"Esta é uma \\\"string\\\" com aspas.\"\n",
    "print(txt)"
   ]
  },
  {
   "cell_type": "markdown",
   "metadata": {},
   "source": [
    "## UTILIZANDO MÉTODOS\n",
    "\n",
    "Strings em Python possuem diversos métodos úteis para manipulação e transformação de texto. Alguns dos métodos mais comuns incluem `upper()`, `lower()`, `replace()`, `strip()`, entre outros.\n",
    "\n",
    "### Exemplos de Métodos:\n",
    "\n",
    "1. **`upper()`**: Converte todos os caracteres da string para maiúsculas."
   ]
  },
  {
   "cell_type": "code",
   "execution_count": 14,
   "metadata": {},
   "outputs": [
    {
     "name": "stdout",
     "output_type": "stream",
     "text": [
      " PYTHON É INCRÍVEL! \n"
     ]
    }
   ],
   "source": [
    "frase = \" Python é incrível! \"\n",
    "print(frase.upper())"
   ]
  },
  {
   "cell_type": "markdown",
   "metadata": {},
   "source": [
    "lower(): Converte todos os caracteres da string para minúsculas."
   ]
  },
  {
   "cell_type": "code",
   "execution_count": 15,
   "metadata": {},
   "outputs": [
    {
     "name": "stdout",
     "output_type": "stream",
     "text": [
      " python é incrível! \n"
     ]
    }
   ],
   "source": [
    "frase = \" Python é incrível! \"\n",
    "print(frase.lower())\n"
   ]
  },
  {
   "cell_type": "markdown",
   "metadata": {},
   "source": [
    "strip(): Remove os espaços em branco do início e do final da string."
   ]
  },
  {
   "cell_type": "code",
   "execution_count": 16,
   "metadata": {},
   "outputs": [
    {
     "name": "stdout",
     "output_type": "stream",
     "text": [
      "Python é incrível!\n"
     ]
    }
   ],
   "source": [
    "frase = \" Python é incrível! \"\n",
    "print(frase.strip())\n"
   ]
  },
  {
   "cell_type": "markdown",
   "metadata": {},
   "source": [
    "replace(): Substitui uma substring por outra em uma string."
   ]
  },
  {
   "cell_type": "code",
   "execution_count": 17,
   "metadata": {},
   "outputs": [
    {
     "name": "stdout",
     "output_type": "stream",
     "text": [
      " Python é fantástico! \n"
     ]
    }
   ],
   "source": [
    "frase = \" Python é incrível! \"\n",
    "print(frase.replace(\"incrível\", \"fantástico\"))\n"
   ]
  },
  {
   "cell_type": "markdown",
   "metadata": {},
   "source": [
    "## Métodos de Strings em Python\n",
    "\n",
    "Aqui estão alguns dos métodos mais utilizados para manipulação de strings em Python, com suas respectivas descrições:\n",
    "\n",
    "- **`upper()`**: Converte todos os caracteres da string para maiúsculas.\n",
    "- **`lower()`**: Converte todos os caracteres da string para minúsculas.\n",
    "- **`strip()`**: Remove os espaços em branco do início e do final da string.\n",
    "- **`replace(old, new)`**: Substitui uma substring `old` por `new` na string.\n",
    "- **`split(separator)`**: Divide a string em uma lista, separando pelas ocorrências do `separator`.\n",
    "- **`join(iterable)`**: Junta uma lista de strings com um delimitador especificado.\n",
    "- **`find(substring)`**: Retorna o índice da primeira ocorrência de `substring` na string. Retorna `-1` se não encontrar.\n",
    "- **`count(substring)`**: Conta o número de ocorrências de `substring` na string.\n",
    "- **`startswith(prefix)`**: Retorna `True` se a string começar com o `prefix`, caso contrário, retorna `False`.\n",
    "- **`endswith(suffix)`**: Retorna `True` se a string terminar com o `suffix`, caso contrário, retorna `False`.\n",
    "- **`capitalize()`**: Converte o primeiro caractere da string para maiúscula e os outros para minúsculas.\n",
    "- **`title()`**: Converte o primeiro caractere de cada palavra para maiúscula.\n",
    "- **`isalpha()`**: Retorna `True` se todos os caracteres da string forem alfabéticos, caso contrário, retorna `False`.\n",
    "- **`isdigit()`**: Retorna `True` se todos os caracteres da string forem dígitos, caso contrário, retorna `False`.\n",
    "- **`isspace()`**: Retorna `True` se todos os caracteres da string forem espaços em branco, caso contrário, retorna `False`.\n",
    "- **`isnumeric()`**: Retorna `True` se todos os caracteres da string forem numéricos, caso contrário, retorna `False`.\n",
    "- **`rfind(substring)`**: Retorna o índice da última ocorrência de `substring` na string. Retorna `-1` se não encontrar.\n",
    "- **`zfill(width)`**: Preenche a string com zeros à esquerda até atingir o comprimento especificado por `width`.\n",
    "- **`swapcase()`**: Troca a caixa de cada caractere: maiúsculas se minúsculas, e vice-versa.\n",
    "- **`lstrip()`**: Remove os espaços em branco do lado esquerdo da string.\n",
    "- **`rstrip()`**: Remove os espaços em branco do lado direito da string.\n",
    "\n",
    "Esses métodos são bastante úteis e permitem que você manipule strings de maneira eficiente e simples em Python.\n"
   ]
  },
  {
   "cell_type": "markdown",
   "metadata": {},
   "source": [
    "## Utilizando Métodos - **split(separador)**\n",
    "\n",
    "### Transformando Strings em Lista\n",
    "\n",
    "O método **`split(separador)`** divide uma string em uma lista de strings, separando-a com base no delimitador (ou separador) que você especifica. Se o separador não for especificado, o método irá dividir a string onde houver espaços em branco consecutivos.\n",
    "\n",
    "### Exemplo:"
   ]
  },
  {
   "cell_type": "code",
   "execution_count": 18,
   "metadata": {},
   "outputs": [
    {
     "name": "stdout",
     "output_type": "stream",
     "text": [
      "['Hello', ' World!']\n"
     ]
    }
   ],
   "source": [
    "a = \"Hello, World!\"\n",
    "print(a.split(\",\"))  # Retorna ['Hello', ' World!']"
   ]
  },
  {
   "cell_type": "markdown",
   "metadata": {},
   "source": [
    "## Utilizando Métodos - **join()**\n",
    "\n",
    "O método **`join()`** pega todos os itens de um iterável (como uma lista ou tupla) e os une em uma única string. É necessário especificar uma string que será usada como separador entre os itens do iterável.\n",
    "\n",
    "### Exemplo:"
   ]
  },
  {
   "cell_type": "code",
   "execution_count": 19,
   "metadata": {},
   "outputs": [
    {
     "name": "stdout",
     "output_type": "stream",
     "text": [
      "John#Peter#Vicky\n"
     ]
    }
   ],
   "source": [
    "myTuple = (\"John\", \"Peter\", \"Vicky\")\n",
    "x = \"#\".join(myTuple)\n",
    "print(x)  # Retorna 'John#Peter#Vicky'"
   ]
  },
  {
   "cell_type": "markdown",
   "metadata": {},
   "source": [
    "## Utilizando Métodos - `strip()`\n",
    "\n",
    "- Remove quaisquer espaços em branco iniciais e finais.\n",
    "- `À esquerda` significa no início da string, `à direita` significa no final.\n",
    "- Você pode especificar quais caracteres serão removidos; caso contrário, todos os espaços em branco serão removidos."
   ]
  },
  {
   "cell_type": "code",
   "execution_count": null,
   "metadata": {},
   "outputs": [],
   "source": [
    "txt = \" banana \"\n",
    "x = txt.strip()\n",
    "print(\"Of all fruits\", x, \"is my favorite\")\n",
    "\n",
    "txt = \",,,,,rrttgg.....banana....rrr\"\n",
    "x = txt.strip(\",.grt\")\n",
    "print(x)"
   ]
  },
  {
   "cell_type": "markdown",
   "metadata": {},
   "source": [
    "## Utilizando Métodos - `replace()`\n",
    "\n",
    "- Substitui uma frase especificada por outra frase especificada.\n",
    "- **Sintaxe**: `string.replace(oldvalue, newvalue, count)`\n",
    "  - `oldvalue`: A frase ou caractere a ser substituído.\n",
    "  - `newvalue`: A frase ou caractere que substituirá o `oldvalue`.\n",
    "  - `count`: (Opcional) O número de ocorrências a serem substituídas. Se não for especificado, todas as ocorrências serão substituídas."
   ]
  },
  {
   "cell_type": "code",
   "execution_count": 20,
   "metadata": {},
   "outputs": [
    {
     "name": "stdout",
     "output_type": "stream",
     "text": [
      "three three was a race horse, two two was three too.\n",
      "three three was a race horse, two two was one too.\n"
     ]
    }
   ],
   "source": [
    "txt = \"one one was a race horse, two two was one too.\"\n",
    "x = txt.replace(\"one\", \"three\")\n",
    "print(x)\n",
    "\n",
    "x = txt.replace(\"one\", \"three\", 2)\n",
    "print(x)"
   ]
  },
  {
   "cell_type": "markdown",
   "metadata": {},
   "source": [
    "## Utilizando Métodos - `format()`\n",
    "\n",
    "- O método `format()` formata o(s) valor(es) especificado(s) e os insere dentro do espaço reservado da string, retornando a string formatada.\n",
    "- O espaço reservado é definido usando chaves `{}`.\n",
    "- Você pode usar marcadores de posição vazios `{}` ou pode identificar os valores com índices nomeados ou numerados.\n",
    "\n",
    "### Sintaxe:"
   ]
  },
  {
   "cell_type": "code",
   "execution_count": 21,
   "metadata": {},
   "outputs": [
    {
     "name": "stdout",
     "output_type": "stream",
     "text": [
      "For only 49.00 dollars!\n"
     ]
    }
   ],
   "source": [
    "txt = \"For only {price:.2f} dollars!\"\n",
    "print(txt.format(price = 49))"
   ]
  },
  {
   "cell_type": "markdown",
   "metadata": {},
   "source": [
    "## Tipos de Formatação no Método `format()`\n",
    "\n",
    "- **`{:d}`**: Formata um número como inteiro.\n",
    "  - Exemplo: `\"{:d}\".format(5)` retorna `5`.\n",
    "  \n",
    "- **`{:f}`**: Formata um número como ponto flutuante.\n",
    "  - Exemplo: `\"{:f}\".format(3.14159)` retorna `3.141590`.\n",
    "  \n",
    "- **`{:.2f}`**: Formata um número de ponto flutuante com precisão de 2 casas decimais.\n",
    "  - Exemplo: `\"{:.2f}\".format(3.14159)` retorna `3.14`.\n",
    "  \n",
    "- **`{:e}`**: Formata um número em notação científica.\n",
    "  - Exemplo: `\"{:e}\".format(12345)` retorna `1.234500e+04`.\n",
    "  \n",
    "- **`{:s}`**: Formata uma string (sem alteração).\n",
    "  - Exemplo: `\"{}\".format(\"Hello\")` retorna `Hello`.\n",
    "\n",
    "- **`{:x}`**: Formata um número em hexadecimal (minúsculo).\n",
    "  - Exemplo: `\"{:x}\".format(255)` retorna `ff`.\n",
    "\n",
    "- **`{:X}`**: Formata um número em hexadecimal (maiúsculo).\n",
    "  - Exemplo: `\"{:X}\".format(255)` retorna `FF`.\n",
    "\n",
    "- **`{:b}`**: Formata um número em binário.\n",
    "  - Exemplo: `\"{:b}\".format(5)` retorna `101`.\n",
    "\n",
    "- **`{:o}`**: Formata um número em octal.\n",
    "  - Exemplo: `\"{:o}\".format(8)` retorna `10`.\n",
    "\n",
    "- **`{:>}`**: Alinha o texto à direita.\n",
    "  - Exemplo: `\"{:>10}\".format(\"Hi\")` retorna `'        Hi'`.\n",
    "\n",
    "- **`{:<}`**: Alinha o texto à esquerda.\n",
    "  - Exemplo: `\"{:<10}\".format(\"Hi\")` retorna `'Hi        '`.\n",
    "\n",
    "- **`{:^}`**: Centraliza o texto.\n",
    "  - Exemplo: `\"{:^10}\".format(\"Hi\")` retorna `'   Hi     '`.\n",
    "\n",
    "- **`{:0}`**: Preenche com zeros.\n",
    "  - Exemplo: `\"{:05d}\".format(42)` retorna `00042`.\n",
    "\n",
    "- **`{:,.2f}`**: Formatação com separador de milhar e 2 casas decimais.\n",
    "  - Exemplo: `\"{:,.2f}\".format(1234567.89)` retorna `1,234,567.89`.\n",
    "\n",
    "- **`{: %}`**: Formata como porcentagem.\n",
    "  - Exemplo: `\"{:.2%}\".format(0.25)` retorna `25.00%`.\n",
    "\n",
    "### Exemplos de uso:"
   ]
  },
  {
   "cell_type": "code",
   "execution_count": 22,
   "metadata": {},
   "outputs": [
    {
     "name": "stdout",
     "output_type": "stream",
     "text": [
      "Number as integer: 42\n",
      "Number as float: 3.14\n",
      "Hexadecimal: ff\n",
      "String aligned right:         Hi\n",
      "Percentage: 25.00%\n"
     ]
    }
   ],
   "source": [
    "txt1 = \"Number as integer: {:d}\".format(42)\n",
    "txt2 = \"Number as float: {:.2f}\".format(3.14159)\n",
    "txt3 = \"Hexadecimal: {:x}\".format(255)\n",
    "txt4 = \"String aligned right: {:>10}\".format(\"Hi\")\n",
    "txt5 = \"Percentage: {:.2%}\".format(0.25)\n",
    "\n",
    "print(txt1)\n",
    "print(txt2)\n",
    "print(txt3)\n",
    "print(txt4)\n",
    "print(txt5)"
   ]
  }
 ],
 "metadata": {
  "kernelspec": {
   "display_name": "Python 3",
   "language": "python",
   "name": "python3"
  },
  "language_info": {
   "codemirror_mode": {
    "name": "ipython",
    "version": 3
   },
   "file_extension": ".py",
   "mimetype": "text/x-python",
   "name": "python",
   "nbconvert_exporter": "python",
   "pygments_lexer": "ipython3",
   "version": "3.13.2"
  }
 },
 "nbformat": 4,
 "nbformat_minor": 2
}
