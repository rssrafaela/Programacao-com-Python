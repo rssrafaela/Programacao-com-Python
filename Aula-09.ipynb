{
 "cells": [
  {
   "cell_type": "markdown",
   "metadata": {},
   "source": [
    "### Repetição, iteração e listas em Python"
   ]
  },
  {
   "cell_type": "code",
   "execution_count": 3,
   "metadata": {},
   "outputs": [
    {
     "name": "stdout",
     "output_type": "stream",
     "text": [
      "[3, 7, 11] \n",
      "\n",
      "3\n",
      "7\n",
      "11\n"
     ]
    }
   ],
   "source": [
    "# Utilizando Casting para converter um tipo específico\n",
    "informacao = list(range(3, 15, 4))\n",
    "print(informacao, '\\n')\n",
    "\n",
    "for item in informacao:\n",
    "  print(item)"
   ]
  },
  {
   "cell_type": "code",
   "execution_count": 6,
   "metadata": {},
   "outputs": [
    {
     "name": "stdout",
     "output_type": "stream",
     "text": [
      "<class 'list'>\n",
      "<class 'str'>\n",
      "<class 'int'>\n",
      "<class 'float'>\n",
      "<class 'bool'>\n",
      "<class 'complex'>\n",
      "<class 'list'>\n"
     ]
    }
   ],
   "source": [
    "isto = [\"livro\", 425, 3.14, True, 5+2j, [1,2,3]]\n",
    "print(type(isto))\n",
    "\n",
    "for item in isto:\n",
    "  print(type(item))"
   ]
  },
  {
   "cell_type": "markdown",
   "metadata": {},
   "source": [
    "### Listas e o 'for'"
   ]
  },
  {
   "cell_type": "code",
   "execution_count": null,
   "metadata": {},
   "outputs": [],
   "source": [
    "# percorre todos os itens da lista\n",
    "thislist = [\"apple\", \"banana\", \"cherry\"]\n",
    "for x in thislist:\n",
    "  print(x)"
   ]
  },
  {
   "cell_type": "code",
   "execution_count": null,
   "metadata": {},
   "outputs": [],
   "source": [
    "# Modo abreviado\n",
    "[print(x) for x in thislist]"
   ]
  },
  {
   "cell_type": "markdown",
   "metadata": {},
   "source": [
    "- A função 'len()' retorna o comprimento de itens da lista\n",
    "- 'lista[#]' - acessa o item da lista alocado na posição numérica passada"
   ]
  },
  {
   "cell_type": "code",
   "execution_count": 8,
   "metadata": {},
   "outputs": [
    {
     "name": "stdout",
     "output_type": "stream",
     "text": [
      "apple\n",
      "banana\n",
      "cherry\n"
     ]
    }
   ],
   "source": [
    "# percorre o número de itens da lista\n",
    "\n",
    "thislist = [\"apple\", \"banana\", \"cherry\"]\n",
    "for i in range(len(thislist)):\n",
    "  print(thislist[i])"
   ]
  },
  {
   "cell_type": "code",
   "execution_count": 9,
   "metadata": {},
   "outputs": [
    {
     "name": "stdout",
     "output_type": "stream",
     "text": [
      "[(0, 'livro'), (1, 425), (2, 3.14), (3, True), (4, (5+2j)), (5, [1, 2, 3])]\n"
     ]
    }
   ],
   "source": [
    "print(list(enumerate(isto)))"
   ]
  },
  {
   "cell_type": "code",
   "execution_count": 10,
   "metadata": {},
   "outputs": [
    {
     "name": "stdout",
     "output_type": "stream",
     "text": [
      "3.14\n"
     ]
    }
   ],
   "source": [
    "print(isto[2])"
   ]
  },
  {
   "cell_type": "code",
   "execution_count": 18,
   "metadata": {},
   "outputs": [
    {
     "name": "stdout",
     "output_type": "stream",
     "text": [
      "['livro', 425, 3.14, True, (5+2j), [1, 2, 3]]\n",
      "['livro', 141.66666666666666, 3.14, True, (5+2j), [1, 2, 3]]\n"
     ]
    }
   ],
   "source": [
    "# Alterando o valor\n",
    "isto = [\"livro\", 425, 3.14, True, 5+2j, [1,2,3]]\n",
    "print(isto)\n",
    "\n",
    "isto[1] /= 3 # Dividindo por 3 o item do índice 1.\n",
    "print(isto)\n",
    "\n",
    "\n"
   ]
  },
  {
   "cell_type": "code",
   "execution_count": 19,
   "metadata": {},
   "outputs": [
    {
     "name": "stdout",
     "output_type": "stream",
     "text": [
      "6\n"
     ]
    }
   ],
   "source": [
    "# Função len (quantos itens aquele objeto tem)\n",
    "\n",
    "print(len(isto))"
   ]
  },
  {
   "cell_type": "code",
   "execution_count": 20,
   "metadata": {},
   "outputs": [
    {
     "name": "stdout",
     "output_type": "stream",
     "text": [
      "(5+2j)\n"
     ]
    }
   ],
   "source": [
    "print(isto[-2]) # é a mesma coisa que acessar o indice [4]"
   ]
  },
  {
   "cell_type": "code",
   "execution_count": null,
   "metadata": {},
   "outputs": [
    {
     "name": "stdout",
     "output_type": "stream",
     "text": [
      "2\n"
     ]
    }
   ],
   "source": [
    "print(isto[5][1])  # Acessando o item de índice 1 dentro do item de índice 5 da lista 'isto'.\n"
   ]
  },
  {
   "cell_type": "code",
   "execution_count": 22,
   "metadata": {},
   "outputs": [
    {
     "name": "stdout",
     "output_type": "stream",
     "text": [
      "['livro', 141.66666666666666, 3.14, True, (5+2j), [1, 'Muito bem!', 3]]\n"
     ]
    }
   ],
   "source": [
    "isto[5][1] = \"Muito bem!\" # Alterando o valor do item de índice 1 dentro do item de índice 5 da lista 'isto'.\n",
    "print(isto)"
   ]
  },
  {
   "cell_type": "markdown",
   "metadata": {},
   "source": [
    "### Slicing\n",
    "\n",
    "Slicing é uma técnica em Python para acessar uma parte (ou fatia) de uma sequência, como uma lista, string ou tupla, sem precisar recorrer a loops. Ele permite extrair um subconjunto de uma sequência com uma sintaxe simples.\n",
    "\n",
    "A sintaxe básica para slicing é:\n",
    "\n",
    "- sequencia[inicio:fim:passo]\n"
   ]
  },
  {
   "cell_type": "code",
   "execution_count": 23,
   "metadata": {},
   "outputs": [
    {
     "name": "stdout",
     "output_type": "stream",
     "text": [
      "[2, 3, 4]\n"
     ]
    }
   ],
   "source": [
    "lista = [0, 1, 2, 3, 4, 5, 6, 7, 8, 9]\n",
    "\n",
    "# Pegando do índice 2 ao 5 (o valor do índice 5 não é incluído)\n",
    "print(lista[2:5])  # Resultado: [2, 3, 4]"
   ]
  },
  {
   "cell_type": "markdown",
   "metadata": {},
   "source": [
    "2. Com o passo (step):"
   ]
  },
  {
   "cell_type": "code",
   "execution_count": 24,
   "metadata": {},
   "outputs": [
    {
     "name": "stdout",
     "output_type": "stream",
     "text": [
      "[0, 2, 4, 6, 8]\n"
     ]
    }
   ],
   "source": [
    "# Pegando do índice 0 ao 9 com um passo de 2\n",
    "print(lista[0:10:2])  # Resultado: [0, 2, 4, 6, 8]\n"
   ]
  },
  {
   "cell_type": "markdown",
   "metadata": {},
   "source": [
    "3. Slicing negativo:\n",
    "Você também pode usar índices negativos para contar a partir do final da sequência."
   ]
  },
  {
   "cell_type": "code",
   "execution_count": 25,
   "metadata": {},
   "outputs": [
    {
     "name": "stdout",
     "output_type": "stream",
     "text": [
      "[7, 8, 9]\n",
      "[9, 7, 5, 3, 1]\n"
     ]
    }
   ],
   "source": [
    "# Pegando os 3 últimos elementos da lista\n",
    "print(lista[-3:])  # Resultado: [7, 8, 9]\n",
    "\n",
    "# Pegando todos os elementos da lista, mas pulando de 2 em 2, contando de trás para frente\n",
    "print(lista[::-2])  # Resultado: [9, 7, 5, 3, 1]\n"
   ]
  },
  {
   "cell_type": "markdown",
   "metadata": {},
   "source": [
    "4. Slicing em uma string:"
   ]
  },
  {
   "cell_type": "code",
   "execution_count": null,
   "metadata": {},
   "outputs": [
    {
     "name": "stdout",
     "output_type": "stream",
     "text": [
      "Pyth\n",
      "ython\n"
     ]
    }
   ],
   "source": [
    "texto = \"Python\"\n",
    "\n",
    "# Pegando os caracteres de índice 0 até 3\n",
    "print(texto[0:4])  # Resultado: 'Pyth'\n",
    "\n",
    "# Pegando os caracteres de índice 1 até o final\n",
    "print(texto[1:])   # Resultado: 'ython'\n"
   ]
  },
  {
   "cell_type": "code",
   "execution_count": 27,
   "metadata": {},
   "outputs": [
    {
     "name": "stdout",
     "output_type": "stream",
     "text": [
      "The Zen of Python, by Tim Peters\n",
      "\n",
      "Beautiful is better than ugly.\n",
      "Explicit is better than implicit.\n",
      "Simple is better than complex.\n",
      "Complex is better than complicated.\n",
      "Flat is better than nested.\n",
      "Sparse is better than dense.\n",
      "Readability counts.\n",
      "Special cases aren't special enough to break the rules.\n",
      "Although practicality beats purity.\n",
      "Errors should never pass silently.\n",
      "Unless explicitly silenced.\n",
      "In the face of ambiguity, refuse the temptation to guess.\n",
      "There should be one-- and preferably only one --obvious way to do it.\n",
      "Although that way may not be obvious at first unless you're Dutch.\n",
      "Now is better than never.\n",
      "Although never is often better than *right* now.\n",
      "If the implementation is hard to explain, it's a bad idea.\n",
      "If the implementation is easy to explain, it may be a good idea.\n",
      "Namespaces are one honking great idea -- let's do more of those!\n"
     ]
    }
   ],
   "source": [
    "import this"
   ]
  },
  {
   "cell_type": "code",
   "execution_count": 47,
   "metadata": {},
   "outputs": [
    {
     "name": "stdout",
     "output_type": "stream",
     "text": [
      "['Rafaela', 'Isabel', 'Sergio', 'Rosana']\n",
      "Rafaela sou eu.\n",
      "Isabel é minha irmã.\n",
      "Sergio é meu pai.\n",
      "Rosana é minha mãe.\n",
      "\n",
      "Índice 0: Rafaela\n",
      "Índice 1: Isabel\n",
      "Índice 2: Sergio\n",
      "Índice 3: Rosana\n"
     ]
    }
   ],
   "source": [
    "# Lista com nomes\n",
    "minha_lista = [\"Rafaela\", \"Isabel\", \"Sergio\", \"Rosana\"]\n",
    "\n",
    "# Imprime a lista inteira\n",
    "print(minha_lista)\n",
    "\n",
    "# Prints com informações fixas\n",
    "print(minha_lista[0], \"sou eu.\")\n",
    "print(minha_lista[1], \"é minha irmã.\")\n",
    "print(minha_lista[2], \"é meu pai.\")\n",
    "print(minha_lista[3], \"é minha mãe.\")\n",
    "\n",
    "print()\n",
    "\n",
    "# Usando for com enumerate para imprimir índice e nome\n",
    "for i, nome in enumerate(minha_lista):\n",
    "  print(f'Índice {i}: {nome}')\n"
   ]
  },
  {
   "cell_type": "code",
   "execution_count": 50,
   "metadata": {},
   "outputs": [
    {
     "name": "stdout",
     "output_type": "stream",
     "text": [
      "Índice 0: Rafaela sou eu.\n",
      "Índice 1: Isabel é minha irmã.\n",
      "Índice 2: Sergio é meu pai.\n",
      "Índice 3: Rosana é minha mãe.\n"
     ]
    }
   ],
   "source": [
    "# Lista com nomes\n",
    "minha_lista = [\"Rafaela\", \"Isabel\", \"Sergio\", \"Rosana\"]\n",
    "\n",
    "# Usando for com enumerate para imprimir índice e nome com frases personalizadas\n",
    "for i, nome in enumerate(minha_lista):\n",
    "  if i == 0:\n",
    "    print(f'Índice {i}: {nome} sou eu.')\n",
    "  elif i == 1:\n",
    "    print(f'Índice {i}: {nome} é minha irmã.')\n",
    "  elif i == 2:\n",
    "    print(f'Índice {i}: {nome} é meu pai.')\n",
    "  elif i == 3:\n",
    "    print(f'Índice {i}: {nome} é minha mãe.')\n"
   ]
  },
  {
   "cell_type": "code",
   "execution_count": 3,
   "metadata": {},
   "outputs": [
    {
     "name": "stdout",
     "output_type": "stream",
     "text": [
      "['livro', 425, 3.14, True, (5+2j), [1, 2, 3]]\n",
      "[(0, 'livro'), (1, 425), (2, 3.14), (3, True), (4, (5+2j)), (5, [1, 2, 3])]\n"
     ]
    }
   ],
   "source": [
    "isto = [\"livro\", 425, 3.14, True, 5+2j, [1,2,3]]\n",
    "print(isto)\n",
    "\n",
    "print(list(enumerate(isto))) # Contagem do índice + valor"
   ]
  },
  {
   "cell_type": "code",
   "execution_count": 12,
   "metadata": {},
   "outputs": [
    {
     "name": "stdout",
     "output_type": "stream",
     "text": [
      "['Rafaela', 'Isabel', 'Sergio']\n",
      "\n",
      "Rafaela\n",
      "Isabel\n",
      "Sergio\n"
     ]
    }
   ],
   "source": [
    "minha_lista2 = [\"Rafaela\", \"Isabel\", \"Sergio\"]\n",
    "\n",
    "print(minha_lista2)\n",
    "print()\n",
    "\n",
    "for x in minha_lista2:\n",
    "  print(x)"
   ]
  },
  {
   "cell_type": "markdown",
   "metadata": {},
   "source": [
    "- O nome item não é um parâmetro no contexto tradicional de funções. Ele é uma variável local que representa o valor de cada elemento da sequência que você está iterando (a string iteravel). Em uma compreensão de lista, o nome item é simplesmente uma variável que recebe cada valor durante a iteração.\n",
    "\n",
    "- Pode ser qualquer nome! O nome item que foi usado no exemplo é apenas uma convenção. No código que você forneceu, o item é o nome dado à variável temporária que irá representar cada caractere da string iteravel enquanto o loop percorre a string.\n",
    "\n",
    "- Pode trocar item por qualquer outro nome, como caracter, letra, letra_atual, ou até algo mais abstrato, como x.. A única condição é que o nome faça sentido para o propósito do código, ajudando quem ler a entender facilmente o que o código está fazendo."
   ]
  },
  {
   "cell_type": "code",
   "execution_count": 23,
   "metadata": {},
   "outputs": [
    {
     "name": "stdout",
     "output_type": "stream",
     "text": [
      "Turma de Python!\n",
      "['T', 'u', 'r', 'm', 'a', ' ', 'd', 'e', ' ', 'P', 'y', 't', 'h', 'o', 'n', '!']\n",
      "['T', 'u', 'r', 'm', 'a', ' ', 'd', 'e', ' ', 'P', 'y', 't', 'h', 'o', 'n', '!']\n"
     ]
    }
   ],
   "source": [
    "# Explicação do Código\n",
    "\n",
    "## Este código tem como objetivo criar uma lista com os caracteres de uma string de duas maneiras diferentes: usando **compreensão de lista** e usando um **loop `for`** com o método `append()`.\n",
    "\n",
    "## Código:\n",
    "\n",
    "# Definindo a string iterável\n",
    "iteravel = \"Turma de Python!\"\n",
    "print(iteravel)\n",
    "\n",
    "# Primeira Opção: Usando Compreensão de Lista\n",
    "# Compreensão de lista cria uma nova lista com base na string 'iteravel'.\n",
    "# Aqui, para cada caractere da string, ele será adicionado à lista.\n",
    "abreviado = [item for item in iteravel]\n",
    "print(abreviado)\n",
    "\n",
    "# Segunda Opção: Usando Loop 'for' com 'append()'\n",
    "# Criamos uma lista vazia 'criando' e, em seguida, usamos um loop 'for' para adicionar\n",
    "# cada caractere da string 'iteravel' na lista 'criando' usando o método 'append()'.\n",
    "criando = []\n",
    "for i in range(len(iteravel)):\n",
    "    criando.append(iteravel[i])  # Usa append para adicionar o caractere na lista\n",
    "\n",
    "print(criando)\n",
    "\n"
   ]
  },
  {
   "cell_type": "markdown",
   "metadata": {},
   "source": [
    "- Aqui, range(20) cria uma sequência de números de 0 a 19. O range gera os números inteiros a partir de 0 até 19, mas não inclui o número 20. \n",
    "\n",
    "- A linha novaLista = [valor for valor in valores if valor % 2 != 0] cria uma lista contendo todos os números ímpares de 0 a 19."
   ]
  },
  {
   "cell_type": "code",
   "execution_count": 24,
   "metadata": {},
   "outputs": [
    {
     "name": "stdout",
     "output_type": "stream",
     "text": [
      "[1, 3, 5, 7, 9, 11, 13, 15, 17, 19]\n"
     ]
    }
   ],
   "source": [
    "valores = list(range(20))\n",
    "\n",
    "novaLista = [valor for valor in valores if valor%2 != 0]\n",
    "print(novaLista)"
   ]
  },
  {
   "cell_type": "code",
   "execution_count": 33,
   "metadata": {},
   "outputs": [
    {
     "name": "stdout",
     "output_type": "stream",
     "text": [
      "Turma de Python!\n",
      "['T', 'u', 'r', 'a', ' ', 'd', 'e', ' ', 'P', 'y', 't', 'h', 'o', 'n', '!']\n",
      "['T', 'u', 'r', 'm', 'a', ' ', 'd', 'e', ' ', 'P', 'y', 't', 'h', 'o', 'n', '!']\n"
     ]
    }
   ],
   "source": [
    "iteravel = \"Turma de Python!\"\n",
    "print(iteravel)\n",
    "\n",
    "abreviado = [item for item in iteravel if item != 'm']\n",
    "print(abreviado)\n",
    "\n",
    "criando = []\n",
    "for i in range(len(iteravel)):\n",
    "    criando.append(iteravel[i])  \n",
    "\n",
    "print(criando)"
   ]
  },
  {
   "cell_type": "code",
   "execution_count": 36,
   "metadata": {},
   "outputs": [
    {
     "name": "stdout",
     "output_type": "stream",
     "text": [
      "['T', 'u', 'r', 'm', 'a', '$', 'd', 'e', '$', 'P', 'y', 't', 'h', 'o', 'n', '!']\n"
     ]
    }
   ],
   "source": [
    "iteravel = \"Turma de Python!\"  # Definindo a string\n",
    "\n",
    "# Substitui espaço vazio ' ' por $ e mantém os outros caracteres inalterados\n",
    "abreviado = [item if item != ' ' else '$' for item in iteravel]\n",
    "print(abreviado)\n"
   ]
  },
  {
   "cell_type": "code",
   "execution_count": 42,
   "metadata": {},
   "outputs": [
    {
     "name": "stdout",
     "output_type": "stream",
     "text": [
      "['T', 'U', 'R', 'A', ' ', 'D', 'E', ' ', 'P', 'Y', 'T', 'H', 'O', 'N', '!']\n"
     ]
    }
   ],
   "source": [
    "# abreviado = [item for item in iteravel if item != 'm']\n",
    "# print(abreviado)\n",
    "\n",
    "abreviado = []\n",
    "for item in iteravel:\n",
    "  if item != 'm':\n",
    "    abreviado.append(item.upper())\n",
    "\n",
    "print(abreviado)"
   ]
  },
  {
   "cell_type": "markdown",
   "metadata": {},
   "source": [
    "# Declaração 'break'\n",
    "\n",
    "- Interrompe o loop, não percorrendo mais itens e saindo do enlace 'for'."
   ]
  },
  {
   "cell_type": "code",
   "execution_count": 52,
   "metadata": {},
   "outputs": [
    {
     "name": "stdout",
     "output_type": "stream",
     "text": [
      "maça\n",
      "banana\n"
     ]
    }
   ],
   "source": [
    "frutas = [\"maça\", \"banana\", \"manga\"]\n",
    "for x in frutas:\n",
    "  print(x)\n",
    "  if x == \"banana\":\n",
    "    break\n",
    " "
   ]
  },
  {
   "cell_type": "code",
   "execution_count": 53,
   "metadata": {},
   "outputs": [
    {
     "name": "stdout",
     "output_type": "stream",
     "text": [
      "maça\n"
     ]
    }
   ],
   "source": [
    "frutas = [\"maça\", \"banana\", \"manga\"]\n",
    "for x in frutas:\n",
    "  if x == \"banana\":\n",
    "    break\n",
    "  print(x)"
   ]
  },
  {
   "cell_type": "markdown",
   "metadata": {},
   "source": [
    "# Declaração 'continue'\n",
    "\n",
    "- Interrompe apenas a iteração atual do 'for' e continua no próximo item."
   ]
  },
  {
   "cell_type": "code",
   "execution_count": 54,
   "metadata": {},
   "outputs": [
    {
     "name": "stdout",
     "output_type": "stream",
     "text": [
      "maça\n",
      "manga\n"
     ]
    }
   ],
   "source": [
    "frutas = [\"maça\", \"banana\", \"manga\"]\n",
    "for x in frutas:\n",
    "  if x == \"banana\":\n",
    "    continue\n",
    "  print(x)"
   ]
  },
  {
   "cell_type": "code",
   "execution_count": 55,
   "metadata": {},
   "outputs": [
    {
     "name": "stdout",
     "output_type": "stream",
     "text": [
      "0\n",
      "1\n",
      "2\n",
      "3\n",
      "4\n",
      "5\n",
      "Finally finished!\n"
     ]
    }
   ],
   "source": [
    "# else for\n",
    "\n",
    "for x in range(6):\n",
    "  print(x)\n",
    "else:\n",
    "  print(\"Finally finished!\")"
   ]
  },
  {
   "cell_type": "code",
   "execution_count": 56,
   "metadata": {},
   "outputs": [
    {
     "name": "stdout",
     "output_type": "stream",
     "text": [
      "0\n",
      "1\n",
      "2\n"
     ]
    }
   ],
   "source": [
    "for x in range(6):\n",
    "  if x == 3:\n",
    "    break\n",
    "  print(x)\n",
    "else:\n",
    "  print(\"Finally finished!\")"
   ]
  },
  {
   "cell_type": "code",
   "execution_count": 57,
   "metadata": {},
   "outputs": [
    {
     "name": "stdout",
     "output_type": "stream",
     "text": [
      "vermelho maça\n",
      "vermelho banana\n",
      "vermelho manga\n",
      "grande maça\n",
      "grande banana\n",
      "grande manga\n",
      "magro maça\n",
      "magro banana\n",
      "magro manga\n"
     ]
    }
   ],
   "source": [
    "# for aninhado\n",
    "\n",
    "adj = [\"vermelho\", \"grande\", \"magro\"] \n",
    "frutas = [\"maça\", \"banana\", \"manga\"]\n",
    "\n",
    "for x in adj:\n",
    "  for y in frutas:\n",
    "    print(x, y)"
   ]
  },
  {
   "cell_type": "markdown",
   "metadata": {},
   "source": [
    "### \\n: Nova linha.\n",
    "\n",
    "### \\r: Retorno de carro (move o cursor para o início da linha)."
   ]
  },
  {
   "cell_type": "code",
   "execution_count": 76,
   "metadata": {},
   "outputs": [
    {
     "name": "stdout",
     "output_type": "stream",
     "text": [
      "Tabuada do 0:\n",
      "0 X 0 = 0\n",
      "0 X 1 = 0\n",
      "0 X 2 = 0\n",
      "0 X 3 = 0\n",
      "0 X 4 = 0\n",
      "0 X 5 = 0\n",
      "0 X 6 = 0\n",
      "0 X 7 = 0\n",
      "0 X 8 = 0\n",
      "0 X 9 = 0\n",
      "0 X 10 = 0\n",
      "\n",
      "Tabuada do 1:\n",
      "1 X 0 = 0\n",
      "1 X 1 = 1\n",
      "1 X 2 = 2\n",
      "1 X 3 = 3\n",
      "1 X 4 = 4\n",
      "1 X 5 = 5\n",
      "1 X 6 = 6\n",
      "1 X 7 = 7\n",
      "1 X 8 = 8\n",
      "1 X 9 = 9\n",
      "1 X 10 = 10\n",
      "\n",
      "Tabuada do 2:\n",
      "2 X 0 = 0\n",
      "2 X 1 = 2\n",
      "2 X 2 = 4\n",
      "2 X 3 = 6\n",
      "2 X 4 = 8\n",
      "2 X 5 = 10\n",
      "2 X 6 = 12\n",
      "2 X 7 = 14\n",
      "2 X 8 = 16\n",
      "2 X 9 = 18\n",
      "2 X 10 = 20\n",
      "\n",
      "Tabuada do 3:\n",
      "3 X 0 = 0\n",
      "3 X 1 = 3\n",
      "3 X 2 = 6\n",
      "3 X 3 = 9\n",
      "3 X 4 = 12\n",
      "3 X 5 = 15\n",
      "3 X 6 = 18\n",
      "3 X 7 = 21\n",
      "3 X 8 = 24\n",
      "3 X 9 = 27\n",
      "3 X 10 = 30\n",
      "\n",
      "Tabuada do 4:\n",
      "4 X 0 = 0\n",
      "4 X 1 = 4\n",
      "4 X 2 = 8\n",
      "4 X 3 = 12\n",
      "4 X 4 = 16\n",
      "4 X 5 = 20\n",
      "4 X 6 = 24\n",
      "4 X 7 = 28\n",
      "4 X 8 = 32\n",
      "4 X 9 = 36\n",
      "4 X 10 = 40\n",
      "\n",
      "Tabuada do 5:\n",
      "5 X 0 = 0\n",
      "5 X 1 = 5\n",
      "5 X 2 = 10\n",
      "5 X 3 = 15\n",
      "5 X 4 = 20\n",
      "5 X 5 = 25\n",
      "5 X 6 = 30\n",
      "5 X 7 = 35\n",
      "5 X 8 = 40\n",
      "5 X 9 = 45\n",
      "5 X 10 = 50\n",
      "\n",
      "Tabuada do 6:\n",
      "6 X 0 = 0\n",
      "6 X 1 = 6\n",
      "6 X 2 = 12\n",
      "6 X 3 = 18\n",
      "6 X 4 = 24\n",
      "6 X 5 = 30\n",
      "6 X 6 = 36\n",
      "6 X 7 = 42\n",
      "6 X 8 = 48\n",
      "6 X 9 = 54\n",
      "6 X 10 = 60\n",
      "\n",
      "Tabuada do 7:\n",
      "7 X 0 = 0\n",
      "7 X 1 = 7\n",
      "7 X 2 = 14\n",
      "7 X 3 = 21\n",
      "7 X 4 = 28\n",
      "7 X 5 = 35\n",
      "7 X 6 = 42\n",
      "7 X 7 = 49\n",
      "7 X 8 = 56\n",
      "7 X 9 = 63\n",
      "7 X 10 = 70\n",
      "\n",
      "Tabuada do 8:\n",
      "8 X 0 = 0\n",
      "8 X 1 = 8\n",
      "8 X 2 = 16\n",
      "8 X 3 = 24\n",
      "8 X 4 = 32\n",
      "8 X 5 = 40\n",
      "8 X 6 = 48\n",
      "8 X 7 = 56\n",
      "8 X 8 = 64\n",
      "8 X 9 = 72\n",
      "8 X 10 = 80\n",
      "\n",
      "Tabuada do 9:\n",
      "9 X 0 = 0\n",
      "9 X 1 = 9\n",
      "9 X 2 = 18\n",
      "9 X 3 = 27\n",
      "9 X 4 = 36\n",
      "9 X 5 = 45\n",
      "9 X 6 = 54\n",
      "9 X 7 = 63\n",
      "9 X 8 = 72\n",
      "9 X 9 = 81\n",
      "9 X 10 = 90\n",
      "\n",
      "Tabuada do 10:\n",
      "10 X 0 = 0\n",
      "10 X 1 = 10\n",
      "10 X 2 = 20\n",
      "10 X 3 = 30\n",
      "10 X 4 = 40\n",
      "10 X 5 = 50\n",
      "10 X 6 = 60\n",
      "10 X 7 = 70\n",
      "10 X 8 = 80\n",
      "10 X 9 = 90\n",
      "10 X 10 = 100\n",
      "\n"
     ]
    }
   ],
   "source": [
    "# Tabuada\n",
    "for x in range(0, 11):  # loop para a tabuada\n",
    "    print(f\"Tabuada do {x}:\")  # imprime qual é a tabuada\n",
    "    for y in range(0, 11):  # loop para multiplicar por 0 até 10\n",
    "        print(f\"{x} X {y} = {x * y}\")  # imprime a multiplicação\n",
    "    print()  # pular uma linha entre as tabuadas\n",
    " "
   ]
  }
 ],
 "metadata": {
  "kernelspec": {
   "display_name": "Python 3",
   "language": "python",
   "name": "python3"
  },
  "language_info": {
   "codemirror_mode": {
    "name": "ipython",
    "version": 3
   },
   "file_extension": ".py",
   "mimetype": "text/x-python",
   "name": "python",
   "nbconvert_exporter": "python",
   "pygments_lexer": "ipython3",
   "version": "3.13.2"
  }
 },
 "nbformat": 4,
 "nbformat_minor": 2
}
