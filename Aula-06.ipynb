{
 "cells": [
  {
   "cell_type": "markdown",
   "metadata": {},
   "source": [
    "# **Operações em Python**\n",
    "\n",
    "## **Operadores**\n",
    "\n",
    "- **Operadores** são símbolos especiais em Python que realizam cálculos sobre variáveis e valores.\n",
    "\n",
    "### **Grupos de operadores**\n",
    "\n",
    "Os operadores podem ser classificados em diferentes tipos, com base na operação que eles realizam. Aqui estão os grupos principais de operadores em Python:\n",
    "\n",
    "- **Aritméticos**: São usados para realizar operações matemáticas, como soma, subtração, multiplicação, etc.\n",
    "- **De atribuição**: Usados para atribuir valores a variáveis.\n",
    "- **De comparação**: Usados para comparar valores, como igual a, maior que, menor que, etc.\n",
    "- **Lógicos**: Usados para operações lógicas, como `and`, `or`, `not`.\n",
    "- **De identidade**: Verificam se duas variáveis apontam para o mesmo objeto na memória, como `is`, `is not`.\n",
    "- **De adesão**: Usados para combinar ou concatenar strings e outros tipos de dados. Exemplo: `+` para strings.\n",
    "- **Bit a bit**: Realizam operações em nível de bits, como `&`, `|`, `^`, `<<`, `>>`.\n",
    "\n",
    "---\n",
    "\n",
    "## **Operadores aritméticos**\n",
    "\n",
    "São operadores usados para realizar cálculos matemáticos. Aqui estão alguns dos operadores aritméticos mais comuns em Python:\n",
    "\n",
    "- **+**: Soma\n",
    "- **-**: Subtração\n",
    "- ***:** Multiplicação\n",
    "- **/**: Divisão\n",
    "- **//**: Divisão inteira\n",
    "- **%**: Módulo (resto da divisão)\n",
    "- **\\*\\***: Exponenciação (potência)\n",
    "\n",
    "### **Exemplo de código:**"
   ]
  },
  {
   "cell_type": "code",
   "execution_count": null,
   "metadata": {},
   "outputs": [],
   "source": [
    "a = 5\n",
    "b = 3\n",
    "\n",
    "soma = a + b  # 8\n",
    "diferenca = a - b  # 2\n",
    "produto = a * b  # 15\n",
    "divisao = a / b  # 1.666...\n",
    "divisao_inteira = a // b  # 1\n",
    "resto = a % b  # 2\n",
    "potencia = a ** b  # 125"
   ]
  },
  {
   "cell_type": "markdown",
   "metadata": {},
   "source": [
    "## **Atividade (20 min)**\n",
    "\n",
    "### **Descrição:**\n",
    "Utilizar operadores aritméticos para criar um programa em Python que calcule e informe quantos dias, semanas, horas, minutos e segundos tem esse curso.\n",
    "\n",
    "### **Dados:**\n",
    "- São 11 semanas de curso.\n",
    "- 2 aulas por semana.\n",
    "- Cada aula tem 2 horas e meia.\n",
    "- Sendo que 1 feriado cai na sexta-feira.\n"
   ]
  },
  {
   "cell_type": "markdown",
   "metadata": {},
   "source": [
    "## **Operador + como combinação (adição) de strings**\n",
    "\n",
    "### **Exemplo de código:**"
   ]
  },
  {
   "cell_type": "code",
   "execution_count": 1,
   "metadata": {},
   "outputs": [
    {
     "name": "stdout",
     "output_type": "stream",
     "text": [
      "Dácio Souza\n",
      "Dácio Souza\n",
      "Dácio Souza\n"
     ]
    }
   ],
   "source": [
    "nome = \"Dácio\"\n",
    "sobrenome = \"Souza\"\n",
    "nome_completo = nome + \" \" + sobrenome  # Dácio Souza\n",
    "print(nome_completo)\n",
    "print(nome, sobrenome)\n",
    "print(nome + \" \" + sobrenome)\n"
   ]
  },
  {
   "cell_type": "markdown",
   "metadata": {},
   "source": [
    "## **Operadores de Atribuição**\n",
    "\n",
    "Os operadores de atribuição em Python realizam operações com a própria variável que eles estão atribuindo. Eles podem ser usados para combinar operações matemáticas e de atribuição em uma única expressão. Aqui estão alguns exemplos comuns:\n",
    "\n",
    "- `=`: Atribuição simples.\n",
    "- `+=`: Adiciona e atribui.\n",
    "- `-=`: Subtrai e atribui.\n",
    "- `*=`: Multiplica e atribui.\n",
    "- `/=`: Divide e atribui.\n",
    "- `//=`: Divide (inteira) e atribui.\n",
    "- `%=`: Modulo e atribui.\n",
    "- `**=`: Exponenciação e atribui.\n",
    "\n",
    "### **Precedência de Operadores**\n",
    "\n",
    "Quando há vários operadores na mesma expressão, a ordem de execução segue uma precedência definida. A ordem de execução das operações no Python segue as seguintes regras:\n",
    "\n",
    "1. Parênteses `()`\n",
    "2. Operadores de exponenciação `**`\n",
    "3. Operadores unários (como `+`, `-`, `~`), multiplicação, divisão, divisão inteira e módulo `*`, `/`, `//`, `%`\n",
    "4. Soma e subtração `+`, `-`\n",
    "5. Comparações, como igual a `==`, maior que `>`, menor que `<`, etc.\n",
    "6. Operadores lógicos `and`, `or`, `not`\n",
    "\n",
    "Quando um operador tem a mesma precedência, a execução segue da esquerda para a direita, exceto para o operador de exponenciação, que executa da direita para a esquerda.\n",
    "\n",
    "### **Exemplo de código:**\n"
   ]
  },
  {
   "cell_type": "code",
   "execution_count": 2,
   "metadata": {},
   "outputs": [
    {
     "name": "stdout",
     "output_type": "stream",
     "text": [
      "0\n",
      "115\n"
     ]
    }
   ],
   "source": [
    "print((6 + 3) - (6 + 3))\n",
    "print(100 + 5 * 3)"
   ]
  },
  {
   "cell_type": "markdown",
   "metadata": {},
   "source": [
    "## **Interação com o Usuário**\n",
    "\n",
    "A interação com o usuário em Python pode ser feita de maneira simples utilizando a função `input()`.\n",
    "\n",
    "### **Como Funciona a Função `input()`**\n",
    "\n",
    "- A função `input()` pausa a execução do programa até que o usuário insira um valor através da linha de comando.\n",
    "- O valor inserido pelo usuário é retornado pela função **como uma string**.\n",
    "- A função `input()` pode receber um **parâmetro opcional**, que será uma mensagem exibida na tela, solicitando a entrada do usuário.\n",
    "\n",
    "### **Características da Função `input()`**\n",
    "- **Entrada**: A função espera que o usuário insira algum valor através do teclado.\n",
    "- **Retorno**: O valor inserido pelo usuário é retornado como uma **string**. Caso o usuário insira números, eles serão tratados como texto.\n",
    "- **Mensagem de Solicitação**: A função `input()` pode exibir uma mensagem antes de capturar a entrada, como uma instrução para o usuário.\n",
    "\n",
    "### **Exemplo de Utilização:**\n",
    "\n",
    "Aqui está um exemplo simples de como usar a função `input()` para coletar dados do usuário e exibir o resultado:"
   ]
  },
  {
   "cell_type": "code",
   "execution_count": 3,
   "metadata": {},
   "outputs": [
    {
     "name": "stdout",
     "output_type": "stream",
     "text": [
      "Nome combinado: Rafaela Souza\n"
     ]
    }
   ],
   "source": [
    "# Solicitando o primeiro nome\n",
    "primeiro_nome = input(\"Digite o primeiro nome: \")\n",
    "\n",
    "# Solicitando o segundo nome\n",
    "segundo_nome = input(\"Digite o segundo nome: \")\n",
    "\n",
    "# Combinando os nomes\n",
    "nome_combinado = primeiro_nome + \" \" + segundo_nome\n",
    "\n",
    "# Exibindo o nome combinado\n",
    "print(\"Nome combinado:\", nome_combinado)"
   ]
  },
  {
   "cell_type": "markdown",
   "metadata": {},
   "source": [
    "---\n",
    "## **Desafio (30 min)**\n",
    "\n",
    "### **\"Calculadora de Viagem\"**\n",
    "\n",
    "Crie um programa em Python que pergunte ao usuário a distância de uma viagem em quilômetros e a velocidade média esperada para a viagem. O programa deve calcular e exibir o tempo aproximado da viagem em horas e minutos.\n",
    "\n",
    "### **Objetivo do Desafio:**\n",
    "Este desafio visa aplicar os conceitos de entrada de dados, operações matemáticas e conversão de unidades (de km/h para horas e minutos), pensando de forma lógica e prática.\n",
    "\n",
    "### **Dicas:**\n",
    "- Lembre-se de converter a distância para tempo usando a velocidade.\n",
    "- Divida o resultado para obter **horas** e o **resto** para obter **minutos**.\n",
    "- Teste o programa com diferentes entradas para garantir a precisão.\n",
    "\n",
    "---"
   ]
  },
  {
   "cell_type": "code",
   "execution_count": 4,
   "metadata": {},
   "outputs": [
    {
     "name": "stdout",
     "output_type": "stream",
     "text": [
      "<class 'int'>\n",
      "<class 'str'>\n",
      "<class 'str'>\n",
      "<class 'float'>\n",
      "<class 'list'>\n",
      "<class 'tuple'>\n",
      "<class 'bool'>\n",
      "<class 'complex'>\n",
      "<class 'int'>\n"
     ]
    }
   ],
   "source": [
    "# Tipagem\n",
    "\n",
    "x = 8\n",
    "y = \"InfNet\"\n",
    "Y = 'Dácio Souza'\n",
    "w = 3.14\n",
    "z = [5, 14.3, \"Python\"]\n",
    "variavel = (True, 3-5j)\n",
    "\n",
    "print(type(x))\n",
    "print(type(y))\n",
    "print(type(Y))\n",
    "print(type(w))\n",
    "print(type(z))\n",
    "print(type(variavel))\n",
    "print(type(variavel[0]))\n",
    "print(type(variavel[1]))\n",
    "\n",
    "# Sobrescrevendo a variável\n",
    "w = 3 \n",
    "print(type(w))\n"
   ]
  },
  {
   "cell_type": "code",
   "execution_count": 5,
   "metadata": {},
   "outputs": [
    {
     "name": "stdout",
     "output_type": "stream",
     "text": [
      "3\n",
      "<class 'str'>\n",
      "-3\n",
      "<class 'int'>\n",
      "3.0\n",
      "<class 'float'>\n",
      "3\n",
      "<class 'int'>\n"
     ]
    }
   ],
   "source": [
    "# Casting\n",
    "\n",
    "a = str(3)\n",
    "b = int(-3)\n",
    "c = float(3)\n",
    "d = int(3.14)\n",
    "\n",
    "print(a)\n",
    "print(type(a))\n",
    "print(b)\n",
    "print(type(b))\n",
    "print(c)\n",
    "print(type(c))\n",
    "print(d)\n",
    "print(type(d))"
   ]
  },
  {
   "cell_type": "code",
   "execution_count": 7,
   "metadata": {},
   "outputs": [
    {
     "name": "stdout",
     "output_type": "stream",
     "text": [
      "Orange\n",
      "Banana\n",
      "Cherry\n"
     ]
    }
   ],
   "source": [
    "# declaração multipla\n",
    "\n",
    "x, y, z = \"Orange\", \"Banana\", \"Cherry\"\n",
    "print(x)\n",
    "print(y)\n",
    "print(z)"
   ]
  },
  {
   "cell_type": "code",
   "execution_count": 8,
   "metadata": {},
   "outputs": [
    {
     "name": "stdout",
     "output_type": "stream",
     "text": [
      "Orange\n",
      "Orange\n",
      "Orange\n"
     ]
    }
   ],
   "source": [
    "x = y = z = \"Orange\"\n",
    "print(x)\n",
    "print(y)\n",
    "print(z)"
   ]
  },
  {
   "cell_type": "code",
   "execution_count": 9,
   "metadata": {},
   "outputs": [
    {
     "name": "stdout",
     "output_type": "stream",
     "text": [
      "apple\n",
      "banana\n",
      "cherry\n"
     ]
    }
   ],
   "source": [
    "# desempacotando\n",
    "\n",
    "fruits = [\"apple\", \"banana\", \"cherry\"]\n",
    "x, y, z = fruits\n",
    "print(x)\n",
    "print(y)\n",
    "print(z)"
   ]
  },
  {
   "cell_type": "code",
   "execution_count": 11,
   "metadata": {},
   "outputs": [
    {
     "name": "stdout",
     "output_type": "stream",
     "text": [
      "Python is awesome\n"
     ]
    }
   ],
   "source": [
    "# Exibindo variáveis\n",
    "x = \"Python is awesome\"\n",
    "print(x)"
   ]
  },
  {
   "cell_type": "code",
   "execution_count": null,
   "metadata": {},
   "outputs": [
    {
     "name": "stdout",
     "output_type": "stream",
     "text": [
      "Python is awesome\n"
     ]
    }
   ],
   "source": [
    "x = \"Python\"\n",
    "y = \"is\"\n",
    "z = \"awesome\"\n",
    "print(x, y, z, sep = ' ') # sep é o separador"
   ]
  },
  {
   "cell_type": "code",
   "execution_count": 15,
   "metadata": {},
   "outputs": [
    {
     "name": "stdout",
     "output_type": "stream",
     "text": [
      "Pythonéincrivel!\n"
     ]
    }
   ],
   "source": [
    "# Concatenação\n",
    "\n",
    "x = \"Python\"\n",
    "y = \"é\"\n",
    "z = \"incrivel!\"\n",
    "print(x + y + z)"
   ]
  },
  {
   "cell_type": "code",
   "execution_count": 16,
   "metadata": {},
   "outputs": [
    {
     "name": "stdout",
     "output_type": "stream",
     "text": [
      "15\n"
     ]
    }
   ],
   "source": [
    "# Operação matemática\n",
    "x = 5\n",
    "y = 10\n",
    "print(x + y)"
   ]
  },
  {
   "cell_type": "code",
   "execution_count": 17,
   "metadata": {},
   "outputs": [
    {
     "name": "stdout",
     "output_type": "stream",
     "text": [
      "15\n"
     ]
    }
   ],
   "source": [
    "# Operação matemática\n",
    "x = 5\n",
    "y = 10\n",
    "z = x + y\n",
    "print(z)"
   ]
  },
  {
   "cell_type": "code",
   "execution_count": 19,
   "metadata": {},
   "outputs": [
    {
     "name": "stdout",
     "output_type": "stream",
     "text": [
      "Hello, World!\n",
      "Hello, World!\n"
     ]
    },
    {
     "data": {
      "text/plain": [
       "'\\nIsto também é! \\nIdentados eles podem ser uma DocString\\n'"
      ]
     },
     "execution_count": 19,
     "metadata": {},
     "output_type": "execute_result"
    }
   ],
   "source": [
    "# This is a comment\n",
    "\n",
    "print(\"Hello, World!\")\n",
    "\n",
    "\n",
    "print(\"Hello, World!\") # This is a comment\n",
    "# print(\"Hello, World\")\n",
    "\n",
    "''' Isto é \n",
    "um bloco de \n",
    "comentários \n",
    "'''\n",
    "\n",
    "\"\"\"\n",
    "Isto também é! \n",
    "Identados eles podem ser uma DocString\n",
    "\"\"\"\n",
    "\n",
    "\n",
    "\n"
   ]
  },
  {
   "cell_type": "code",
   "execution_count": 30,
   "metadata": {},
   "outputs": [],
   "source": [
    " # Operadores aritméticos\n",
    "a = 5\n",
    "b = 3\n",
    "soma = a+b # 8\n",
    "diferenca = a - b # 2\n",
    "produto = a * b # 15\n",
    "divisao = a / b # 1.666...\n",
    "divisao_inteira = a // b # 1\n",
    "resto = a % b # 2\n",
    "potencia = a ** b  # 125"
   ]
  },
  {
   "cell_type": "markdown",
   "metadata": {},
   "source": [
    "### Atividade (20 min)\n",
    " • Utilizar operadores aritméticos para criar um \n",
    "programa em Python que calcule e informe \n",
    "quantos dias, semanas, horas,minutos e \n",
    "segundos tem esse curso.\n",
    " • Dados:\n",
    " o São 11 semanas de curso.\n",
    " o 2 aulaspor semana.\n",
    " o Cada aula 2horas e meia.\n",
    " o Sendo que 1 feriado cai na sexta-feira."
   ]
  },
  {
   "cell_type": "code",
   "execution_count": 5,
   "metadata": {},
   "outputs": [
    {
     "name": "stdout",
     "output_type": "stream",
     "text": [
      "Total de semanas: 11 semanas\n",
      "Total de dias: 77 dias\n",
      "Total de aulas: 21 aulas\n",
      "Total de horas: 52.5 horas\n",
      "Total de minutos: 3150.0 minutos\n",
      "Total de segundos: 189000.0 segundos\n"
     ]
    }
   ],
   "source": [
    "# Dados fornecidos\n",
    "semanas_de_curso = 11  # duração do curso em semanas\n",
    "aulas_por_semana = 2  # número de aulas por semana\n",
    "horas_por_aula = 2.5  # duração de cada aula em horas\n",
    "feriados = 1  # número de feriados\n",
    "\n",
    "# Calculando o total de aulas (sem contar o feriado)\n",
    "total_aulas = (semanas_de_curso * aulas_por_semana) - feriados\n",
    "\n",
    "# Calculando o total de horas\n",
    "total_horas = total_aulas * horas_por_aula\n",
    "\n",
    "# Calculando o total de minutos\n",
    "total_minutos = total_horas * 60\n",
    "\n",
    "# Calculando o total de segundos\n",
    "total_segundos = total_minutos * 60\n",
    "\n",
    "# Calculando total de semanas (já é dado)\n",
    "total_semanas = semanas_de_curso\n",
    "\n",
    "# Calculando o total de dias (considerando 7 dias por semana)\n",
    "total_dias = total_semanas * 7\n",
    "\n",
    "print(f\"Total de semanas: {total_semanas} semanas\")\n",
    "print(f\"Total de dias: {total_dias} dias\")\n",
    "print(f\"Total de aulas: {total_aulas} aulas\")\n",
    "print(f\"Total de horas: {total_horas} horas\")\n",
    "print(f\"Total de minutos: {total_minutos} minutos\")\n",
    "print(f\"Total de segundos: {total_segundos} segundos\")\n"
   ]
  },
  {
   "cell_type": "code",
   "execution_count": 31,
   "metadata": {},
   "outputs": [
    {
     "name": "stdout",
     "output_type": "stream",
     "text": [
      "Dácio Souza\n",
      "Dácio Souza\n",
      "Dácio Souza\n"
     ]
    }
   ],
   "source": [
    "# Operador + como combinação (adição) de strings\n",
    "\n",
    "nome = \"Dácio\"\n",
    "sobrenome = \"Souza\"\n",
    "nome_completo = nome + \" \" + sobrenome # Dácio Souza\n",
    "print(nome_completo)\n",
    "print(nome, sobrenome)\n",
    "print(nome + \" \" + sobrenome)"
   ]
  },
  {
   "cell_type": "code",
   "execution_count": null,
   "metadata": {},
   "outputs": [
    {
     "name": "stdout",
     "output_type": "stream",
     "text": [
      "Dácio Souza\n",
      "Dácio Souza\n",
      "Dácio Souza\n"
     ]
    }
   ],
   "source": [
    "# Formatação de Strings\n",
    "\n",
    "print(\"%s %s\" % (nome, sobrenome)) # place mark de strings\n",
    "print(\"{} {}\".format(nome, sobrenome))\n",
    "print(f\"{nome} {sobrenome}\")"
   ]
  },
  {
   "cell_type": "code",
   "execution_count": 33,
   "metadata": {},
   "outputs": [
    {
     "name": "stdout",
     "output_type": "stream",
     "text": [
      "O nome maiúsculo do prof é DÁCIO e o sobrenome é Souza. Tchau!\n"
     ]
    }
   ],
   "source": [
    "print(f\"O nome maiúsculo do prof é {nome.upper()} e o sobrenome é {sobrenome}. Tchau!\")"
   ]
  },
  {
   "cell_type": "code",
   "execution_count": 2,
   "metadata": {},
   "outputs": [
    {
     "name": "stdout",
     "output_type": "stream",
     "text": [
      "0\n",
      "115\n"
     ]
    }
   ],
   "source": [
    "# Predeceção\n",
    "print((6 + 3) - (6 + 3))\n",
    "print(100 + 5 * 3)"
   ]
  },
  {
   "cell_type": "code",
   "execution_count": 3,
   "metadata": {},
   "outputs": [
    {
     "name": "stdout",
     "output_type": "stream",
     "text": [
      "Nome combinado:  Rafaela Silva\n"
     ]
    }
   ],
   "source": [
    "# interação com o usuário\n",
    "primeiro_nome = input(\"Digite o primeiro nome: \")\n",
    "segundo_nome = input(\"Digite o segundo nome: \")\n",
    "nome_combinado = primeiro_nome + \" \" + segundo_nome\n",
    "print(\"Nome combinado: \", nome_combinado)"
   ]
  },
  {
   "cell_type": "code",
   "execution_count": null,
   "metadata": {},
   "outputs": [],
   "source": [
    "input(\"Digite a alternativa escolhida: \").lower()"
   ]
  },
  {
   "cell_type": "code",
   "execution_count": 4,
   "metadata": {},
   "outputs": [
    {
     "name": "stdout",
     "output_type": "stream",
     "text": [
      "b is greater than a\n",
      "Both conditions are True\n",
      "At least one of the conditions is True\n"
     ]
    }
   ],
   "source": [
    "# estrutura if\n",
    "\n",
    "a = 33\n",
    "b = 200\n",
    "\n",
    "if b > a:\n",
    "  print(\"b is greater than a\")\n",
    "\n",
    "if a > b: print(\"a is greater than b\")\n",
    "\n",
    "a = 300\n",
    "b = 33\n",
    "c = 500\n",
    "\n",
    "if a > b and c > a:\n",
    "  print(\"Both conditions are True\")\n",
    "\n",
    "if a > b or a > c:\n",
    "  print(\"At least one of the conditions is True\")\n",
    "\n",
    "if not a > b:\n",
    "  print(\"a is NOT greater than b\")"
   ]
  }
 ],
 "metadata": {
  "kernelspec": {
   "display_name": "Python 3",
   "language": "python",
   "name": "python3"
  },
  "language_info": {
   "codemirror_mode": {
    "name": "ipython",
    "version": 3
   },
   "file_extension": ".py",
   "mimetype": "text/x-python",
   "name": "python",
   "nbconvert_exporter": "python",
   "pygments_lexer": "ipython3",
   "version": "3.13.2"
  }
 },
 "nbformat": 4,
 "nbformat_minor": 2
}
