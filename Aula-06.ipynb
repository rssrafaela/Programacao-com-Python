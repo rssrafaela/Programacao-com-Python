{
 "cells": [
  {
   "cell_type": "code",
   "execution_count": 4,
   "metadata": {},
   "outputs": [
    {
     "name": "stdout",
     "output_type": "stream",
     "text": [
      "<class 'int'>\n",
      "<class 'str'>\n",
      "<class 'str'>\n",
      "<class 'float'>\n",
      "<class 'list'>\n",
      "<class 'tuple'>\n",
      "<class 'bool'>\n",
      "<class 'complex'>\n",
      "<class 'int'>\n"
     ]
    }
   ],
   "source": [
    "# Tipagem\n",
    "\n",
    "x = 8\n",
    "y = \"InfNet\"\n",
    "Y = 'Dácio Souza'\n",
    "w = 3.14\n",
    "z = [5, 14.3, \"Python\"]\n",
    "variavel = (True, 3-5j)\n",
    "\n",
    "print(type(x))\n",
    "print(type(y))\n",
    "print(type(Y))\n",
    "print(type(w))\n",
    "print(type(z))\n",
    "print(type(variavel))\n",
    "print(type(variavel[0]))\n",
    "print(type(variavel[1]))\n",
    "\n",
    "# Sobrescrevendo a variável\n",
    "w = 3 \n",
    "print(type(w))\n"
   ]
  },
  {
   "cell_type": "code",
   "execution_count": 5,
   "metadata": {},
   "outputs": [
    {
     "name": "stdout",
     "output_type": "stream",
     "text": [
      "3\n",
      "<class 'str'>\n",
      "-3\n",
      "<class 'int'>\n",
      "3.0\n",
      "<class 'float'>\n",
      "3\n",
      "<class 'int'>\n"
     ]
    }
   ],
   "source": [
    "# Casting\n",
    "\n",
    "a = str(3)\n",
    "b = int(-3)\n",
    "c = float(3)\n",
    "d = int(3.14)\n",
    "\n",
    "print(a)\n",
    "print(type(a))\n",
    "print(b)\n",
    "print(type(b))\n",
    "print(c)\n",
    "print(type(c))\n",
    "print(d)\n",
    "print(type(d))"
   ]
  },
  {
   "cell_type": "code",
   "execution_count": 7,
   "metadata": {},
   "outputs": [
    {
     "name": "stdout",
     "output_type": "stream",
     "text": [
      "Orange\n",
      "Banana\n",
      "Cherry\n"
     ]
    }
   ],
   "source": [
    "# declaração multipla\n",
    "\n",
    "x, y, z = \"Orange\", \"Banana\", \"Cherry\"\n",
    "print(x)\n",
    "print(y)\n",
    "print(z)"
   ]
  },
  {
   "cell_type": "code",
   "execution_count": 8,
   "metadata": {},
   "outputs": [
    {
     "name": "stdout",
     "output_type": "stream",
     "text": [
      "Orange\n",
      "Orange\n",
      "Orange\n"
     ]
    }
   ],
   "source": [
    "x = y = z = \"Orange\"\n",
    "print(x)\n",
    "print(y)\n",
    "print(z)"
   ]
  },
  {
   "cell_type": "code",
   "execution_count": 9,
   "metadata": {},
   "outputs": [
    {
     "name": "stdout",
     "output_type": "stream",
     "text": [
      "apple\n",
      "banana\n",
      "cherry\n"
     ]
    }
   ],
   "source": [
    "# desempacotando\n",
    "\n",
    "fruits = [\"apple\", \"banana\", \"cherry\"]\n",
    "x, y, z = fruits\n",
    "print(x)\n",
    "print(y)\n",
    "print(z)"
   ]
  },
  {
   "cell_type": "code",
   "execution_count": 11,
   "metadata": {},
   "outputs": [
    {
     "name": "stdout",
     "output_type": "stream",
     "text": [
      "Python is awesome\n"
     ]
    }
   ],
   "source": [
    "# Exibindo variáveis\n",
    "x = \"Python is awesome\"\n",
    "print(x)"
   ]
  },
  {
   "cell_type": "code",
   "execution_count": null,
   "metadata": {},
   "outputs": [
    {
     "name": "stdout",
     "output_type": "stream",
     "text": [
      "Python is awesome\n"
     ]
    }
   ],
   "source": [
    "x = \"Python\"\n",
    "y = \"is\"\n",
    "z = \"awesome\"\n",
    "print(x, y, z, sep = ' ') # sep é o separador"
   ]
  },
  {
   "cell_type": "code",
   "execution_count": 15,
   "metadata": {},
   "outputs": [
    {
     "name": "stdout",
     "output_type": "stream",
     "text": [
      "Pythonéincrivel!\n"
     ]
    }
   ],
   "source": [
    "# Concatenação\n",
    "\n",
    "x = \"Python\"\n",
    "y = \"é\"\n",
    "z = \"incrivel!\"\n",
    "print(x + y + z)"
   ]
  },
  {
   "cell_type": "code",
   "execution_count": 16,
   "metadata": {},
   "outputs": [
    {
     "name": "stdout",
     "output_type": "stream",
     "text": [
      "15\n"
     ]
    }
   ],
   "source": [
    "# Operação matemática\n",
    "x = 5\n",
    "y = 10\n",
    "print(x + y)"
   ]
  },
  {
   "cell_type": "code",
   "execution_count": 17,
   "metadata": {},
   "outputs": [
    {
     "name": "stdout",
     "output_type": "stream",
     "text": [
      "15\n"
     ]
    }
   ],
   "source": [
    "# Operação matemática\n",
    "x = 5\n",
    "y = 10\n",
    "z = x + y\n",
    "print(z)"
   ]
  },
  {
   "cell_type": "code",
   "execution_count": 19,
   "metadata": {},
   "outputs": [
    {
     "name": "stdout",
     "output_type": "stream",
     "text": [
      "Hello, World!\n",
      "Hello, World!\n"
     ]
    },
    {
     "data": {
      "text/plain": [
       "'\\nIsto também é! \\nIdentados eles podem ser uma DocString\\n'"
      ]
     },
     "execution_count": 19,
     "metadata": {},
     "output_type": "execute_result"
    }
   ],
   "source": [
    "# This is a comment\n",
    "\n",
    "print(\"Hello, World!\")\n",
    "\n",
    "\n",
    "print(\"Hello, World!\") # This is a comment\n",
    "# print(\"Hello, World\")\n",
    "\n",
    "''' Isto é \n",
    "um bloco de \n",
    "comentários \n",
    "'''\n",
    "\n",
    "\"\"\"\n",
    "Isto também é! \n",
    "Identados eles podem ser uma DocString\n",
    "\"\"\"\n",
    "\n",
    "\n",
    "\n"
   ]
  },
  {
   "cell_type": "code",
   "execution_count": 30,
   "metadata": {},
   "outputs": [],
   "source": [
    " # Operadores aritméticos\n",
    "a = 5\n",
    "b = 3\n",
    "soma = a+b # 8\n",
    "diferenca = a - b # 2\n",
    "produto = a * b # 15\n",
    "divisao = a / b # 1.666...\n",
    "divisao_inteira = a // b # 1\n",
    "resto = a % b # 2\n",
    "potencia = a ** b  # 125"
   ]
  },
  {
   "cell_type": "markdown",
   "metadata": {},
   "source": [
    "### Atividade (20 min)\n",
    " • Utilizar operadores aritméticos para criar um \n",
    "programa em Python que calcule e informe \n",
    "quantos dias, semanas, horas,minutos e \n",
    "segundos tem esse curso.\n",
    " • Dados:\n",
    " o São 11 semanas de curso.\n",
    " o 2 aulaspor semana.\n",
    " o Cada aula 2horas e meia.\n",
    " o Sendo que 1 feriado cai na sexta-feira."
   ]
  },
  {
   "cell_type": "code",
   "execution_count": 5,
   "metadata": {},
   "outputs": [
    {
     "name": "stdout",
     "output_type": "stream",
     "text": [
      "Total de semanas: 11 semanas\n",
      "Total de dias: 77 dias\n",
      "Total de aulas: 21 aulas\n",
      "Total de horas: 52.5 horas\n",
      "Total de minutos: 3150.0 minutos\n",
      "Total de segundos: 189000.0 segundos\n"
     ]
    }
   ],
   "source": [
    "# Dados fornecidos\n",
    "semanas_de_curso = 11  # duração do curso em semanas\n",
    "aulas_por_semana = 2  # número de aulas por semana\n",
    "horas_por_aula = 2.5  # duração de cada aula em horas\n",
    "feriados = 1  # número de feriados\n",
    "\n",
    "# Calculando o total de aulas (sem contar o feriado)\n",
    "total_aulas = (semanas_de_curso * aulas_por_semana) - feriados\n",
    "\n",
    "# Calculando o total de horas\n",
    "total_horas = total_aulas * horas_por_aula\n",
    "\n",
    "# Calculando o total de minutos\n",
    "total_minutos = total_horas * 60\n",
    "\n",
    "# Calculando o total de segundos\n",
    "total_segundos = total_minutos * 60\n",
    "\n",
    "# Calculando total de semanas (já é dado)\n",
    "total_semanas = semanas_de_curso\n",
    "\n",
    "# Calculando o total de dias (considerando 7 dias por semana)\n",
    "total_dias = total_semanas * 7\n",
    "\n",
    "print(f\"Total de semanas: {total_semanas} semanas\")\n",
    "print(f\"Total de dias: {total_dias} dias\")\n",
    "print(f\"Total de aulas: {total_aulas} aulas\")\n",
    "print(f\"Total de horas: {total_horas} horas\")\n",
    "print(f\"Total de minutos: {total_minutos} minutos\")\n",
    "print(f\"Total de segundos: {total_segundos} segundos\")\n"
   ]
  },
  {
   "cell_type": "code",
   "execution_count": 31,
   "metadata": {},
   "outputs": [
    {
     "name": "stdout",
     "output_type": "stream",
     "text": [
      "Dácio Souza\n",
      "Dácio Souza\n",
      "Dácio Souza\n"
     ]
    }
   ],
   "source": [
    "# Operador + como combinação (adição) de strings\n",
    "\n",
    "nome = \"Dácio\"\n",
    "sobrenome = \"Souza\"\n",
    "nome_completo = nome + \" \" + sobrenome # Dácio Souza\n",
    "print(nome_completo)\n",
    "print(nome, sobrenome)\n",
    "print(nome + \" \" + sobrenome)"
   ]
  },
  {
   "cell_type": "code",
   "execution_count": null,
   "metadata": {},
   "outputs": [
    {
     "name": "stdout",
     "output_type": "stream",
     "text": [
      "Dácio Souza\n",
      "Dácio Souza\n",
      "Dácio Souza\n"
     ]
    }
   ],
   "source": [
    "# Formatação de Strings\n",
    "\n",
    "print(\"%s %s\" % (nome, sobrenome)) # place mark de strings\n",
    "print(\"{} {}\".format(nome, sobrenome))\n",
    "print(f\"{nome} {sobrenome}\")"
   ]
  },
  {
   "cell_type": "code",
   "execution_count": 33,
   "metadata": {},
   "outputs": [
    {
     "name": "stdout",
     "output_type": "stream",
     "text": [
      "O nome maiúsculo do prof é DÁCIO e o sobrenome é Souza. Tchau!\n"
     ]
    }
   ],
   "source": [
    "print(f\"O nome maiúsculo do prof é {nome.upper()} e o sobrenome é {sobrenome}. Tchau!\")"
   ]
  },
  {
   "cell_type": "code",
   "execution_count": 2,
   "metadata": {},
   "outputs": [
    {
     "name": "stdout",
     "output_type": "stream",
     "text": [
      "0\n",
      "115\n"
     ]
    }
   ],
   "source": [
    "# Predeceção\n",
    "print((6 + 3) - (6 + 3))\n",
    "print(100 + 5 * 3)"
   ]
  },
  {
   "cell_type": "code",
   "execution_count": 3,
   "metadata": {},
   "outputs": [
    {
     "name": "stdout",
     "output_type": "stream",
     "text": [
      "Nome combinado:  Rafaela Silva\n"
     ]
    }
   ],
   "source": [
    "# interação com o usuário\n",
    "primeiro_nome = input(\"Digite o primeiro nome: \")\n",
    "segundo_nome = input(\"Digite o segundo nome: \")\n",
    "nome_combinado = primeiro_nome + \" \" + segundo_nome\n",
    "print(\"Nome combinado: \", nome_combinado)"
   ]
  },
  {
   "cell_type": "code",
   "execution_count": null,
   "metadata": {},
   "outputs": [],
   "source": [
    "input(\"Digite a alternativa escolhida: \").lower()"
   ]
  },
  {
   "cell_type": "code",
   "execution_count": 4,
   "metadata": {},
   "outputs": [
    {
     "name": "stdout",
     "output_type": "stream",
     "text": [
      "b is greater than a\n",
      "Both conditions are True\n",
      "At least one of the conditions is True\n"
     ]
    }
   ],
   "source": [
    "# estrutura if\n",
    "\n",
    "a = 33\n",
    "b = 200\n",
    "\n",
    "if b > a:\n",
    "  print(\"b is greater than a\")\n",
    "\n",
    "if a > b: print(\"a is greater than b\")\n",
    "\n",
    "a = 300\n",
    "b = 33\n",
    "c = 500\n",
    "\n",
    "if a > b and c > a:\n",
    "  print(\"Both conditions are True\")\n",
    "\n",
    "if a > b or a > c:\n",
    "  print(\"At least one of the conditions is True\")\n",
    "\n",
    "if not a > b:\n",
    "  print(\"a is NOT greater than b\")"
   ]
  }
 ],
 "metadata": {
  "kernelspec": {
   "display_name": "Python 3",
   "language": "python",
   "name": "python3"
  },
  "language_info": {
   "codemirror_mode": {
    "name": "ipython",
    "version": 3
   },
   "file_extension": ".py",
   "mimetype": "text/x-python",
   "name": "python",
   "nbconvert_exporter": "python",
   "pygments_lexer": "ipython3",
   "version": "3.13.2"
  }
 },
 "nbformat": 4,
 "nbformat_minor": 2
}
