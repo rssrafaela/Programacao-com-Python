{
 "cells": [
  {
   "cell_type": "markdown",
   "metadata": {},
   "source": [
    "### Desafio (25 min)\n",
    " ◦ \"Calculadora Científica Simplificada\"\n",
    "\n",
    " ◦ Descrição do Desafio:\n",
    " \n",
    " ◦ Desenvolva um programa que simule uma calculadora científica simplificada. \n",
    "O programa deve ter funções para diferentes operações matemáticas (como \n",
    "soma, subtração, multiplicação, divisão, potência e raiz quadrada) e permitir \n",
    "que o usuário escolha qual operação realizar.\n"
   ]
  },
  {
   "cell_type": "markdown",
   "metadata": {},
   "source": [
    "# FUNÇÕES (CONT.)\n",
    "\n",
    " RETOMANDO DE ONDE PARAMOS"
   ]
  },
  {
   "cell_type": "markdown",
   "metadata": {},
   "source": [
    "### FUNÇÕES AUTO RECURSIVAS"
   ]
  },
  {
   "cell_type": "markdown",
   "metadata": {},
   "source": [
    "- Recursão de função é o caso onde a \n",
    "função chama a própria função.\n",
    " Deve ser usado com MUITO \n",
    "CUIDADO pois é muito provável \n",
    "escrever uma função que nunca termina \n",
    "ou que consuma excessivamente a \n",
    "memória e o processador."
   ]
  },
  {
   "cell_type": "markdown",
   "metadata": {},
   "source": [
    "- Explicação da Função Recursiva `tri_recursion(k)`\n",
    "\n",
    "A função `tri_recursion(k)` é um exemplo clássico de **recursão** em Python, onde a função chama a si mesma para resolver um problema. Vamos detalhar como ela funciona.\n",
    "\n",
    "- 1. O que é Recursão?\n",
    "\n",
    "Recursão é um conceito onde uma função se chama repetidamente até atingir uma condição de **base** (condição de parada). A recursão pode ser útil para dividir problemas em subproblemas menores e mais simples de resolver.\n",
    "\n",
    "- 2. A Função `tri_recursion(k)`\n",
    "\n",
    "O código da função é o seguinte:\n",
    "\n",
    "```python\n",
    "def tri_recursion(k):  # Função recursiva que recebe o parâmetro 'k'\n",
    "    if(k > 0):  # Se o valor de k for maior que 0\n",
    "        result = k + tri_recursion(k - 1)  # Chama a função recursivamente com k-1 e soma o valor de k\n",
    "        print(result)  # Imprime o resultado após a chamada recursiva\n",
    "    else:\n",
    "        result = 0  # Caso k seja igual a 0, a função retorna 0 (isso é chamado de condição base)\n",
    "    return result  # Retorna o valor de 'result' para a chamada anterior\n"
   ]
  },
  {
   "cell_type": "code",
   "execution_count": 6,
   "metadata": {},
   "outputs": [
    {
     "name": "stdout",
     "output_type": "stream",
     "text": [
      "\n",
      "\n",
      "Recursion Example Results\n",
      "1\n",
      "3\n",
      "6\n",
      "10\n",
      "15\n",
      "21\n"
     ]
    },
    {
     "data": {
      "text/plain": [
       "21"
      ]
     },
     "execution_count": 6,
     "metadata": {},
     "output_type": "execute_result"
    }
   ],
   "source": [
    "def tri_recursion(k):\n",
    "    if(k > 0):  # Se k for maior que 0, a função continua a chamada recursiva\n",
    "        result = k + tri_recursion(k - 1)  # Chama a função recursivamente com k-1\n",
    "        print(result)  # Imprime o valor de 'result' após a chamada recursiva\n",
    "    else:\n",
    "        result = 0  # Caso k seja 0, retorna 0 (caso base da recursão)\n",
    "    return result  # Retorna o resultado para a função anterior na recursão\n",
    "\n",
    "print(\"\\n\\nRecursion Example Results\")\n",
    "tri_recursion(6)  # Chama a função com k=6"
   ]
  },
  {
   "cell_type": "markdown",
   "metadata": {},
   "source": [
    "# DocStrings\n",
    " Construindo a documentação\n"
   ]
  },
  {
   "cell_type": "markdown",
   "metadata": {},
   "source": [
    "## Documentação por DocString\n",
    "\n",
    "- **A documentação de códigos, em especial funções, é extremamente importante e auxilia consideravelmente a legibilidade e utilização do código.**\n",
    "- **Uma forma eficiente de documentar funções é através da utilização de DocStrings.**\n",
    "- **DocStrings são diferentes de comentários de código**. Os comentários são ignorados pelo interpretador Python, já **DocStrings são utilizadas em recursos do Python e IDEs**, sendo reconhecidas por ferramentas de documentação, como o próprio Python e IDEs.\n",
    "- **DocStrings devem ser escritas na linha seguinte à linha de definição 'def'**, como um comentário entre aspas triplas, mesmo que ocupe apenas uma linha.\n",
    "\n",
    "### Exemplo de uso de DocString:\n",
    "\n",
    "```python\n",
    "def my_function(param1, param2):\n",
    "    \"\"\"\n",
    "    Esta é uma função de exemplo que soma dois números.\n",
    "    \n",
    "    Parameters:\n",
    "    param1 (int, float): O primeiro número.\n",
    "    param2 (int, float): O segundo número.\n",
    "    \n",
    "    Returns:\n",
    "    int, float: A soma de param1 e param2.\n",
    "    \"\"\"\n",
    "    return param1 + param2"
   ]
  },
  {
   "cell_type": "markdown",
   "metadata": {},
   "source": [
    "## DOCUMENTAÇÃO POR DOCSTRINGS\n",
    "\n",
    "- **DocStrings devem ser escritas na linha seguinte à linha de definição 'def'**, como um comentário entre aspas triplas, mesmo que ocupe apenas uma linha.\n",
    "- **Existem regras, convenções e guias de estilo para criação de uma DocString**.\n",
    "- **PEP257**: A PEP 257 é a convenção oficial para DocStrings em Python, definindo boas práticas para documentação de código.\n",
    "\n",
    "### Algumas regras importantes a lembrar:\n",
    "- **Sempre use aspas triplas (strings multilinha)**, mesmo que a DocString ocupe apenas uma linha. Isso facilita uma possível expansão posterior.\n",
    "- **As aspas triplas que finalizam uma DocString em múltiplas linhas devem estar em uma linha separada**.\n",
    "\n",
    "### Exemplo de DocString:\n",
    "\n",
    "```python\n",
    "def exemplo_de_funcao(param):\n",
    "    \"\"\"\n",
    "    Esta função exemplifica a documentação por DocString.\n",
    "    \n",
    "    Parameters:\n",
    "    param (str): A string que será processada.\n",
    "    \n",
    "    Returns:\n",
    "    str: A string processada.\n",
    "    \"\"\"\n",
    "    return param.upper()"
   ]
  },
  {
   "cell_type": "markdown",
   "metadata": {},
   "source": [
    "## DOCUMENTAÇÃO POR DOCSTRINGS\n",
    "\n",
    "- **DocStrings podem ser acessadas através do atributo `__doc__` ou pela função `help()`**."
   ]
  },
  {
   "cell_type": "code",
   "execution_count": 2,
   "metadata": {},
   "outputs": [
    {
     "name": "stdout",
     "output_type": "stream",
     "text": [
      "Takes in a number n, returns the square of n\n",
      "Prints the values to a stream, or to sys.stdout by default.\n",
      "\n",
      "  sep\n",
      "    string inserted between values, default a space.\n",
      "  end\n",
      "    string appended after the last value, default a newline.\n",
      "  file\n",
      "    a file-like object (stream); defaults to the current sys.stdout.\n",
      "  flush\n",
      "    whether to forcibly flush the stream.\n"
     ]
    }
   ],
   "source": [
    "### Exemplo de código para acessar DocStrings:\n",
    "def square(n):\n",
    "    '''Takes in a number n, returns the square of n'''\n",
    "    return n**2\n",
    "\n",
    "# Acessando a DocString usando o atributo '__doc__'\n",
    "print(square.__doc__)  # Imprime a documentação da função 'square'\n",
    "\n",
    "# Acessando a DocString de outra função, como 'print', usando o '__doc__'\n",
    "print(print.__doc__)  # Imprime a documentação da função 'print'"
   ]
  },
  {
   "cell_type": "code",
   "execution_count": 3,
   "metadata": {},
   "outputs": [],
   "source": [
    "## DOCUMENTAÇÃO POR DOCSTRINGS\n",
    "\n",
    "### Exemplo de DocString em uma única linha:\n",
    "\n",
    "def multiplier(a, b):\n",
    "    \"\"\"Takes in two numbers, returns their product.\"\"\"\n",
    "    return a * b\n"
   ]
  },
  {
   "cell_type": "markdown",
   "metadata": {},
   "source": [
    "## DOCUMENTAÇÃO POR DOCSTRINGS\n",
    "\n",
    "### Exemplo de DocString em várias linhas (multi-line):"
   ]
  },
  {
   "cell_type": "code",
   "execution_count": 4,
   "metadata": {},
   "outputs": [],
   "source": [
    "def add_binary(a, b):\n",
    "    '''\n",
    "    Returns the sum of two\n",
    "    decimal numbers in binary\n",
    "    digits.\n",
    "\n",
    "    DOCUMENTAÇÃO POR DOCSTRINGS\n",
    "    Parameters:\n",
    "    a (int): A decimal integer\n",
    "    b (int): Another decimal integer\n",
    "\n",
    "    Returns:\n",
    "    binary_sum (str): Binary string of the sum of a and b\n",
    "    '''\n",
    "    binary_sum = bin(a + b)[2:]\n",
    "    return binary_sum"
   ]
  },
  {
   "cell_type": "markdown",
   "metadata": {},
   "source": [
    "## FUNÇÃO **ENUMERATE**\n",
    "\n",
    "- **A função `enumerate()`** pega uma coleção (como uma lista, tupla ou string) e a retorna como um **objeto enumerado**, ou seja, ela gera um iterador que retorna pares de índice e valor, o que é útil quando você precisa acessar o índice de cada item enquanto percorre a coleção.\n",
    "\n",
    "### Exemplo de uso:"
   ]
  },
  {
   "cell_type": "code",
   "execution_count": 5,
   "metadata": {},
   "outputs": [
    {
     "name": "stdout",
     "output_type": "stream",
     "text": [
      "[(0, 'APPLE'), (1, 'BANANA'), (2, 'CHERRY')]\n"
     ]
    }
   ],
   "source": [
    "x = ('APPLE', 'BANANA', 'CHERRY')\n",
    "y = enumerate(x)  # Cria um objeto enumerado\n",
    "\n",
    "print(list(y))  # Converte o objeto enumerado para uma lista e imprime"
   ]
  },
  {
   "cell_type": "markdown",
   "metadata": {},
   "source": [
    "## DESAFIO (15 MIN)\n",
    "\n",
    "### Auto-média ou soma\n",
    "\n",
    "- **Objetivo**: Escreva uma função que receba uma quantidade não definida de valores numéricos e, por padrão, retorne a média entre eles. Caso um argumento específico seja passado por uma palavra-chave, ela deve retornar a soma entre esses números."
   ]
  },
  {
   "cell_type": "markdown",
   "metadata": {},
   "source": [
    "### Sumário\n",
    "\n",
    "- **Função lambda**\n",
    "- **Funções nativas**\n",
    "- **Classes e Objetos**\n",
    "   - Herança\n",
    "- **Encapsulamento**\n",
    "- **Polimorfismo**\n",
    "- **Iteradores**\n",
    "- **Módulos / Bibliotecas**\n",
    "    - Crie as suas\n",
    "- **Integradas**\n",
    "    - os\n",
    "    - DateTime\n",
    "    - JSON\n",
    "    - RegEx\n",
    "    - Random\n",
    "    - Requests\n",
    "    - Statistics\n",
    "    - Math\n",
    "    - Cmath\n",
    "- **Comando PIP**\n"
   ]
  },
  {
   "cell_type": "markdown",
   "metadata": {},
   "source": [
    "### Função `lambda` em Python\n",
    "\n",
    "A função `lambda` em Python é uma forma de criar funções pequenas e anônimas (sem nome). Ela é frequentemente utilizada para operações simples e quando você precisa de uma função temporária. A principal vantagem da função `lambda` é sua sintaxe concisa.\n",
    "\n",
    "#### Sintaxe:\n",
    "\n",
    "```python\n",
    "lambda argumentos: expressão\n"
   ]
  },
  {
   "cell_type": "markdown",
   "metadata": {},
   "source": [
    "- **argumentos**: São os parâmetros que a função irá receber. Eles são definidos antes dos dois pontos na sintaxe da função `lambda`.\n",
    "\n",
    "- **expressão**: É o valor que a função retorna. A função `lambda` é limitada a uma única expressão, ou seja, não pode conter múltiplas instruções ou comandos. Ela retorna automaticamente o resultado dessa expressão, sem a necessidade de usar a palavra-chave `return`.\n"
   ]
  },
  {
   "cell_type": "code",
   "execution_count": 7,
   "metadata": {},
   "outputs": [
    {
     "name": "stdout",
     "output_type": "stream",
     "text": [
      "7\n"
     ]
    }
   ],
   "source": [
    "# Função lambda para somar dois números\n",
    "soma = lambda x, y: x + y\n",
    "\n",
    "# Usando a função lambda\n",
    "print(soma(3, 4))  # Saída: 7\n"
   ]
  },
  {
   "cell_type": "markdown",
   "metadata": {},
   "source": [
    "### O que é Instanciar uma Função `lambda`?\n",
    "\n",
    "Instanciar uma função `lambda` significa criar uma instância dessa função anônima e atribuí-la a uma variável, permitindo que ela seja chamada ou utilizada em outras partes do código, assim como uma função tradicional definida com `def`. A principal diferença é que a função `lambda` é uma expressão anônima e mais concisa, usada para operações simples e temporárias.\n",
    "\n",
    "Quando \"instanciamos\" uma função `lambda`, estamos criando uma referência para essa função e associando-a a um nome, o que permite que ela seja chamada como uma função normal.\n",
    "\n",
    "#### Exemplo de como instanciar uma função `lambda`:"
   ]
  },
  {
   "cell_type": "code",
   "execution_count": 8,
   "metadata": {},
   "outputs": [
    {
     "name": "stdout",
     "output_type": "stream",
     "text": [
      "15\n"
     ]
    }
   ],
   "source": [
    "# Instanciando uma função lambda e atribuindo a uma variável\n",
    "multiplicar = lambda x, y: x * y\n",
    "\n",
    "# Chamando a função lambda instanciada\n",
    "resultado = multiplicar(5, 3)\n",
    "\n",
    "print(resultado)  # Saída: 15"
   ]
  },
  {
   "cell_type": "markdown",
   "metadata": {},
   "source": [
    "### Por que usar funções `lambda` em Python?\n",
    "\n",
    "- O poder do lambda é melhor demonstrado quando você a usa como uma função anônima dentro de outra função.\n",
    "\n",
    "- Digamos que você tenha uma definição de função que receba um argumento e esse argumento será multiplicado por um número desconhecido:"
   ]
  },
  {
   "cell_type": "code",
   "execution_count": 9,
   "metadata": {},
   "outputs": [
    {
     "name": "stdout",
     "output_type": "stream",
     "text": [
      "22\n"
     ]
    }
   ],
   "source": [
    "def myfunc(n):\n",
    "  return lambda a : a * n\n",
    "\n",
    "mydoubler = myfunc(2)\n",
    "\n",
    "print(mydoubler(11))"
   ]
  },
  {
   "cell_type": "markdown",
   "metadata": {},
   "source": [
    "- O equivalente sem usar lambda, usando duas funções aninhadas:"
   ]
  },
  {
   "cell_type": "code",
   "execution_count": 10,
   "metadata": {},
   "outputs": [
    {
     "name": "stdout",
     "output_type": "stream",
     "text": [
      "22\n"
     ]
    }
   ],
   "source": [
    "def myfunc(n):\n",
    "  def inner_func(a):\n",
    "    return a * n\n",
    "  return inner_func\n",
    "\n",
    "mydoubler = myfunc(2)\n",
    "\n",
    "print(mydoubler(11))"
   ]
  },
  {
   "cell_type": "markdown",
   "metadata": {},
   "source": [
    "- Neste caso, `inner_func` é uma função definida dentro de `myfunc` que multiplica seu argumento a pelo parâmetro n de `myfunc`.\n",
    "\n",
    "- Quando `myfunc` é chamada com o argumento 2, ela retorna `inner_func`."
   ]
  },
  {
   "cell_type": "markdown",
   "metadata": {},
   "source": [
    "### Funções Nativas do Python\n",
    "\n",
    "1. **`abs()`** - Retorna o valor absoluto de um número.\n",
    "2. **`all()`** - Retorna `True` se todos os elementos de um iterável são verdadeiros.\n",
    "3. **`any()`** - Retorna `True` se qualquer elemento de um iterável for verdadeiro.\n",
    "4. **`ascii()`** - Retorna uma representação de string legível para um objeto (sem caracteres especiais).\n",
    "5. **`bin()`** - Converte um número inteiro em uma string representando seu valor binário.\n",
    "6. **`bool()`** - Converte um valor para o tipo booleano (`True` ou `False`).\n",
    "7. **`bytearray()`** - Retorna um objeto `bytearray` de um iterável.\n",
    "8. **`bytes()`** - Retorna um objeto imutável de bytes.\n",
    "9. **`callable()`** - Verifica se um objeto pode ser chamado (se é uma função ou método).\n",
    "10. **`chr()`** - Converte um número inteiro em seu caractere Unicode correspondente.\n",
    "11. **`classmethod()`** - Retorna uma versão modificada de um método como método de classe.\n",
    "12. **`compile()`** - Compila uma string de código fonte em um objeto de código Python.\n",
    "13. **`complex()`** - Converte um número ou string para um número complexo.\n",
    "14. **`delattr()`** - Exclui um atributo de um objeto.\n",
    "15. **`dict()`** - Cria um dicionário a partir de um iterável ou a partir de pares chave-valor.\n",
    "16. **`dir()`** - Retorna uma lista de atributos válidos de um objeto.\n",
    "17. **`divmod()`** - Retorna o quociente e o resto da divisão de dois números.\n",
    "18. **`enumerate()`** - Retorna um objeto enumerado (índice + valor) de um iterável.\n",
    "19. **`eval()`** - Avalia uma string como expressão Python e retorna o resultado.\n",
    "20. **`exec()`** - Executa um código Python dinamicamente (a partir de uma string ou código compilado).\n",
    "21. **`filter()`** - Filtra elementos de um iterável de acordo com uma função.\n",
    "22. **`float()`** - Converte um número ou string para um número de ponto flutuante.\n",
    "23. **`format()`** - Formata uma string usando placeholders.\n",
    "24. **`frozenset()`** - Retorna uma versão imutável de um conjunto.\n",
    "25. **`getattr()`** - Retorna o valor de um atributo de um objeto.\n",
    "26. **`globals()`** - Retorna o dicionário global atual.\n",
    "27. **`hasattr()`** - Verifica se um objeto possui um atributo específico.\n",
    "28. **`hash()`** - Retorna o valor do hash de um objeto.\n",
    "29. **`help()`** - Invoca o sistema de ajuda interativo do Python.\n",
    "30. **`hex()`** - Converte um número inteiro para uma string representando seu valor hexadecimal.\n",
    "31. **`id()`** - Retorna o identificador único de um objeto.\n",
    "32. **`input()`** - Recebe uma entrada do usuário (como string).\n",
    "33. **`int()`** - Converte um número ou string para um número inteiro.\n",
    "34. **`isinstance()`** - Verifica se um objeto é uma instância de uma classe ou de uma tupla de classes.\n",
    "35. **`issubclass()`** - Verifica se uma classe é subclasse de outra.\n",
    "36. **`iter()`** - Retorna um iterador para um objeto.\n",
    "37. **`len()`** - Retorna o número de itens em um objeto (como uma lista ou string).\n",
    "38. **`list()`** - Cria uma lista a partir de um iterável.\n",
    "39. **`locals()`** - Retorna o dicionário local atual.\n",
    "40. **`map()`** - Aplica uma função a todos os itens de um iterável.\n",
    "41. **`max()`** - Retorna o maior item de um iterável ou o maior de dois ou mais argumentos.\n",
    "42. **`memoryview()`** - Retorna um objeto de visualização de memória.\n",
    "43. **`min()`** - Retorna o menor item de um iterável ou o menor de dois ou mais argumentos.\n",
    "44. **`next()`** - Retorna o próximo item de um iterador.\n",
    "45. **`object()`** - Retorna um novo objeto vazio.\n",
    "46. **`oct()`** - Converte um número inteiro para uma string representando seu valor octal.\n",
    "47. **`open()`** - Abre um arquivo e retorna um objeto de arquivo.\n",
    "48. **`ord()`** - Retorna o valor Unicode de um caractere.\n",
    "49. **`pow()`** - Retorna o valor de `x` elevado a `y`, opcionalmente modulado por `z`.\n",
    "50. **`print()`** - Imprime os valores passados para a saída padrão (console).\n",
    "51. **`property()`** - Retorna um objeto de propriedade.\n",
    "52. **`range()`** - Retorna uma sequência de números inteiros.\n",
    "53. **`repr()`** - Retorna uma string representando um objeto, apta para depuração.\n",
    "54. **`reversed()`** - Retorna um iterador que acessa os itens de um iterável na ordem reversa.\n",
    "55. **`round()`** - Arredonda um número para o número de dígitos especificado.\n",
    "56. **`set()`** - Cria um conjunto a partir de um iterável.\n",
    "57. **`setattr()`** - Define o valor de um atributo de um objeto.\n",
    "58. **`slice()`** - Retorna um objeto de fatia, usado para acessar subsequências.\n",
    "59. **`sorted()`** - Retorna uma lista ordenada a partir de um iterável.\n",
    "60. **`staticmethod()`** - Retorna um método estático para uma classe.\n",
    "61. **`str()`** - Converte um objeto para uma string.\n",
    "62. **`sum()`** - Soma os itens de um iterável.\n",
    "63. **`super()`** - Retorna um objeto proxy para a classe pai.\n",
    "64. **`tuple()`** - Cria uma tupla a partir de um iterável.\n",
    "65. **`type()`** - Retorna o tipo de um objeto.\n",
    "66. **`vars()`** - Retorna o dicionário de atributos de um objeto.\n",
    "67. **`zip()`** - Junta dois ou mais iteráveis em tuplas, criando um iterador.\n",
    "68. **`__import__()`** - Importa um módulo.\n"
   ]
  },
  {
   "cell_type": "markdown",
   "metadata": {},
   "source": [
    "## **Classes e Objetos em Python**\n",
    "\n",
    "Python, sendo uma linguagem de programação orientada a objetos, oferece um suporte robusto para classes e objetos. Quase tudo no Python é, na verdade, um **objeto** com suas próprias **características** (propriedades/atributos) e **métodos**.\n",
    "\n",
    "### **O que são Classes e Objetos?**\n",
    "\n",
    "- **Classes**: \n",
    "  - Classes são como **blueprints** (modelos) para criar objetos. Elas definem (instanciam) **atributos** (dados) e **métodos** (funções) que os objetos criados a partir dela terão.\n",
    "  - Em termos simples, uma classe pode ser vista como a definição de uma estrutura, enquanto o objeto é uma instância dessa estrutura.\n",
    "  \n",
    "- **Objetos**:\n",
    "  - Objetos são **instâncias de classes**. Eles são criados a partir do molde definido pela classe e podem ter **estados** e **comportamentos** únicos.\n",
    "  - Cada objeto pode ter diferentes valores para os atributos e pode usar os métodos definidos pela classe.\n",
    "\n",
    "---\n",
    "\n",
    "### **Exemplo Prático de Classe e Objeto em Python**\n",
    "\n",
    "```python\n",
    "# Definindo uma classe chamada Carro\n",
    "class Carro:\n",
    "    def __init__(self, modelo, cor):\n",
    "        self.modelo = modelo  # Atributo\n",
    "        self.cor = cor        # Atributo\n",
    "\n",
    "    def exibir_informacoes(self):\n",
    "        print(f\"Modelo: {self.modelo}, Cor: {self.cor}\")  # Método\n",
    "\n",
    "# Criando objetos (instâncias) da classe Carro\n",
    "carro1 = Carro(\"Fusca\", \"Azul\")\n",
    "carro2 = Carro(\"Civic\", \"Preto\")\n",
    "\n",
    "# Acessando atributos e métodos dos objetos\n",
    "carro1.exibir_informacoes()  # Saída: Modelo: Fusca, Cor: Azul\n",
    "carro2.exibir_informacoes()  # Saída: Modelo: Civic, Cor: Preto\n"
   ]
  }
 ],
 "metadata": {
  "kernelspec": {
   "display_name": "Python 3",
   "language": "python",
   "name": "python3"
  },
  "language_info": {
   "codemirror_mode": {
    "name": "ipython",
    "version": 3
   },
   "file_extension": ".py",
   "mimetype": "text/x-python",
   "name": "python",
   "nbconvert_exporter": "python",
   "pygments_lexer": "ipython3",
   "version": "3.13.2"
  }
 },
 "nbformat": 4,
 "nbformat_minor": 2
}
