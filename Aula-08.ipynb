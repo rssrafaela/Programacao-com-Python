{
 "cells": [
  {
   "cell_type": "markdown",
   "metadata": {},
   "source": [
    "### Desafio (30min)\n",
    " • \"O Jogo de Adivinhação\"\n",
    " • Crie um jogo de adivinhação onde o \n",
    "computador escolhe um número entre 1 e 100, e \n",
    "o usuário tem que adivinhar o número. O \n",
    "programa deve informar se o palpite do usuário \n",
    "é muito alto, muito baixo, ou correto. Além \n",
    "disso, o jogo deve limitar o número de tentativas \n",
    "do usuário.\n",
    " • Para gerar um número aleatório inclua o \n",
    "seguinte no início do código:\n",
    " import random\n",
    " numero_secreto =random.randint(1, 100)\n",
    "\n",
    "\n",
    "\n",
    "\n",
    "### Módulo random, que tem funções para gerar números aleatórios.\n",
    "### A função randint() é uma função do módulo random em Python, usada para gerar números inteiros aleatórios dentro de um intervalo específico."
   ]
  },
  {
   "cell_type": "code",
   "execution_count": null,
   "metadata": {},
   "outputs": [],
   "source": [
    "import random\n",
    "\n",
    "tentativas = 0\n",
    "tentativa_max = 10\n",
    "\n",
    "numero_sorteado = random.randint(1, 100)\n",
    "\n",
    "acertos = False # Acertos = False: Aqui, estamos criando uma variável para controlar se o usuário já acertou o número. Inicialmente, o valor é False porque o usuário ainda não acertou o número.\n",
    "\n",
    "while tentativas < tentativa_max and not acertos: # while tentativas < tentativa_max and not acertos:: Esse while cria um loop que vai continuar rodando até que o número de tentativas seja maior ou igual ao número máximo (tentativa_max) ou até que o usuário acerte o número (acertos seja True).\n",
    "  try: # try: e except Exception:: Isso é um bloco para tratar erros. O input() pede para o usuário digitar um número, mas pode ser que o usuário digite algo que não seja um número válido (como texto).\n",
    "    numero_usuario = int(input('Por favor, digite o número sorteado'))\n",
    "  except Exception: # Se o usuário não digitar um número válido, o código entra no bloco except, que exibe a mensagem \"Entrada inválida, digite um número\" e usa o continue para continuar o loop, pedindo novamente um número.\n",
    "    print('Entrada invalida, digite um número')\n",
    "    continue\n",
    "  tentativas += 1 # Toda vez que o usuário faz uma tentativa, o contador de tentativas aumenta em 1.\n",
    "\n",
    "  if numero_usuario == numero_sorteado:\n",
    "    acertos = True\n",
    "    print(f'Parabéns, você acertou o número: {numero_sorteado}')\n",
    "  elif numero_usuario > numero_sorteado:\n",
    "    print('Número maior que o sorteado')\n",
    "  else:\n",
    "    print('Número menor que o sorteado')\n",
    "if not acertos: # Se, após o número máximo de tentativas, o usuário não tiver acertado o número (acertos ainda for False), o programa exibe o número sorteado.\n",
    "\n",
    "  print(f'Número de tentativas esgotados o número sorteado é {numero_sorteado}')\n",
    "\n"
   ]
  },
  {
   "cell_type": "markdown",
   "metadata": {},
   "source": [
    "### for x in y:\n",
    "\n",
    "Iterando através da sequência"
   ]
  },
  {
   "cell_type": "markdown",
   "metadata": {},
   "source": [
    "### Loop 'for'\n",
    "\n",
    "- O loop for é usado para iterar (executar diversas vezes) sobre uma sequência(que pode ser uma lista, uma tupla, um dicionário, um conjunto ou uma string).\n",
    "- Ou seja, o código dentro do 'for' será executado tantas vezes quanto os valores possíveis para a variável iterada"
   ]
  },
  {
   "cell_type": "markdown",
   "metadata": {},
   "source": [
    "A função range(start, stop, step) em Python gera uma sequência de números:\n",
    "\n",
    "start: O valor inicial da sequência (inclusivo).\n",
    "\n",
    "stop: O valor final da sequência (exclusivo).\n",
    "\n",
    "step: O valor de incremento (opcional, o valor padrão é 1)."
   ]
  },
  {
   "cell_type": "code",
   "execution_count": null,
   "metadata": {},
   "outputs": [
    {
     "name": "stdout",
     "output_type": "stream",
     "text": [
      "1\n",
      "2\n",
      "3\n",
      "4\n",
      "5\n"
     ]
    }
   ],
   "source": [
    "# Exemplo de range\n",
    "for i in range(1, 6):\n",
    "  print(i)\n",
    "\n",
    "# Exemplo de lista\n",
    "for x in [0, 1, 2]:\n",
    "  pass"
   ]
  },
  {
   "cell_type": "code",
   "execution_count": null,
   "metadata": {},
   "outputs": [
    {
     "name": "stdout",
     "output_type": "stream",
     "text": [
      "1\n",
      "3\n",
      "5\n",
      "7\n",
      "9\n"
     ]
    }
   ],
   "source": [
    "for rafa in range(1, 10, 2):\n",
    "  print(rafa)"
   ]
  },
  {
   "cell_type": "markdown",
   "metadata": {},
   "source": [
    "Dentro do loop, x vai recebendo os valores 'b', 'a', 'n', 'a', 'n', 'a' de cada caractere da string.\n",
    "\n",
    "Após o loop, a variável x mantém o valor da última iteração ('a'), e é isso que é impresso fora do loop."
   ]
  },
  {
   "cell_type": "code",
   "execution_count": 12,
   "metadata": {},
   "outputs": [
    {
     "name": "stdout",
     "output_type": "stream",
     "text": [
      "b\n",
      "a\n",
      "n\n",
      "a\n",
      "n\n",
      "a\n",
      "ainda ta aqui o:  a\n"
     ]
    }
   ],
   "source": [
    "# Exemplo de string\n",
    "\n",
    "for x in \"banana\":\n",
    "  print(x)\n",
    "\n",
    "print('ainda ta aqui o: ', x)"
   ]
  },
  {
   "cell_type": "code",
   "execution_count": 23,
   "metadata": {},
   "outputs": [
    {
     "name": "stdout",
     "output_type": "stream",
     "text": [
      "0\n",
      "1\n",
      "5\n",
      "5\n"
     ]
    }
   ],
   "source": [
    "# Acessando o item do índice da lista\n",
    "\n",
    "lista = [0, 1, 5]\n",
    "\n",
    "for x in lista:\n",
    "  print(x)\n",
    "\n",
    "print(lista[2])  # Aqui estamos acessando o item no índice 2 da lista original\n"
   ]
  },
  {
   "cell_type": "markdown",
   "metadata": {},
   "source": [
    "### range()"
   ]
  },
  {
   "cell_type": "code",
   "execution_count": 24,
   "metadata": {},
   "outputs": [
    {
     "data": {
      "text/plain": [
       "range(2, 30, 3)"
      ]
     },
     "execution_count": 24,
     "metadata": {},
     "output_type": "execute_result"
    }
   ],
   "source": [
    "range(6) # Retorna [0, 1, 2, 3, 4, 5]\n",
    "\n",
    "# range (valor_inicial, valor_final)\n",
    "range(2, 6) # Retorna [2, 3, 4, 5]\n",
    "\n",
    "# range(valor_inicial, valor_final_ incremento)\n",
    "range(2, 30, 3) # Retorna [2, 5, 8, 11, 14, 14, 17, 20, 23, 26, 29]"
   ]
  },
  {
   "cell_type": "markdown",
   "metadata": {},
   "source": [
    "### range(0, 6) != [0, 1, 2, 3, 4, 5]"
   ]
  },
  {
   "cell_type": "markdown",
   "metadata": {},
   "source": [
    "O objeto range não é uma lista diretamente. Ele é um \"objeto iterável\" que gera os números sob demanda, e não os armazena na memória imediatamente. Ou seja, ele é eficiente em termos de memória, pois não cria uma lista com todos os números de uma vez, mas sim cria cada número quando necessário.\n",
    "\n",
    "print(range(6)) imprime a representação do objeto range, e não os números em si."
   ]
  },
  {
   "cell_type": "code",
   "execution_count": null,
   "metadata": {},
   "outputs": [
    {
     "name": "stdout",
     "output_type": "stream",
     "text": [
      "range(0, 6)\n"
     ]
    }
   ],
   "source": [
    "# Retorna o objeto range\n",
    "print(range(6))"
   ]
  },
  {
   "cell_type": "markdown",
   "metadata": {},
   "source": [
    "Convertendo para uma lista"
   ]
  },
  {
   "cell_type": "markdown",
   "metadata": {},
   "source": [
    "list é a função embutida do Python que converte objetos iteráveis (como range) em listas.\n",
    "\n",
    "list(range(6)) é apenas uma expressão que converte o objeto range em uma lista contendo os números de 0 até 5."
   ]
  },
  {
   "cell_type": "code",
   "execution_count": 28,
   "metadata": {},
   "outputs": [
    {
     "name": "stdout",
     "output_type": "stream",
     "text": [
      "[0, 1, 2, 3, 4, 5]\n"
     ]
    }
   ],
   "source": [
    "print(list(range(6)))"
   ]
  },
  {
   "cell_type": "code",
   "execution_count": 35,
   "metadata": {},
   "outputs": [
    {
     "name": "stdout",
     "output_type": "stream",
     "text": [
      "(0, 1, 2, 3, 4, 5)\n"
     ]
    }
   ],
   "source": [
    "# Transformando o range em uma tupla\n",
    "\n",
    "print(tuple(range(6)))"
   ]
  },
  {
   "cell_type": "markdown",
   "metadata": {},
   "source": [
    "### Sequências \n",
    "\n",
    "- Lista, tupla, dicionário e set."
   ]
  },
  {
   "cell_type": "markdown",
   "metadata": {},
   "source": [
    "### Sequências a iterar\n",
    "\n",
    "- Além da sequência numérica e a string (sequência de caraacteres), o 'for' pode iterar através de uma lista, uma tupla, um dicionário ou um set.\n",
    "- As variáveis de conjuntos possuem diversas características e operações próprias."
   ]
  },
  {
   "cell_type": "markdown",
   "metadata": {},
   "source": [
    "### Tipos Sequenciais em Python\n",
    "Python oferece diversos tipos de dados que são usados para armazenar sequências de elementos. Cada tipo tem características e comportamentos diferentes. Abaixo estão alguns dos tipos sequenciais mais comuns:"
   ]
  },
  {
   "cell_type": "markdown",
   "metadata": {},
   "source": [
    "- list: Sequência mutável e heterogênea, o que significa que você pode alterar seus elementos e ela pode conter diferentes tipos de dados (como números, strings, etc.)."
   ]
  },
  {
   "cell_type": "code",
   "execution_count": 33,
   "metadata": {},
   "outputs": [],
   "source": [
    "minha_lista = [1, \"banana\", 3.14]"
   ]
  },
  {
   "cell_type": "markdown",
   "metadata": {},
   "source": [
    "- tuple: Sequência imutável e heterogênea, ou seja, você não pode modificar seus elementos depois de criada, mas ela pode conter diferentes tipos de dados."
   ]
  },
  {
   "cell_type": "code",
   "execution_count": 43,
   "metadata": {},
   "outputs": [],
   "source": [
    "minha_tupla = (1, \"banana\", 3.14)"
   ]
  },
  {
   "cell_type": "markdown",
   "metadata": {},
   "source": [
    "- range: Sequência imutável de números inteiros, usada para gerar números em uma faixa específica. Pode ser transformada em uma lista."
   ]
  },
  {
   "cell_type": "code",
   "execution_count": 34,
   "metadata": {},
   "outputs": [],
   "source": [
    "minha_range = range(1, 6)"
   ]
  },
  {
   "cell_type": "markdown",
   "metadata": {},
   "source": [
    "- set: Conjunto não ordenado de elementos únicos, ou seja, não aceita valores duplicados e não garante a ordem dos elementos."
   ]
  },
  {
   "cell_type": "code",
   "execution_count": 42,
   "metadata": {},
   "outputs": [],
   "source": [
    "meu_set = {1, 2, 3, 4}"
   ]
  },
  {
   "cell_type": "markdown",
   "metadata": {},
   "source": [
    "- frozenset: Semelhante ao set, mas imutável, ou seja, você não pode adicionar ou remover elementos depois de criado."
   ]
  },
  {
   "cell_type": "code",
   "execution_count": 41,
   "metadata": {},
   "outputs": [],
   "source": [
    "meu_frozenset = frozenset([1, 2, 3])"
   ]
  },
  {
   "cell_type": "markdown",
   "metadata": {},
   "source": [
    "- str e unicode: Sequências imutáveis de caracteres (strings). No Python 3, todas as strings são tratadas como Unicode por padrão, permitindo o uso de caracteres de diferentes idiomas e símbolos especiais."
   ]
  },
  {
   "cell_type": "code",
   "execution_count": 40,
   "metadata": {},
   "outputs": [],
   "source": [
    "minha_string = \"olá\""
   ]
  },
  {
   "cell_type": "markdown",
   "metadata": {},
   "source": [
    "- bytes: Sequência imutável de dados binários (valores de 0 a 255). Normalmente usada para manipular dados de baixo nível, como arquivos ou comunicação de rede."
   ]
  },
  {
   "cell_type": "code",
   "execution_count": 39,
   "metadata": {},
   "outputs": [],
   "source": [
    "meus_bytes = b\"python\""
   ]
  },
  {
   "cell_type": "markdown",
   "metadata": {},
   "source": [
    "- bytearray: Sequência mutável de dados binários, que pode ser modificada depois de criada."
   ]
  },
  {
   "cell_type": "code",
   "execution_count": 36,
   "metadata": {},
   "outputs": [],
   "source": [
    "meu_bytearray = bytearray([65, 66, 67]) # (equivalente a 'ABC')."
   ]
  },
  {
   "cell_type": "markdown",
   "metadata": {},
   "source": [
    "- memoryview: Permite acessar partes de dados binários sem criar cópias, o que é útil para trabalhar com grandes volumes de dados de maneira eficiente."
   ]
  },
  {
   "cell_type": "code",
   "execution_count": 37,
   "metadata": {},
   "outputs": [],
   "source": [
    "meu_memoryview = memoryview(b\"python\")"
   ]
  },
  {
   "cell_type": "markdown",
   "metadata": {},
   "source": [
    "- dict: Tipo de dados associativo, que armazena pares de chave-valor. Útil para representar dados relacionados, como um cadastro de pessoa, onde você pode acessar valores usando chaves."
   ]
  },
  {
   "cell_type": "code",
   "execution_count": 38,
   "metadata": {},
   "outputs": [],
   "source": [
    "meu_dict = {\"nome\": \"João\", \"idade\": 25, \"cidade\": \"São Paulo\"}"
   ]
  },
  {
   "cell_type": "markdown",
   "metadata": {},
   "source": [
    "### Lista\n",
    "\n",
    "- As listas são usadas para armazenas vários itens em uma única variável\n",
    "- Listas são um dos 4 tipos de dados integrados em Python usados para armazenar coleções de dados, os outros 3 são Tuple, Set e Dictionary, todos com qualidades e usos diferentes.\n",
    "- Os itens da lista são ordenados, alteráveis e permitem valores duplicados.\n",
    "- Os itens da lista são indexados, o primeiro item possui index [0], o segundo item possui index [1] etc.\n",
    "- Listas são mutáveis\n",
    "- Permitem duplicadas"
   ]
  },
  {
   "cell_type": "code",
   "execution_count": 44,
   "metadata": {},
   "outputs": [
    {
     "name": "stdout",
     "output_type": "stream",
     "text": [
      "['apple', 'banana', 'cherry']\n"
     ]
    }
   ],
   "source": [
    "# As listas são criadas usando colchetes:\n",
    "\n",
    "thislist = [\"apple\", \"banana\", \"cherry\"]\n",
    "print(thislist)"
   ]
  },
  {
   "cell_type": "code",
   "execution_count": 45,
   "metadata": {},
   "outputs": [
    {
     "name": "stdout",
     "output_type": "stream",
     "text": [
      "['apple', 'banana', 'cherry']\n"
     ]
    }
   ],
   "source": [
    "# Listas também podem ser criadas com o construtor 'list()'\n",
    "\n",
    "thislist = list((\"apple\", \"banana\", \"cherry\"))\n",
    "print(thislist)\n"
   ]
  },
  {
   "cell_type": "code",
   "execution_count": null,
   "metadata": {},
   "outputs": [
    {
     "name": "stdout",
     "output_type": "stream",
     "text": [
      "<class 'tuple'>\n",
      "['gato', 'cachorro', 'papagaio']\n",
      "<class 'list'>\n"
     ]
    }
   ],
   "source": [
    "# Alterando o tipo\n",
    "coisa = (\"gato\", \"cachorro\", \"papagaio\")\n",
    "print(type(coisa))\n",
    "\n",
    "outra_coisa = list(coisa)\n",
    "print(outra_coisa)\n",
    "print(type(outra_coisa))"
   ]
  },
  {
   "cell_type": "code",
   "execution_count": null,
   "metadata": {},
   "outputs": [
    {
     "name": "stdout",
     "output_type": "stream",
     "text": [
      "gato\n",
      "cachorro\n",
      "papagaio\n"
     ]
    }
   ],
   "source": [
    "# for e listas\n",
    "\n",
    "thislist = [\"gato\", \"cachorro\", \"papagaio\"]\n",
    "\n",
    "# percorre todos os itens da lista\n",
    "\n",
    "for x in thislist:\n",
    "  print(x)"
   ]
  },
  {
   "cell_type": "code",
   "execution_count": null,
   "metadata": {},
   "outputs": [],
   "source": [
    "# for e listas\n",
    "\n",
    "thislist = [\"gato\", \"cachorro\", \"papagaio\"]\n",
    "\n",
    "# percorre todos os itens da lista\n",
    "\n",
    "for x in thislist:\n",
    "  print(x)"
   ]
  }
 ],
 "metadata": {
  "kernelspec": {
   "display_name": "Python 3",
   "language": "python",
   "name": "python3"
  },
  "language_info": {
   "codemirror_mode": {
    "name": "ipython",
    "version": 3
   },
   "file_extension": ".py",
   "mimetype": "text/x-python",
   "name": "python",
   "nbconvert_exporter": "python",
   "pygments_lexer": "ipython3",
   "version": "3.13.2"
  }
 },
 "nbformat": 4,
 "nbformat_minor": 2
}
