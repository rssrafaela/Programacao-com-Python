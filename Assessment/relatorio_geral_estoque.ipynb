{
 "cells": [
  {
   "cell_type": "markdown",
   "metadata": {},
   "source": [
    "### 16. Relatório geral do estoque: Desenvolva uma função que exiba um relatório geral no terminal, incluindo a descrição, código, quantidade, custo, preço de venda, e o valor total por item (quantidade * preço). O relatório deve usar os métodos .ljust(), .rjust(), método .format() ou métodos semelhantes para formatar a saída de forma organizada. Ao final do relatório, exiba o custo total e o faturamento total do estoque."
   ]
  }
 ],
 "metadata": {
  "language_info": {
   "name": "python"
  }
 },
 "nbformat": 4,
 "nbformat_minor": 2
}
