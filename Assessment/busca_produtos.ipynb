{
 "cells": [
  {
   "cell_type": "markdown",
   "metadata": {},
   "source": [
    "### 6. Busca de produtos: Implemente uma função para buscar produtos no estoque com base na descrição ou código do produto, esta função deve receber parâmetros passados obrigatoriamente por palavra-chave. Caso o produto não seja encontrado, exiba uma mensagem apropriada e caso mais de um produto seja encontrado as informações de todos devem ser exibidas."
   ]
  }
 ],
 "metadata": {
  "language_info": {
   "name": "python"
  }
 },
 "nbformat": 4,
 "nbformat_minor": 2
}
