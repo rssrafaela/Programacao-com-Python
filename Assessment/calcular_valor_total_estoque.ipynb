{
 "cells": [
  {
   "cell_type": "markdown",
   "metadata": {},
   "source": [
    "### 13. Calcular valor total do estoque: Crie uma função que calcule o valor total do estoque, multiplicando a quantidade de cada produto pelo seu preço de venda."
   ]
  }
 ],
 "metadata": {
  "language_info": {
   "name": "python"
  }
 },
 "nbformat": 4,
 "nbformat_minor": 2
}
