{
 "cells": [
  {
   "cell_type": "markdown",
   "metadata": {},
   "source": [
    "### 14. Cálculo do lucro presumido: Crie uma função que calcule o lucro presumido do estoque, considerando a diferença entre o preço de venda e o custo de cada item multiplicado pela quantidade disponível. Exiba o lucro total do estoque no terminal."
   ]
  }
 ],
 "metadata": {
  "language_info": {
   "name": "python"
  }
 },
 "nbformat": 4,
 "nbformat_minor": 2
}
