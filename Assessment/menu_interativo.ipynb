{
 "cells": [
  {
   "cell_type": "markdown",
   "metadata": {},
   "source": [
    "### 5. Menu interativo: Implemente um menu interativo que permita ao usuário escolher qual operação deseja realizar (adicionar, atualizar, listar, buscar, etc.)."
   ]
  }
 ],
 "metadata": {
  "language_info": {
   "name": "python"
  }
 },
 "nbformat": 4,
 "nbformat_minor": 2
}
