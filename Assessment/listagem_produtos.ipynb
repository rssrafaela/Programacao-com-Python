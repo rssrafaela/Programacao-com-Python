{
 "cells": [
  {
   "cell_type": "markdown",
   "metadata": {},
   "source": [
    "### 3. Listagem de produtos: Desenvolva uma função que exiba uma lista de todos os produtos cadastrados, incluindo a descrição, código, quantidade, custo e preço de venda de cada item."
   ]
  }
 ],
 "metadata": {
  "language_info": {
   "name": "python"
  }
 },
 "nbformat": 4,
 "nbformat_minor": 2
}
