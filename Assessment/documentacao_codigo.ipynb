{
 "cells": [
  {
   "cell_type": "markdown",
   "metadata": {},
   "source": [
    "### 15. Documentação de Código: Adicione comentários adequados ao seu código. Além de implementar DocStrings em ao menos 60% das funções criadas."
   ]
  }
 ],
 "metadata": {
  "language_info": {
   "name": "python"
  }
 },
 "nbformat": 4,
 "nbformat_minor": 2
}
