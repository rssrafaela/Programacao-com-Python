{
 "cells": [
  {
   "cell_type": "markdown",
   "metadata": {},
   "source": [
    "### 10. Atualização de estoque: Crie uma função para atualizar a quantidade de um produto específico no estoque. A atualização pode incluir tanto a entrada (aumento) de quantidade quanto a saída (diminuição) da quantidade de produtos."
   ]
  }
 ],
 "metadata": {
  "language_info": {
   "name": "python"
  }
 },
 "nbformat": 4,
 "nbformat_minor": 2
}
