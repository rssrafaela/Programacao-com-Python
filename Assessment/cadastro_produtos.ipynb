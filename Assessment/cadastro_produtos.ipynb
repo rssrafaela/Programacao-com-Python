{
 "cells": [
  {
   "cell_type": "markdown",
   "metadata": {},
   "source": [
    "## Projeto: Sistema de Controle de Estoque\n",
    "\n",
    "### Você foi contratado para desenvolver um sistema em Python para gerenciar o controle de estoque de uma loja de produtos eletrônicos. O sistema deve permitir o cadastro de produtos, a atualização de suas quantidades e preços, a consulta do estoque disponível e a geração de relatórios sobre o estoque e seus valores. O sistema também deve calcular o lucro presumido com base no custo e preço de venda dos produtos. O aluno irá inserir o estoque inicial como uma string, que será processada pelo sistema para carregar os dados de produtos.\n",
    "\n",
    "### Detalhes do sistema:\n",
    "\n",
    "- O estoque inicial será fornecido como uma única string, onde cada produto estará separado por \"#\", e as informações de cada produto estarão separadas por \";\". A string deverá ser convertida na estrutura de dados que você achar mais adequada dentro do programa. O sistema deve permitir o cadastro de novos produtos, bem como a atualização das quantidades e preços de produtos já cadastrados. Além disso, o sistema deve gerar relatórios com informações sobre produtos em falta, produtos abaixo de um determinado limite de quantidade, e calcular o lucro presumido com base no custo e preço dos itens."
   ]
  },
  {
   "cell_type": "markdown",
   "metadata": {},
   "source": [
    "### 1. Cadastro de produtos: Implemente uma função que permita o cadastro de novos produtos. Cada produto deve conter os seguintes atributos: descrição, código, quantidade em estoque, custo do item e preço de venda por item. O código deve ser um identificador único do produto."
   ]
  }
 ],
 "metadata": {
  "language_info": {
   "name": "python"
  }
 },
 "nbformat": 4,
 "nbformat_minor": 2
}
