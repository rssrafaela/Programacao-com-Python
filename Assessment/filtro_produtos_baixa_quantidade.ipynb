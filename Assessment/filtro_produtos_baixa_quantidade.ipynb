{
 "cells": [
  {
   "cell_type": "markdown",
   "metadata": {},
   "source": [
    "### 9. Filtro de produtos com baixa quantidade: Adicione uma função que permita filtrar os produtos com quantidade abaixo de um limite mínimo especificado pelo usuário ou uma quantidade padrão caso o usuário não o forneça e gere um relatório com esses produtos."
   ]
  }
 ],
 "metadata": {
  "language_info": {
   "name": "python"
  }
 },
 "nbformat": 4,
 "nbformat_minor": 2
}
