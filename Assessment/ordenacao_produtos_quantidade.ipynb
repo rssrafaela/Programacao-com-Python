{
 "cells": [
  {
   "cell_type": "markdown",
   "metadata": {},
   "source": [
    "### 4. Ordenação de produtos por quantidade: Desenvolva uma função que permita ao usuário ordenar os produtos pela quantidade disponível no estoque, exibindo a lista em ordem crescente ou decrescente."
   ]
  }
 ],
 "metadata": {
  "language_info": {
   "name": "python"
  }
 },
 "nbformat": 4,
 "nbformat_minor": 2
}
