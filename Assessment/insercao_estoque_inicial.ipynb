{
 "cells": [
  {
   "cell_type": "markdown",
   "metadata": {},
   "source": [
    "### 2. Inserção inicial de estoque: O aluno deve copiar e colar o seguinte bloco de código como string no início do programa para definir o estoque inicial. O sistema deve processar essa string e converter os dados em uma lista de dicionários:\n",
    "\n",
    "estoque_inicial = \"Notebook Dell;201;15;3200.00;4500.00#Notebook Lenovo;202;10;2800.00;4200.00#Mouse Logitech;203;50;70.00;150.00#Mouse Razer;204;40;120.00;250.00#Monitor Samsung;205;10;800.00;1200.00#Monitor LG;206;8;750.00;1150.00#Teclado Mecânico Corsair;207;30;180.00;300.00#Teclado Mecânico Razer;208;25;200.00;350.00#Impressora HP;209;5;400.00;650.00#Impressora Epson;210;3;450.00;700.00#Monitor Dell;211;12;850.00;1250.00#Monitor AOC;212;7;700.00;1100.00\"\n",
    "\n",
    "Cada produto é descrito por sua descrição (e.g., \"Notebook Dell\"), código (e.g., 201), quantidade (e.g., 15 unidades), custo do item (e.g., 3200.00) e preço de venda (e.g., 4500.00), nesta respectiva ordem. O sistema deve carregar esses dados como o estoque inicial."
   ]
  }
 ],
 "metadata": {
  "language_info": {
   "name": "python"
  }
 },
 "nbformat": 4,
 "nbformat_minor": 2
}
