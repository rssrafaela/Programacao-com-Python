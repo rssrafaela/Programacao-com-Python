{
 "cells": [
  {
   "cell_type": "markdown",
   "metadata": {},
   "source": [
    "### 12. Validação de atualizações: Implemente uma função que valida as alterações de quantidade e preço, ou altere as funções de atualização, para garantir que o estoque não fique negativo após uma atualização e que o novo preço de venda não seja menor que o custo do item."
   ]
  }
 ],
 "metadata": {
  "language_info": {
   "name": "python"
  }
 },
 "nbformat": 4,
 "nbformat_minor": 2
}
