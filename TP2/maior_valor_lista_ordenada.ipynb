{
 "cells": [
  {
   "cell_type": "markdown",
   "metadata": {},
   "source": [
    "### 8. Crie uma função chamada maior_valor que receba três números como trê argumentos posicionais, exiba o maior número na tela e retorne uma lista ordenada contendo estes números."
   ]
  }
 ],
 "metadata": {
  "language_info": {
   "name": "python"
  }
 },
 "nbformat": 4,
 "nbformat_minor": 2
}
