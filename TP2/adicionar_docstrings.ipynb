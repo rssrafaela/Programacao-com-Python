{
 "cells": [
  {
   "cell_type": "markdown",
   "metadata": {},
   "source": [
    "### 10. Para cada uma das funções definidas nas questões anteriores, adicione um DocString que explique o propósito da função, seus argumentos e o valor de retorno, se houver, seguindo a folha de estilo exemplificada abaixo.\n",
    "\n",
    "Exemplo de folha de estilo do DocString:\n",
    "def soma(numero_a, numero_b):\n",
    "| \"\"\"\n",
    "| Realiza a soma entre dois números\n",
    "|\n",
    "| Args:\n",
    "| numero_a (int | float): Primeiro número a ser considerado.\n",
    "| numero_b (int | float): Segundo número a ser considerado.\n",
    "|\n",
    "| Return:\n",
    "| (int | float): Resultado da soma.\n",
    "| \"\"\"\n",
    "# Código de implementação da função."
   ]
  }
 ],
 "metadata": {
  "language_info": {
   "name": "python"
  }
 },
 "nbformat": 4,
 "nbformat_minor": 2
}
