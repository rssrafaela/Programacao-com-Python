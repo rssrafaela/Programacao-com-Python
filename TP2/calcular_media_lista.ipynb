{
 "cells": [
  {
   "cell_type": "markdown",
   "metadata": {},
   "source": [
    "### 3. Escreva um programa que receba uma lista de números (você pode definir a lista inicialmente, mas certifique-se que o código funcionará para quaisquer listas numéricas) e utilize um loop for para calcular a média dos valores da lista."
   ]
  }
 ],
 "metadata": {
  "language_info": {
   "name": "python"
  }
 },
 "nbformat": 4,
 "nbformat_minor": 2
}
