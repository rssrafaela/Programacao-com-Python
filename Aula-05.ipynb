{
 "cells": [
  {
   "cell_type": "markdown",
   "metadata": {},
   "source": [
    "# isso é um titulo\n",
    "## que permite algumas edições\n",
    "\n",
    "- ele usa um padrão de codificação\n",
    "- chamado markdown\n",
    "\n",
    "$$ \\frac{coisa}{coisa}$$\n"
   ]
  },
  {
   "cell_type": "code",
   "execution_count": 1,
   "metadata": {},
   "outputs": [
    {
     "name": "stdout",
     "output_type": "stream",
     "text": [
      "<class 'int'>\n",
      "260\n"
     ]
    }
   ],
   "source": [
    "nome_da_variavel = 256\n",
    "nome_da_variavel = nome_da_variavel + 4\n",
    "print(type(nome_da_variavel))\n",
    "print(nome_da_variavel)"
   ]
  }
 ],
 "metadata": {
  "kernelspec": {
   "display_name": "Python 3",
   "language": "python",
   "name": "python3"
  },
  "language_info": {
   "codemirror_mode": {
    "name": "ipython",
    "version": 3
   },
   "file_extension": ".py",
   "mimetype": "text/x-python",
   "name": "python",
   "nbconvert_exporter": "python",
   "pygments_lexer": "ipython3",
   "version": "3.13.2"
  }
 },
 "nbformat": 4,
 "nbformat_minor": 2
}
