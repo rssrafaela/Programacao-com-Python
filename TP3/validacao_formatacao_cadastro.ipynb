{
 "cells": [
  {
   "cell_type": "markdown",
   "metadata": {},
   "source": [
    "### 8. Mini Projeto 1: Validação e Formatação de Dados em um Sistema de Cadastro\n",
    "\n",
    "Na vida de um desenvolvedor e analista de sistemas a validação de dados é uma etapa extremamente importante que previne diversas dificuldades posteriores à coleta dos dados.\n",
    "\n",
    "Crie um programa com funções em Python para solicitar ao usuário que insira os dados listados abaixo e valide os seguintes campos de cadastro com as seguintes regras:\n",
    "\n",
    "CPF: verifique se o CPF possui 11 dígitos e formate-o no padrão \"xxx.xxx.xxx-xx\".\n",
    "\n",
    "E-mail: verifique se o e-mail possui um formato válido (com \"@\" e um domínio válido) e normalize-o para minúsculas.\n",
    "Caracteres alfanuméricos + ‘@’ + Caracteres alfanuméricos + ‘.’ + Caracteres alfabéticos\n",
    "\n",
    "Telefone: remova caracteres não numéricos e converta o número de telefone para um número inteiro e em uma string formatada como (XX) XXXXX-XXXX ou (XX) XXXX-XXXX e exibindo o inteiro e a string formatada na tela."
   ]
  }
 ],
 "metadata": {
  "language_info": {
   "name": "python"
  }
 },
 "nbformat": 4,
 "nbformat_minor": 2
}
