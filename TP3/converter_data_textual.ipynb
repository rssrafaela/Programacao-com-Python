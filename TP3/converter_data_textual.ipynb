{
 "cells": [
  {
   "cell_type": "markdown",
   "metadata": {},
   "source": [
    "### 7. Implemente uma função que receba uma string representando uma data no formato \"dd/mm/aaaa\" e retorne a data em um formato textual, por exemplo, \"25/12/2024\" -> \"Vinte e cinco de dezembro de dois mil e vinte e quatro\"."
   ]
  }
 ],
 "metadata": {
  "language_info": {
   "name": "python"
  }
 },
 "nbformat": 4,
 "nbformat_minor": 2
}
