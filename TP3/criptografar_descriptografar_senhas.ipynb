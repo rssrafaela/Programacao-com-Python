{
 "cells": [
  {
   "cell_type": "markdown",
   "metadata": {},
   "source": [
    "### 14. Crie um programa que criptografa uma lista de senhas utilizando uma cifra de substituição (similar à cifra de Cesar) considerando todos os caracteres imprimíveis da tabela ASCII e armazene o resultado. Inclua uma função para descriptografar as senhas quando necessário."
   ]
  }
 ],
 "metadata": {
  "language_info": {
   "name": "python"
  }
 },
 "nbformat": 4,
 "nbformat_minor": 2
}
