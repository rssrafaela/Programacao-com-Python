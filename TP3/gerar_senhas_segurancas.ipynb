{
 "cells": [
  {
   "cell_type": "markdown",
   "metadata": {},
   "source": [
    "### 12. Mini Projeto 3: Gerenciamento de Senhas \n",
    "\n",
    "Um administrador de sistemas precisa desenvolver uma ferramenta para gerenciar senhas de usuários em uma rede corporativa.\n",
    "\n",
    "Desenvolva uma função que gera senhas aleatórias seguras, atendendo aos critérios: mínimo de 8 caracteres, incluindo letras maiúsculas, minúsculas, números e caracteres especiais."
   ]
  }
 ],
 "metadata": {
  "language_info": {
   "name": "python"
  }
 },
 "nbformat": 4,
 "nbformat_minor": 2
}
