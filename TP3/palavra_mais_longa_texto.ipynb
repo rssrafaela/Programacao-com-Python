{
 "cells": [
  {
   "cell_type": "markdown",
   "metadata": {},
   "source": [
    "### 3. Escreva uma função que receba um texto e retorne a palavra mais longa presente nele, desconsiderando pontuação."
   ]
  }
 ],
 "metadata": {
  "language_info": {
   "name": "python"
  }
 },
 "nbformat": 4,
 "nbformat_minor": 2
}
