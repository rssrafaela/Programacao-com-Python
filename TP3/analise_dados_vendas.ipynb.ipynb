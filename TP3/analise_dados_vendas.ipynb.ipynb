{
 "cells": [
  {
   "cell_type": "markdown",
   "metadata": {},
   "source": [
    "### 9. Mini projeto 2: Análise de Dados de Vendas \n",
    "\n",
    "Uma empresa de comércio eletrônico deseja analisar os dados de vendas para entender melhor o comportamento dos clientes e otimizar as estratégias de marketing.\n",
    "\n",
    "Implemente um programa em Python que receba uma lista de transações, onde cada transação é representada por uma string no formato \"ID_do_Produto,Nome_do_Produto,Quantidade,Valor_Unitário\". O programa deve calcular e exibir o valor total das vendas para cada produto."
   ]
  }
 ],
 "metadata": {
  "language_info": {
   "name": "python"
  }
 },
 "nbformat": 4,
 "nbformat_minor": 2
}
