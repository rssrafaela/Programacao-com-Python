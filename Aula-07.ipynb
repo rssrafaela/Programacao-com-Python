{
 "cells": [
  {
   "cell_type": "markdown",
   "metadata": {},
   "source": [
    "**Estruturas de decisão / seleção if, else, elif**\n",
    "\n",
    "• A estrutura 'se' (if) avalia se uma certa condição é ou não verdadeira, para decidir se executa ou não uma certa parte do código.\n",
    "• Parase construir essa condiçãopodemos utilizar de operadores de comparação, lógica booleana, de identificação e/ou bit a bit.\n",
    "\n",
    "**Operadores de comparação**\n",
    "\n",
    "![image.png](attachment:830cd9f3-e9b8-4419-b99f-77cce27991a5:image.png)\n",
    "\n",
    "**Operadores lógicos (booleanos)**\n",
    "\n",
    "![image.png](attachment:783c19ad-870b-4722-967d-7e0afdff0ff9:image.png)\n",
    "\n",
    "**Operadores de identidade**\n",
    "\n",
    "![image.png](attachment:07a3ab48-6021-4f00-afe8-72481371b139:image.png)\n",
    "\n",
    "**Operadores de associação**\n",
    "\n",
    "![image.png](attachment:beb44922-c378-4b33-af38-8feb272ab485:image.png)\n",
    "\n",
    "**Operadores bit a bit**\n",
    "\n",
    "![image.png](attachment:1f73aa6c-b762-4561-b3c5-2b78a1a78f7a:image.png)\n",
    "\n",
    "**Usando o if**\n",
    "• Agora que conhecemos os operadores vamos retornar à\n",
    "estrutura 'if'.\n",
    "\n",
    "a = 33\n",
    "b = 200\n",
    "\n",
    "if b >a:\n",
    "print(\"b is greater than a\")\n",
    "\n",
    "• Assim dá errado, indentação\n",
    "a=33\n",
    "b=200\n",
    "if b >a:\n",
    "    print(\"b is greater than a\")\n",
    "\n",
    " **Usando o if**\n",
    "\n",
    "a=200\n",
    "b=33\n",
    "c=500\n",
    "\n",
    "**• Forma abreviada**\n",
    "if a > b: print(\"a is greater than b\")\n",
    "\n",
    "• **Com operador lógico**\n",
    "if a > b and c > a:\n",
    "print(\"Both conditions are True\")\n",
    "if a > b or a > c:\n",
    "print(\"At least one of the conditions is True\")\n",
    "if not a >b:\n",
    "print(\"a is NOT greater than b\")\n",
    "\n",
    "**Ifs aninhados – um dentro do outro**\n",
    "\n",
    "x =int(input(\"Digite um número: \"))\n",
    "if x > 10:\n",
    "print(\"Maior que 10\")\n",
    "if (x % 2) == 0:\n",
    "print(\" e também é par\")\n",
    "if x > 100:\n",
    "print(\" e maior que 100!\")\n",
    "\n",
    "**If.. Else..**\n",
    "\n",
    "- Provoca uma ramificação no código. Se a condição for satisfeita executa um conjunto de comandos. Se não, então (else) executa um outro conjunto de comandos.\n",
    "a=200\n",
    "b=33\n",
    "if b >a:\n",
    "print(\"b is greater than a\")\n",
    "else:\n",
    "print(\"b is not greater than a\")\n",
    "• Forma abreviada\n",
    "print(\"A\") if a > b else print(\"B\") #modo ternário\n",
    "\n",
    "**If.. elif.. else**\n",
    "\n",
    "- O elifsignifica - então, se (condição).\n",
    "- É uma forma de realizar um if aninhado sem recursão.\n",
    "- *O Python possui limite de recursão.\n",
    "a=200\n",
    "b=33\n",
    "if b >a:\n",
    "print(\"b é maior que a\")\n",
    "elif a == b:\n",
    "print(\"a e b são iguais\")\n",
    "else:\n",
    "print(\"a é maior que b\")\n",
    "- **Forma abreviada**\n",
    "print(\"A\") if a > b else print(\"=\") if a == b else print(\"B\") **#modo ternário**\n",
    "\n",
    "**Lidar com condição vazia**\n",
    "\n",
    "- Se por algum motivo for necessário criar uma estrutura de decisão / seleção que não execute nenhum comando, é uma boa pratica utilizar a declaração 'pass' para evitar erros.\n",
    "a=33\n",
    "b=200\n",
    "if b > a:\n",
    "pass"
   ]
  },
  {
   "cell_type": "code",
   "execution_count": 3,
   "metadata": {},
   "outputs": [
    {
     "name": "stdout",
     "output_type": "stream",
     "text": [
      "Você é maior de idade.\n",
      "O número é positivo e par.\n",
      "O número não está entre 10 e 20.\n",
      "Você é uma pessoa de cachorros!\n"
     ]
    }
   ],
   "source": [
    "idade = int(input(\"Digite sua idade: \"))\n",
    "if idade >= 18:\n",
    "    print(\"Você é maior de idade.\")\n",
    "else:\n",
    "    print(\"Você é menor de idade.\")\n",
    "\n",
    "numero = int(input(\"Digite um número: \"))\n",
    "if numero > 0 and numero % 2 == 0:\n",
    "    print(\"O número é positivo e par.\")\n",
    "else:\n",
    "    print(\"O número não é positivo e par.\")\n",
    "\n",
    "numero = int(input(\"Digite um número: \"))\n",
    "if 10 <= numero <= 20:\n",
    "    print(\"O número está entre 10 e 20.\")\n",
    "else:\n",
    "    print(\"O número não está entre 10 e 20.\")\n",
    "\n",
    "resposta = input(\"Você prefere gatos ou cachorros?\")\n",
    "if resposta.lower() == \"gatos\":\n",
    "    print(\"Você é uma pessoa de gatos!\")\n",
    "elif resposta.lower() == \"cachorros\":\n",
    "    print(\"Você é uma pessoa de cachorros!\")\n",
    "else:\n",
    "    print(\"Interessante!\")\n"
   ]
  },
  {
   "cell_type": "code",
   "execution_count": null,
   "metadata": {},
   "outputs": [],
   "source": []
  },
  {
   "cell_type": "code",
   "execution_count": 6,
   "metadata": {},
   "outputs": [
    {
     "name": "stdout",
     "output_type": "stream",
     "text": [
      "a é menor que b\n"
     ]
    }
   ],
   "source": [
    "a = 10\n",
    "b = 30\n",
    "\n",
    "if a < b:\n",
    "  print(\"a é menor que b\")"
   ]
  },
  {
   "cell_type": "code",
   "execution_count": 13,
   "metadata": {},
   "outputs": [
    {
     "name": "stdout",
     "output_type": "stream",
     "text": [
      "Maior que 10\n",
      "e também é par\n"
     ]
    }
   ],
   "source": [
    "# ifs aninhados\n",
    "\n",
    "x = int(input(\"Digite um número: \"))\n",
    "\n",
    "if x > 10:\n",
    "    print(\"Maior que 10\")\n",
    "    if (x % 2) == 0:\n",
    "        print(\"e também é par\")\n",
    "        if x > 100:\n",
    "          print(\" e maior que 100!\")"
   ]
  },
  {
   "cell_type": "code",
   "execution_count": 14,
   "metadata": {},
   "outputs": [
    {
     "name": "stdout",
     "output_type": "stream",
     "text": [
      "b não é maior que a\n",
      "A\n"
     ]
    }
   ],
   "source": [
    "# if.. else\n",
    "\n",
    "a = 200\n",
    "b = 33\n",
    "\n",
    "if b > a:\n",
    "  print(\"b é maior que a\")\n",
    "else:\n",
    "  print(\"b não é maior que a\")\n",
    "\n",
    "print(\"A\") if a > b else print(\"B\") # modo ternário"
   ]
  },
  {
   "cell_type": "code",
   "execution_count": 15,
   "metadata": {},
   "outputs": [
    {
     "name": "stdout",
     "output_type": "stream",
     "text": [
      "a é maior que b\n",
      "A\n"
     ]
    }
   ],
   "source": [
    "# if.. elif.. else\n",
    "\n",
    "a = 200\n",
    "b = 33\n",
    "\n",
    "if b > a:\n",
    "  print(\"b é maior que a\")\n",
    "elif a == b:\n",
    "  print(\"a e b são iguais\")\n",
    "else:\n",
    "  print(\"a é maior que b\")\n",
    "\n",
    "  print(\"A\") if a > b else print(\"=\") if a == b else print(\"B\") # modo ternário"
   ]
  },
  {
   "cell_type": "code",
   "execution_count": null,
   "metadata": {},
   "outputs": [],
   "source": [
    "# exemplos IF.. ELIF.. ELSE\n",
    "\n",
    "idade = int(input(\"Digite sua idade: \"))\n",
    "\n",
    "if idade >= 18:\n",
    "  print(\"Você é maior de idade\")\n",
    "else:\n",
    "  print(\"VOcê é menor de idade.\")"
   ]
  },
  {
   "cell_type": "markdown",
   "metadata": {},
   "source": [
    "**Lidar com condição vazia**\n",
    "\n",
    "- Se por algum motivo for necessário criar uma estrutura de decisão / seleção que não execute nenhum comando, é uma boa pratica utilizar a declaração 'pass' para evitar erros."
   ]
  },
  {
   "cell_type": "code",
   "execution_count": 17,
   "metadata": {},
   "outputs": [],
   "source": [
    "a = 33\n",
    "b = 200\n",
    "\n",
    "if b > a:\n",
    "    pass\n"
   ]
  },
  {
   "cell_type": "code",
   "execution_count": null,
   "metadata": {},
   "outputs": [],
   "source": [
    "a = 10\n",
    "b = 30\n",
    "\n",
    "def valida_entrada_numerica():\n",
    "  pass\n"
   ]
  },
  {
   "cell_type": "code",
   "execution_count": 19,
   "metadata": {},
   "outputs": [
    {
     "name": "stdout",
     "output_type": "stream",
     "text": [
      "Você é maior de idade.\n"
     ]
    }
   ],
   "source": [
    "idade = int(input(\"Digite sua idade: \"))\n",
    "if idade >= 18:\n",
    " print(\"Você é maior de idade.\")\n",
    "else:\n",
    " print(\"Você é menor de idade.\")"
   ]
  },
  {
   "cell_type": "code",
   "execution_count": 21,
   "metadata": {},
   "outputs": [
    {
     "name": "stdout",
     "output_type": "stream",
     "text": [
      "O número é positivo e par.\n"
     ]
    }
   ],
   "source": [
    "numero= int(input(\"Digite um número: \"))\n",
    "if numero > 0 and numero % 2 == 0:\n",
    " print(\"O número é positivo e par.\")\n",
    "else:\n",
    " print(\"O número não é positivo e par.\")"
   ]
  },
  {
   "cell_type": "code",
   "execution_count": 22,
   "metadata": {},
   "outputs": [
    {
     "name": "stdout",
     "output_type": "stream",
     "text": [
      "O número está entre 10 e 20.\n"
     ]
    }
   ],
   "source": [
    "numero = int(input(\"Digite um número: \"))\n",
    "if 10 <= numero <= 20:\n",
    " print(\"O número está entre 10 e 20.\")\n",
    "else:\n",
    " print(\"O número não está entre 10 e 20.\")"
   ]
  },
  {
   "cell_type": "code",
   "execution_count": 23,
   "metadata": {},
   "outputs": [
    {
     "name": "stdout",
     "output_type": "stream",
     "text": [
      "Você é uma pessoa de cachorros!\n"
     ]
    }
   ],
   "source": [
    "resposta = input(\"Você prefere gatos ou cachorros? \")\n",
    "if resposta.lower() == \"gatos\":\n",
    " print(\"Você é uma pessoa de gatos!\")\n",
    "elif resposta.lower() == \"cachorros\":\n",
    " print(\"Você é uma pessoa de cachorros!\")\n",
    "else:\n",
    " print(\"Interessante!\")"
   ]
  },
  {
   "cell_type": "markdown",
   "metadata": {},
   "source": [
    "### Desafio (30min)\n",
    " • \"O Jogo de Adivinhação\"\n",
    " • Crie um jogo de adivinhação onde o \n",
    "computador escolhe um número entre 1 e 100, e \n",
    "o usuário tem que adivinhar o número. O \n",
    "programa deve informar se o palpite do usuário \n",
    "é muito alto, muito baixo, ou correto. Além \n",
    "disso, o jogo deve limitar o número de tentativas \n",
    "do usuário.\n",
    " • Para gerar um número aleatório inclua o \n",
    "seguinte no início do código:\n",
    " import random\n",
    " numero_secreto =random.randint(1, 100)"
   ]
  }
 ],
 "metadata": {
  "kernelspec": {
   "display_name": "Python 3",
   "language": "python",
   "name": "python3"
  },
  "language_info": {
   "codemirror_mode": {
    "name": "ipython",
    "version": 3
   },
   "file_extension": ".py",
   "mimetype": "text/x-python",
   "name": "python",
   "nbconvert_exporter": "python",
   "pygments_lexer": "ipython3",
   "version": "3.13.2"
  }
 },
 "nbformat": 4,
 "nbformat_minor": 2
}
