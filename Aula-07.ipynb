{
 "cells": [
  {
   "cell_type": "code",
   "execution_count": 6,
   "metadata": {},
   "outputs": [
    {
     "name": "stdout",
     "output_type": "stream",
     "text": [
      "a é menor que b\n"
     ]
    }
   ],
   "source": [
    "a = 10\n",
    "b = 30\n",
    "\n",
    "if a < b:\n",
    "  print(\"a é menor que b\")"
   ]
  },
  {
   "cell_type": "code",
   "execution_count": 13,
   "metadata": {},
   "outputs": [
    {
     "name": "stdout",
     "output_type": "stream",
     "text": [
      "Maior que 10\n",
      "e também é par\n"
     ]
    }
   ],
   "source": [
    "# ifs aninhados\n",
    "\n",
    "x = int(input(\"Digite um número: \"))\n",
    "\n",
    "if x > 10:\n",
    "    print(\"Maior que 10\")\n",
    "    if (x % 2) == 0:\n",
    "        print(\"e também é par\")\n",
    "        if x > 100:\n",
    "          print(\" e maior que 100!\")"
   ]
  },
  {
   "cell_type": "code",
   "execution_count": 14,
   "metadata": {},
   "outputs": [
    {
     "name": "stdout",
     "output_type": "stream",
     "text": [
      "b não é maior que a\n",
      "A\n"
     ]
    }
   ],
   "source": [
    "# if.. else\n",
    "\n",
    "a = 200\n",
    "b = 33\n",
    "\n",
    "if b > a:\n",
    "  print(\"b é maior que a\")\n",
    "else:\n",
    "  print(\"b não é maior que a\")\n",
    "\n",
    "print(\"A\") if a > b else print(\"B\") # modo ternário"
   ]
  },
  {
   "cell_type": "code",
   "execution_count": 15,
   "metadata": {},
   "outputs": [
    {
     "name": "stdout",
     "output_type": "stream",
     "text": [
      "a é maior que b\n",
      "A\n"
     ]
    }
   ],
   "source": [
    "# if.. elif.. else\n",
    "\n",
    "a = 200\n",
    "b = 33\n",
    "\n",
    "if b > a:\n",
    "  print(\"b é maior que a\")\n",
    "elif a == b:\n",
    "  print(\"a e b são iguais\")\n",
    "else:\n",
    "  print(\"a é maior que b\")\n",
    "\n",
    "  print(\"A\") if a > b else print(\"=\") if a == b else print(\"B\") # modo ternário"
   ]
  },
  {
   "cell_type": "code",
   "execution_count": null,
   "metadata": {},
   "outputs": [],
   "source": [
    "# exemplos IF.. ELIF.. ELSE\n",
    "\n",
    "idade = int(input(\"Digite sua idade: \"))\n",
    "\n",
    "if idade >= 18:\n",
    "  print(\"Você é maior de idade\")\n",
    "else:\n",
    "  print(\"VOcê é menor de idade.\")"
   ]
  },
  {
   "cell_type": "markdown",
   "metadata": {},
   "source": [
    "**Lidar com condição vazia**\n",
    "\n",
    "- Se por algum motivo for necessário criar uma estrutura de decisão / seleção que não execute nenhum comando, é uma boa pratica utilizar a declaração 'pass' para evitar erros."
   ]
  },
  {
   "cell_type": "code",
   "execution_count": 17,
   "metadata": {},
   "outputs": [],
   "source": [
    "a = 33\n",
    "b = 200\n",
    "\n",
    "if b > a:\n",
    "    pass\n"
   ]
  },
  {
   "cell_type": "code",
   "execution_count": null,
   "metadata": {},
   "outputs": [],
   "source": [
    "a = 10\n",
    "b = 30\n",
    "\n",
    "def valida_entrada_numerica():\n",
    "  pass\n"
   ]
  },
  {
   "cell_type": "code",
   "execution_count": 19,
   "metadata": {},
   "outputs": [
    {
     "name": "stdout",
     "output_type": "stream",
     "text": [
      "Você é maior de idade.\n"
     ]
    }
   ],
   "source": [
    "idade = int(input(\"Digite sua idade: \"))\n",
    "if idade >= 18:\n",
    " print(\"Você é maior de idade.\")\n",
    "else:\n",
    " print(\"Você é menor de idade.\")"
   ]
  },
  {
   "cell_type": "code",
   "execution_count": 21,
   "metadata": {},
   "outputs": [
    {
     "name": "stdout",
     "output_type": "stream",
     "text": [
      "O número é positivo e par.\n"
     ]
    }
   ],
   "source": [
    "numero= int(input(\"Digite um número: \"))\n",
    "if numero > 0 and numero % 2 == 0:\n",
    " print(\"O número é positivo e par.\")\n",
    "else:\n",
    " print(\"O número não é positivo e par.\")"
   ]
  },
  {
   "cell_type": "code",
   "execution_count": 22,
   "metadata": {},
   "outputs": [
    {
     "name": "stdout",
     "output_type": "stream",
     "text": [
      "O número está entre 10 e 20.\n"
     ]
    }
   ],
   "source": [
    "numero = int(input(\"Digite um número: \"))\n",
    "if 10 <= numero <= 20:\n",
    " print(\"O número está entre 10 e 20.\")\n",
    "else:\n",
    " print(\"O número não está entre 10 e 20.\")"
   ]
  },
  {
   "cell_type": "code",
   "execution_count": 23,
   "metadata": {},
   "outputs": [
    {
     "name": "stdout",
     "output_type": "stream",
     "text": [
      "Você é uma pessoa de cachorros!\n"
     ]
    }
   ],
   "source": [
    "resposta = input(\"Você prefere gatos ou cachorros? \")\n",
    "if resposta.lower() == \"gatos\":\n",
    " print(\"Você é uma pessoa de gatos!\")\n",
    "elif resposta.lower() == \"cachorros\":\n",
    " print(\"Você é uma pessoa de cachorros!\")\n",
    "else:\n",
    " print(\"Interessante!\")"
   ]
  },
  {
   "cell_type": "markdown",
   "metadata": {},
   "source": [
    "### Desafio (30min)\n",
    " • \"O Jogo de Adivinhação\"\n",
    " • Crie um jogo de adivinhação onde o \n",
    "computador escolhe um número entre 1 e 100, e \n",
    "o usuário tem que adivinhar o número. O \n",
    "programa deve informar se o palpite do usuário \n",
    "é muito alto, muito baixo, ou correto. Além \n",
    "disso, o jogo deve limitar o número de tentativas \n",
    "do usuário.\n",
    " • Para gerar um número aleatório inclua o \n",
    "seguinte no início do código:\n",
    " import random\n",
    " numero_secreto =random.randint(1, 100)"
   ]
  }
 ],
 "metadata": {
  "kernelspec": {
   "display_name": "Python 3",
   "language": "python",
   "name": "python3"
  },
  "language_info": {
   "codemirror_mode": {
    "name": "ipython",
    "version": 3
   },
   "file_extension": ".py",
   "mimetype": "text/x-python",
   "name": "python",
   "nbconvert_exporter": "python",
   "pygments_lexer": "ipython3",
   "version": "3.13.2"
  }
 },
 "nbformat": 4,
 "nbformat_minor": 2
}
