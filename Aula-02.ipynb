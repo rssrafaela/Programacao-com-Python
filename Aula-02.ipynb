{
 "cells": [
  {
   "cell_type": "markdown",
   "metadata": {},
   "source": [
    "**Apresentando o Python**\n",
    "\n",
    "[Bem-vindo ao Python.org](https://www.python.org/) - Organização que cuida do Python, que mantém o funcionamento da linguagem.\n",
    "\n",
    "**O que é Python?**\n",
    "\n",
    "Python é uma linguagem de programação de alto nível, interpretada, tipada dinamicamente e bifurcada, com uma sintaxe clara e fácil de entender.\n",
    "\n",
    "**Origem do Python:** \n",
    "\n",
    "- Foi lançada por Guido Van Rossum em 1991. Hoje, tem um modelo de desenvolvimento comunitário, aberto e gerenciado pela organização sem fins lucrativos Python Software Foundation.\n",
    "- Curiosidade: O nome Python teve seu ortígeno no grupo de comédia britânico Monty Python, criador do espetáculo Monty Python's Flying Circus, embora muitas pessoas façam a associação com o réptil de mesmo nome.\n",
    "\n",
    "**Qual era o objetivo?**\n",
    "\n",
    "- A linguagem foi projetada com a filosofia de enfatizar a importância do esforço do programador em relação ao esforço computacional.\n",
    "- Ela prioriza a legibilidade do código em relação à velocidade ou à expressividade.\n",
    "- Ela combina uma sintaxe concisa e clara com os recursos avançados de sua biblioteca padrão e com módulos e estruturas desenvolvidos por terceiros.\n",
    "\n",
    "**Recursos do Python:**\n",
    "\n",
    "- **Simplicidade e legibilidade:** O Python é conhecido por sua legibilidade, com uma sintaxe clara e uso de espaços em branco.\n",
    "- **Linguagem interpretada:** O código Python é executado linha por linha, o que facilita a depuração.\n",
    "- **Digitação dinâmica:** Em Python, você não precisa declarar explicitamente o tipo de uma variável.\n",
    "- **Portabilidade:** O Python pode ser executado em várias plataformas, como Windows, MacOS, Linux, entre outras.\n",
    "- **Biblioteca padrão extensa:** O Python vem com uma grande biblioteca padrão, que oferece uma ampla gama de funcionalidades.\n",
    "\n",
    "**Por que usar Python:**\n",
    "\n",
    "- **Facilidade de aprendizado**: Sintaxe clara e simplificada.\n",
    "- **Versatilidade:** Aplicável em muitas áreas.\n",
    "- **Comunidade forte:** Grande **comunidade** e muitos recursos disponíveis.\n",
    "\n",
    "**Por que não usar Python?**\n",
    "\n",
    "- **Velocidade:** Pode ser mais lento do que linguagens compiladas, como C++.\n",
    "- **Uso de memória:** Pode ser maior em comparação com outras linguagens.\n",
    "- **Restrições para dispositivos móveis e navegadores:** Não é tão eficiente quanto outras linguagens para desenvolvimento móvel e de navegador.\n",
    "\n",
    "**Python vs. outras linguagens**\n",
    "\n",
    "- **Python vs. Java:** Java é uma linguagem compilada e tipada estaticamente. O Python, por outro lado, é interpretado e tipado dinamicamente. Em geral, Python é mais fácil de aprender devido à sua sintaxe simples.\n",
    "- **Python vs. C++:** O C++ é mais voltado para a programação de baixo nível. Python é mais de alto nível e mais adequado para aplicativos da Web, desenvolvimento rápido e scripts.\n",
    "- **Python vs. JavaScript:** JavaScript é a linguagem da Web. O Python é mais usado para back-end, análise de dados e ciência de dados.\n",
    "\n",
    "**Ferramentas relevantes:**\n",
    "\n",
    "O Python é usado na Web, automação, ciência de dados, IA, entre outros.\n",
    "\n",
    "**Bibliotecas:**\n",
    "\n",
    "- **NumPy:** Cálculos matemáticos e científicos.\n",
    "- **Pandas:** Análise e manipulação de dados.\n",
    "- **Matplotlib:** Visualização de dados.\n",
    "- **TensorFlow:** aprendizado de máquina e IA.\n",
    "\n",
    "**Estruturas:**\n",
    "\n",
    "- **Django:** Desenvolvimento na Web e de alto nível.\n",
    "- **Flask:** Microframework para aplicativos da Web.\n",
    "\n",
    "Vamos começar... Por onde? O básico: ▪ Instale o Python: [python.org](http://python.org/)\n",
    "\n",
    "Em geral, os sistemas já têm o Python instalado ▪ Abra o prompt de comando: \"python-version\" ↵ ▪ Se estiver instalado: \"python3\" ↵\n",
    "\n",
    "**Linguagem interpretada vs. linguagem compilada**\n",
    "\n",
    "- As linguagens de programação podem ser classificadas em dois grandes grupos com base na forma como seu código é convertido em **instruções executáveis:** linguagens interpretadas e linguagens compiladas **.**\n",
    "\n",
    "**Linguagens interpretadas:**\n",
    "\n",
    "- **Execução direta:** O código escrito em uma linguagem interpretada é executado diretamente por um intérprete. O interpretador lê, analisa e executa o código linha por linha.\n",
    "- Tempo de execução**:** Como o código é interpretado em tempo real, a execução pode ser mais lenta em comparação com o código compilado. No entanto, isso também permite maior flexibilidade, como a modificação do código em tempo de execução.\n",
    "- **Plataforma cruzada:** O código escrito em linguagens interpretadas geralmente é mais portátil, pois o interpretador pode ser executado em diferentes plataformas. Por exemplo, o mesmo código Python pode ser executado no Windows, MacOS ou Linux.\n",
    "- **Exemplos:** Python, Ruby, JavaScript e PHP são exemplos de linguagens interpretadas.\n",
    "\n",
    "**Linguagens compiladas:**\n",
    "\n",
    "- **Compilação:** Antes da execução, o código-fonte em uma linguagem compilada é transformado (compilado) em código de máquina (ou código de byte intermediário, dependendo da linguagem) por um compilador. Esse processo ocorre apenas uma vez, e o arquivo resultante é executado diretamente pelo sistema operacional ou pela máquina virtual - **Desempenho:** O código compilado tende a ser mais rápido, pois já está na forma de instruções de máquina que o processador pode executar diretamente. Não há necessidade de um intermediário (interpretador) durante a execução. - **Específico da plataforma:** O código compilado é específico para a arquitetura do sistema para o qual foi compilado, o que significa que um programa compilado para Windows não funcionará no MacOS ou no Linux sem recompilação**:** C, C++, Go e Rust são exemplos de linguagens compiladas. Java e C# são casos especiais, em que o código é compilado em um bytecode que é executado por uma máquina virtual.\n",
    "\n",
    "**Principais diferenças:**\n",
    "\n",
    "- **Velocidade de execução:** O código compilado tende a ser mais rápido do que o código interpretado.\n",
    "- **Desenvolvimento e depuração:** As linguagens interpretadas facilitam os testes e a depuração, pois o código pode ser executado imediatamente e modificado em tempo real. Por outro lado, as linguagens compiladas exigem um estágio de compilação antes da execução.\n",
    "- **Portabilidade:** Os códigos interpretados são mais portáteis, enquanto os códigos compilados precisam ser recompilados para diferentes plataformas.\n",
    "- **Uso de memória e recursos:** O código compilado pode ser mais eficiente em termos de uso de recursos, pois não há necessidade de um interpretador durante a execução."
   ]
  },
  {
   "cell_type": "code",
   "execution_count": null,
   "metadata": {},
   "outputs": [
    {
     "name": "stdout",
     "output_type": "stream",
     "text": [
      "Hi Little World!\n",
      "15\n",
      "50\n"
     ]
    },
    {
     "ename": "",
     "evalue": "",
     "output_type": "error",
     "traceback": [
      "\u001b[1;31mThe Kernel crashed while executing code in the current cell or a previous cell. \n",
      "\u001b[1;31mPlease review the code in the cell(s) to identify a possible cause of the failure. \n",
      "\u001b[1;31mClick <a href='https://aka.ms/vscodeJupyterKernelCrash'>here</a> for more info. \n",
      "\u001b[1;31mView Jupyter <a href='command:jupyter.viewOutput'>log</a> for further details."
     ]
    }
   ],
   "source": [
    "# Meu primeiro código:\n",
    "print(\"Hi Little World!\")\n",
    "\n",
    "a = 5\n",
    "\n",
    "b = 10\n",
    "\n",
    "x = a + b\n",
    "\n",
    "print(x)\n",
    "\n",
    "print(a*b)\n",
    "\n",
    "exit()"
   ]
  },
  {
   "cell_type": "markdown",
   "metadata": {},
   "source": [
    "**Meu segundo programa em Python:**\n",
    "\n",
    "Abra o Bloco de Notas o Escreva o seguinte texto: ▪ min = [insira qualquer número inteiro] hrs = min / 60 sec = min * 60 day = (min / 60) / 24 print (min) print(\" minutes equals \") print(day) print(\" days\") print(hrs) print(\" hours \" ) print(sec) print(\" seconds.\")"
   ]
  },
  {
   "cell_type": "code",
   "execution_count": 3,
   "metadata": {},
   "outputs": [
    {
     "name": "stdout",
     "output_type": "stream",
     "text": [
      "120\n",
      " minutos equivalem a \n",
      "0.08333333333333333\n",
      " dias\n",
      "2.0\n",
      " horas \n",
      "7200\n",
      " segundos.\n"
     ]
    }
   ],
   "source": [
    "min = 120\n",
    "hrs = min / 60\n",
    "seg = min * 60\n",
    "dia = (min / 60) / 24\n",
    "print (min)\n",
    "print(\" minutos equivalem a \")\n",
    "print(dia)\n",
    "print(\" dias\")\n",
    "print(hrs)\n",
    "print(\" horas \" )\n",
    "print(seg)\n",
    "print(\" segundos.\")"
   ]
  }
 ],
 "metadata": {
  "kernelspec": {
   "display_name": "Python 3",
   "language": "python",
   "name": "python3"
  },
  "language_info": {
   "codemirror_mode": {
    "name": "ipython",
    "version": 3
   },
   "file_extension": ".py",
   "mimetype": "text/x-python",
   "name": "python",
   "nbconvert_exporter": "python",
   "pygments_lexer": "ipython3",
   "version": "3.13.2"
  }
 },
 "nbformat": 4,
 "nbformat_minor": 2
}
