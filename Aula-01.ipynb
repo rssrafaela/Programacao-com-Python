{
 "cells": [
  {
   "cell_type": "markdown",
   "metadata": {},
   "source": [
    "**Programa de habilidades**\n",
    "\n",
    "**1 -** Escrevendo programas que realizam operações em Python\n",
    "\n",
    "- Escrever programas com atribuições de variáveis\n",
    "- Escrever programas usando variáveis, atribuições e os operadores +, -, *, /, //\n",
    "- Escrever um programa que converta minutos em horas e vice-versa\n",
    "- Escrever programas que combinem duas ou mais cadeias de caracteres\n",
    "- Escreva um programa que use a entrada do terminal por meio do comando input\n",
    "- Escreva um programa que receba dois nomes do usuário e retorne a combinação deles.\n",
    "\n",
    "**2 -** Escrever programas simples de decisão/seleção em Python\n",
    "\n",
    "- Escreva um programa que decida automaticamente quais linhas executar dependendo da entrada do usuário\n",
    "- Escrever programas usando condicionais e operadores booleanos\n",
    "- Escrever programas que combinem mais de uma condição\n",
    "- Escrever programas que criem ramificações dentro do programa\n",
    "\n",
    "**3 -** Escrever programas simples com repetição/iteração e listas em Python\n",
    "\n",
    "- Escrever programas com diretivas de repetição for\n",
    "- Escrever programas com diretivas de repetição while\n",
    "- Escrever programas que organizam valores em listas\n",
    "- Escrever um programa que organize valores em listas\n",
    "- Escrever um programa que adicione valores a listas\n",
    "- Escrever um programa que percorra uma lista usando uma diretiva de repetição\n",
    "\n",
    "**4 -** Funções de programação em Python\n",
    "\n",
    "- Defina uma função que faça uma impressão de tela\n",
    "- Definir uma função que recebe um ou mais argumentos\n",
    "- Definir uma função que usa parâmetros por palavras-chave\n",
    "- Especificar parâmetros padrão para uma função\n",
    "- Definir uma função que retorna valores\n",
    "- Escrever a documentação de uma função usando DocStrings\n",
    "\n",
    "**5 -** Programas Python com strings (texto) e números\n",
    "\n",
    "- Entender o que são objetos string\n",
    "- Realizar operações básicas com strings\n",
    "- Dividir strings usando slicing\n",
    "- Converter strings em numerais e vice-versa\n",
    "- Usar métodos padrão da classe string\n",
    "- Realizar operações avançadas com strings\n",
    "\n",
    "**6 -** Programas de decisão/seleção e repetição/iteração com listas em Python\n",
    "\n",
    "- Converter strings em listas e vice-versa usando os métodos split e join\n",
    "- Executar código que percorre todos os elementos de uma lista\n",
    "- Executar um código que percorre todos os elementos de uma lista e conta o número de iteração usando a função enumerate\n",
    "- Criar listas numéricas usando a função range\n",
    "- Escreva um programa que crie uma lista e a preencha com conteúdo usando o método append\n",
    "- Criar listas usando o recurso de compreensão de listas\n",
    "- Combinar compreensões de lista e condicionais"
   ]
  },
  {
   "cell_type": "code",
   "execution_count": null,
   "metadata": {
    "vscode": {
     "languageId": "plaintext"
    }
   },
   "outputs": [],
   "source": [
    "print(\"Oi mundinho!\")\n",
    "\n",
    "a = 5 \n",
    "b= 10\n",
    "x = a + b\n",
    "\n",
    "print(x) \n",
    "\n",
    "print (a*b)\n",
    "\n",
    "exit() "
   ]
  }
 ],
 "metadata": {
  "language_info": {
   "name": "python"
  }
 },
 "nbformat": 4,
 "nbformat_minor": 2
}
