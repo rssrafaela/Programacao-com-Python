{
 "cells": [
  {
   "cell_type": "markdown",
   "metadata": {},
   "source": [
    "### Acessando itens da lista"
   ]
  },
  {
   "cell_type": "code",
   "execution_count": 1,
   "metadata": {},
   "outputs": [
    {
     "name": "stdout",
     "output_type": "stream",
     "text": [
      "banana\n"
     ]
    }
   ],
   "source": [
    "# Retorna o segundo item\n",
    "thislist = [\"apple\", \"banana\", \"cherry\"]\n",
    "print(thislist[1])"
   ]
  },
  {
   "cell_type": "code",
   "execution_count": 2,
   "metadata": {},
   "outputs": [
    {
     "name": "stdout",
     "output_type": "stream",
     "text": [
      "cherry\n"
     ]
    }
   ],
   "source": [
    "# Indexação negativa (a partir do último item)\n",
    "thislist = [\"apple\", \"banana\", \"cherry\"]\n",
    "\n",
    "# retorna o último item\n",
    "print(thislist[-1])"
   ]
  },
  {
   "cell_type": "code",
   "execution_count": 3,
   "metadata": {},
   "outputs": [
    {
     "name": "stdout",
     "output_type": "stream",
     "text": [
      "['cherry', 'orange', 'kiwi']\n"
     ]
    }
   ],
   "source": [
    "# Conjunto de itens\n",
    "thislist = [\"apple\", \"banana\", \"cherry\", \"orange\", \"kiwi\", \"melon\", \"mango\"]\n",
    "\n",
    "# retorna os itens do terceiro ao quinto item, não inclui o indice 5\n",
    "print(thislist[2:5])"
   ]
  },
  {
   "cell_type": "code",
   "execution_count": 4,
   "metadata": {},
   "outputs": [
    {
     "name": "stdout",
     "output_type": "stream",
     "text": [
      "['apple', 'banana', 'cherry', 'orange']\n"
     ]
    }
   ],
   "source": [
    "# Retorna os itens do primeiro ao quarto item, não inclui o indice 4\n",
    "print(thislist[:4])"
   ]
  },
  {
   "cell_type": "code",
   "execution_count": 5,
   "metadata": {},
   "outputs": [
    {
     "name": "stdout",
     "output_type": "stream",
     "text": [
      "['cherry', 'orange', 'kiwi', 'melon', 'mango']\n"
     ]
    }
   ],
   "source": [
    "# Retorna os itens do terceiro ao último item\n",
    "print(thislist[2:])"
   ]
  },
  {
   "cell_type": "code",
   "execution_count": 6,
   "metadata": {},
   "outputs": [
    {
     "name": "stdout",
     "output_type": "stream",
     "text": [
      "['orange', 'kiwi', 'melon']\n"
     ]
    }
   ],
   "source": [
    "# Retorna os itens do quinto ao sexto item\n",
    "print(thislist[-4:-1])"
   ]
  },
  {
   "cell_type": "markdown",
   "metadata": {},
   "source": [
    "### Palavra-chave 'in'"
   ]
  },
  {
   "cell_type": "markdown",
   "metadata": {},
   "source": [
    "- Verifica se um item está na lista."
   ]
  },
  {
   "cell_type": "code",
   "execution_count": 7,
   "metadata": {},
   "outputs": [
    {
     "name": "stdout",
     "output_type": "stream",
     "text": [
      "Yes!\n"
     ]
    }
   ],
   "source": [
    "thislist = [\"apple\", \"banana\", \"cherry\"]\n",
    "if \"apple\" in thislist:\n",
    "  print(\"Yes!\")"
   ]
  },
  {
   "cell_type": "markdown",
   "metadata": {},
   "source": [
    "# Alterar itens da lista"
   ]
  },
  {
   "cell_type": "markdown",
   "metadata": {},
   "source": [
    "- Alterar o valor de um item específico"
   ]
  },
  {
   "cell_type": "code",
   "execution_count": 8,
   "metadata": {},
   "outputs": [
    {
     "name": "stdout",
     "output_type": "stream",
     "text": [
      "['apple', 'blackcurrant', 'cherry']\n"
     ]
    }
   ],
   "source": [
    "thislist = [\"apple\", \"banana\", \"cherry\"]\n",
    "thislist[1] = \"blackcurrant\"\n",
    "\n",
    "print(thislist)"
   ]
  },
  {
   "cell_type": "markdown",
   "metadata": {},
   "source": [
    "- Alterar um intervalo de itens em conjunto"
   ]
  },
  {
   "cell_type": "code",
   "execution_count": 10,
   "metadata": {},
   "outputs": [
    {
     "name": "stdout",
     "output_type": "stream",
     "text": [
      "['apple', 'blackcurrant', 'watermelon', 'orange', 'kiwi', 'melon', 'mango']\n"
     ]
    }
   ],
   "source": [
    "thislist = [\"apple\", \"banana\", \"cherry\", \"orange\", \"kiwi\", \"melon\", \"mango\"]\n",
    "thislist[1:3] = [\"blackcurrant\",\"watermelon\"]\n",
    "\n",
    "print(thislist)"
   ]
  },
  {
   "cell_type": "markdown",
   "metadata": {},
   "source": [
    "- Se substituir com mais itens do que selecionou, os itens a mais serão inseridos na lista na posição especificada e os seguintes serão movidos de posição."
   ]
  },
  {
   "cell_type": "code",
   "execution_count": 11,
   "metadata": {},
   "outputs": [
    {
     "name": "stdout",
     "output_type": "stream",
     "text": [
      "['apple', 'blackcurrant', 'watermelon', 'cherry']\n"
     ]
    }
   ],
   "source": [
    "thislist = [\"apple\", \"banana\", \"cherry\"]\n",
    "thislist[1:2] = [\"blackcurrant\",\"watermelon\"]\n",
    "\n",
    "print(thislist)"
   ]
  },
  {
   "cell_type": "markdown",
   "metadata": {},
   "source": [
    "- Se substituir com menos itens do que selecionou, os itens selecionados a mais serão removidos da lista e os seguintes serão movidos de posição."
   ]
  },
  {
   "cell_type": "code",
   "execution_count": 13,
   "metadata": {},
   "outputs": [
    {
     "name": "stdout",
     "output_type": "stream",
     "text": [
      "['apple', 'watermelon']\n"
     ]
    }
   ],
   "source": [
    "thislist = [\"apple\", \"banana\", \"cherry\"]\n",
    "thislist[1:3] = [\"watermelon\"]\n",
    "\n",
    "print(thislist)"
   ]
  },
  {
   "cell_type": "markdown",
   "metadata": {},
   "source": [
    "### Método 'APEND()'"
   ]
  },
  {
   "cell_type": "markdown",
   "metadata": {},
   "source": [
    "- Adiciona o item ao final da lista."
   ]
  },
  {
   "cell_type": "code",
   "execution_count": 15,
   "metadata": {},
   "outputs": [
    {
     "name": "stdout",
     "output_type": "stream",
     "text": [
      "['apple', 'banana', 'cherry', 'watermelon']\n"
     ]
    }
   ],
   "source": [
    "thislist = [\"apple\", \"banana\", \"cherry\"]\n",
    "thislist.append(\"watermelon\")\n",
    "\n",
    "print(thislist)"
   ]
  },
  {
   "cell_type": "markdown",
   "metadata": {},
   "source": [
    "### Método 'INSERT()'"
   ]
  },
  {
   "cell_type": "markdown",
   "metadata": {},
   "source": [
    "- Adiciona o item em um índice especificado e desloca os demais, incluindo aqule que ocupava a posição."
   ]
  },
  {
   "cell_type": "code",
   "execution_count": 17,
   "metadata": {},
   "outputs": [
    {
     "name": "stdout",
     "output_type": "stream",
     "text": [
      "['apple', 'watermelon', 'banana', 'cherry']\n"
     ]
    }
   ],
   "source": [
    "thislist = [\"apple\", \"banana\", \"cherry\"]\n",
    "thislist.insert(1,\"watermelon\")\n",
    "\n",
    "print(thislist)"
   ]
  },
  {
   "cell_type": "markdown",
   "metadata": {},
   "source": [
    "### Método 'EXTEND()'"
   ]
  },
  {
   "cell_type": "markdown",
   "metadata": {},
   "source": [
    "- Adiciona uma lista ao final de outra lista."
   ]
  },
  {
   "cell_type": "code",
   "execution_count": 39,
   "metadata": {},
   "outputs": [
    {
     "name": "stdout",
     "output_type": "stream",
     "text": [
      "['apple', 'banana', 'cherry', 'mango', 'pneapple', 'papaya']\n",
      "['mango', 'pneapple', 'papaya']\n"
     ]
    }
   ],
   "source": [
    "thislist = [\"apple\", \"banana\", \"cherry\"]\n",
    "tropical = [\"mango\", \"pneapple\", \"papaya\"]\n",
    "\n",
    "thislist.extend(tropical)\n",
    "\n",
    "print(thislist)\n",
    "print(tropical)"
   ]
  },
  {
   "cell_type": "markdown",
   "metadata": {},
   "source": [
    "- Mas também pode adicionar qualquer objeto iterável (tuplas, sets, dicionários) ao final da lista."
   ]
  },
  {
   "cell_type": "code",
   "execution_count": 41,
   "metadata": {},
   "outputs": [
    {
     "name": "stdout",
     "output_type": "stream",
     "text": [
      "['apple', 'banana', 'cherry', 'kiwi', 'orange']\n"
     ]
    }
   ],
   "source": [
    "thislist = [\"apple\", \"banana\", \"cherry\"]\n",
    "thistuple = (\"kiwi\", \"orange\")\n",
    "thislist.extend(thistuple)\n",
    "print(thislist)\n"
   ]
  },
  {
   "cell_type": "markdown",
   "metadata": {},
   "source": [
    "# Removendo itens da Lista"
   ]
  },
  {
   "cell_type": "markdown",
   "metadata": {},
   "source": [
    "### Método 'REMOVE()'"
   ]
  },
  {
   "cell_type": "markdown",
   "metadata": {},
   "source": [
    "- Removendo o item especificado"
   ]
  },
  {
   "cell_type": "code",
   "execution_count": 42,
   "metadata": {},
   "outputs": [
    {
     "name": "stdout",
     "output_type": "stream",
     "text": [
      "['apple', 'cherry']\n"
     ]
    }
   ],
   "source": [
    "thislist = [\"apple\", \"banana\", \"cherry\"]\n",
    "thislist.remove(\"banana\")\n",
    "\n",
    "print(thislist)"
   ]
  },
  {
   "cell_type": "markdown",
   "metadata": {},
   "source": [
    "- Se o item estiver repetido na lista, irá remover a primeiro ocorrência."
   ]
  },
  {
   "cell_type": "code",
   "execution_count": 43,
   "metadata": {},
   "outputs": [
    {
     "name": "stdout",
     "output_type": "stream",
     "text": [
      "['apple', 'cherry', 'banana']\n"
     ]
    }
   ],
   "source": [
    "thislist = [\"apple\", \"banana\", \"cherry\", \"banana\"]\n",
    "thislist.remove(\"banana\")\n",
    "\n",
    "print(thislist)"
   ]
  },
  {
   "cell_type": "markdown",
   "metadata": {},
   "source": [
    "### Método 'POP()'"
   ]
  },
  {
   "cell_type": "markdown",
   "metadata": {},
   "source": [
    "- Remove o item alocado no índice especificado."
   ]
  },
  {
   "cell_type": "code",
   "execution_count": 45,
   "metadata": {},
   "outputs": [
    {
     "name": "stdout",
     "output_type": "stream",
     "text": [
      "['apple', 'cherry', 'banana']\n"
     ]
    }
   ],
   "source": [
    "thislist = [\"apple\", \"banana\", \"cherry\", \"banana\"]\n",
    "thislist.pop(1)\n",
    "\n",
    "print(thislist)"
   ]
  },
  {
   "cell_type": "markdown",
   "metadata": {},
   "source": [
    "- Se não for especificado um índice, por padrão, removerá o último item."
   ]
  },
  {
   "cell_type": "code",
   "execution_count": 46,
   "metadata": {},
   "outputs": [
    {
     "name": "stdout",
     "output_type": "stream",
     "text": [
      "['apple', 'banana', 'cherry']\n"
     ]
    }
   ],
   "source": [
    "thislist = [\"apple\", \"banana\", \"cherry\", \"banana\"]\n",
    "thislist.pop()\n",
    "\n",
    "print(thislist)"
   ]
  },
  {
   "cell_type": "markdown",
   "metadata": {},
   "source": [
    "### Comando 'del()'"
   ]
  },
  {
   "cell_type": "markdown",
   "metadata": {},
   "source": [
    "- Remove o item especificado"
   ]
  },
  {
   "cell_type": "code",
   "execution_count": 48,
   "metadata": {},
   "outputs": [
    {
     "name": "stdout",
     "output_type": "stream",
     "text": [
      "['banana', 'cherry', 'banana']\n"
     ]
    }
   ],
   "source": [
    "thislist = [\"apple\", \"banana\", \"cherry\", \"banana\"]\n",
    "del thislist[0]\n",
    "\n",
    "print(thislist)"
   ]
  },
  {
   "cell_type": "markdown",
   "metadata": {},
   "source": [
    "- Também pode ser utilizado para excluir a lista completamente."
   ]
  },
  {
   "cell_type": "code",
   "execution_count": 49,
   "metadata": {},
   "outputs": [
    {
     "ename": "NameError",
     "evalue": "name 'thislist' is not defined",
     "output_type": "error",
     "traceback": [
      "\u001b[31m---------------------------------------------------------------------------\u001b[39m",
      "\u001b[31mNameError\u001b[39m                                 Traceback (most recent call last)",
      "\u001b[36mCell\u001b[39m\u001b[36m \u001b[39m\u001b[32mIn[49]\u001b[39m\u001b[32m, line 4\u001b[39m\n\u001b[32m      1\u001b[39m thislist = [\u001b[33m\"\u001b[39m\u001b[33mapple\u001b[39m\u001b[33m\"\u001b[39m, \u001b[33m\"\u001b[39m\u001b[33mbanana\u001b[39m\u001b[33m\"\u001b[39m, \u001b[33m\"\u001b[39m\u001b[33mcherry\u001b[39m\u001b[33m\"\u001b[39m, \u001b[33m\"\u001b[39m\u001b[33mbanana\u001b[39m\u001b[33m\"\u001b[39m]\n\u001b[32m      2\u001b[39m \u001b[38;5;28;01mdel\u001b[39;00m thislist\n\u001b[32m----> \u001b[39m\u001b[32m4\u001b[39m \u001b[38;5;28mprint\u001b[39m(\u001b[43mthislist\u001b[49m)\n",
      "\u001b[31mNameError\u001b[39m: name 'thislist' is not defined"
     ]
    }
   ],
   "source": [
    "thislist = [\"apple\", \"banana\", \"cherry\", \"banana\"]\n",
    "del thislist\n",
    "\n",
    "print(thislist)"
   ]
  },
  {
   "cell_type": "markdown",
   "metadata": {},
   "source": [
    "### Método 'clear()'"
   ]
  },
  {
   "cell_type": "markdown",
   "metadata": {},
   "source": [
    "- Esvazia a lista completamente. A lista continua existindo, mas não possui qualquer conteúdo."
   ]
  },
  {
   "cell_type": "code",
   "execution_count": 50,
   "metadata": {},
   "outputs": [
    {
     "name": "stdout",
     "output_type": "stream",
     "text": [
      "[]\n"
     ]
    }
   ],
   "source": [
    "thislist = [\"apple\", \"banana\", \"cherry\", \"banana\"]\n",
    "thislist.clear()\n",
    "\n",
    "print(thislist)"
   ]
  },
  {
   "cell_type": "markdown",
   "metadata": {},
   "source": [
    "# Abreviações em listas - List Comprehensions\n",
    "\n",
    "- Sintaxe mais curta e simples.\n",
    "- Criando uma lista a partir de outra.\n",
    "- Lista apenas com frutas que contenham a letra 'a'.\n",
    "- A sintaxe:\n",
    "    newlist = [expression for item in iterable if condition == True]\n"
   ]
  },
  {
   "cell_type": "markdown",
   "metadata": {},
   "source": [
    "- Completo"
   ]
  },
  {
   "cell_type": "code",
   "execution_count": 61,
   "metadata": {},
   "outputs": [
    {
     "name": "stdout",
     "output_type": "stream",
     "text": [
      "['apple', 'banana', 'mango']\n"
     ]
    }
   ],
   "source": [
    "fruits = [\"apple\", \"banana\", \"cherry\", \"kiwi\", \"mango\"]  # Lista original de frutas\n",
    "\n",
    "newlist = []  # Cria uma nova lista vazia para armazenar as frutas que contêm a letra \"a\"\n",
    "\n",
    "# Loop for percorre cada elemento da lista 'fruits'\n",
    "for x in fruits:\n",
    "    # Se a letra \"a\" estiver presente no nome da fruta, ela será adicionada à nova lista\n",
    "    if \"a\" in x:\n",
    "        newlist.append(x)  # Adiciona a fruta à nova lista\n",
    "\n",
    "print(newlist)  # Imprime a nova lista contendo as frutas com a letra \"a\"\n"
   ]
  },
  {
   "cell_type": "markdown",
   "metadata": {},
   "source": [
    "- Abreviado"
   ]
  },
  {
   "cell_type": "code",
   "execution_count": 60,
   "metadata": {},
   "outputs": [
    {
     "name": "stdout",
     "output_type": "stream",
     "text": [
      "['apple', 'banana', 'mango']\n"
     ]
    }
   ],
   "source": [
    "fruits = [\"apple\", \"banana\", \"cherry\", \"kiwi\", \"mango\"]  # Lista original de frutas\n",
    "\n",
    "# Lista newlist é criada com uma compreensão de lista (list comprehension)\n",
    "# Ela pega todos os elementos de 'fruits' onde a letra 'a' está presente no nome da fruta\n",
    "newlist = [x for x in fruits if \"a\" in x]\n",
    "\n",
    "print(newlist)  # Imprime a nova lista, contendo apenas as frutas que têm a letra \"a\"\n",
    "\n"
   ]
  },
  {
   "cell_type": "code",
   "execution_count": 57,
   "metadata": {},
   "outputs": [
    {
     "name": "stdout",
     "output_type": "stream",
     "text": [
      "['apple', 'banana', 'cherry', 'kiwi', 'mango']\n",
      "['apple', 'banana', 'cherry', 'kiwi']\n"
     ]
    }
   ],
   "source": [
    "fruits = [\"apple\", \"banana\", \"cherry\", \"kiwi\", \"mango\"]\n",
    "\n",
    "# Cria uma cópia da lista fruits\n",
    "newlist = fruits.copy()\n",
    "\n",
    "# Remove o último elemento da lista fruits\n",
    "fruits.pop()\n",
    "\n",
    "# Imprime as duas listas\n",
    "print(newlist)  # A cópia (newlist) ainda mantém todos os elementos originais\n",
    "print(fruits)   # A lista original (fruits) perdeu o último elemento\n"
   ]
  },
  {
   "cell_type": "code",
   "execution_count": 51,
   "metadata": {},
   "outputs": [
    {
     "name": "stdout",
     "output_type": "stream",
     "text": [
      "['APPLE', 'BANANA', 'CHERRY']\n"
     ]
    }
   ],
   "source": [
    "lista_maiuscula = [valor.upper() for valor in fruits]\n",
    "\n",
    "print(lista_maiuscula)"
   ]
  },
  {
   "cell_type": "code",
   "execution_count": 3,
   "metadata": {},
   "outputs": [
    {
     "name": "stdout",
     "output_type": "stream",
     "text": [
      "['hello apple', 'hello banana', 'hello cherry', 'hello kiwi', 'hello mango']\n"
     ]
    }
   ],
   "source": [
    "fruits = [\"apple\", \"banana\", \"cherry\", \"kiwi\", \"mango\"]  # Lista original de frutas\n",
    "\n",
    "# Criação de uma nova lista com a palavra 'hello' concatenada a cada fruta na lista 'fruits'\n",
    "newlist = ['hello ' + x for x in fruits]  # A lista 'newlist' será preenchida com a palavra 'hello' seguida de cada fruta\n",
    "\n",
    "print(newlist)  # Imprime a nova lista com 'hello' concatenado a cada fruta\n"
   ]
  },
  {
   "cell_type": "markdown",
   "metadata": {},
   "source": [
    "# Classificar itens da lista"
   ]
  },
  {
   "cell_type": "markdown",
   "metadata": {},
   "source": [
    "### Método 'sort()'"
   ]
  },
  {
   "cell_type": "markdown",
   "metadata": {},
   "source": [
    "- Ordem Alfabética crescente."
   ]
  },
  {
   "cell_type": "code",
   "execution_count": 69,
   "metadata": {},
   "outputs": [
    {
     "name": "stdout",
     "output_type": "stream",
     "text": [
      "['amora', 'apple', 'banana', 'cherry', 'kiwi', 'mango']\n"
     ]
    }
   ],
   "source": [
    "fruits = [\"apple\", \"cherry\", \"banana\", \"amora\", \"kiwi\", \"mango\"]  # Lista original de frutas\n",
    "\n",
    "fruits.sort()  # O método sort() ordena a lista 'fruits' em ordem alfabética (ordem crescente)\n",
    "\n",
    "print(fruits)  # Imprime a lista 'fruits' ordenada\n"
   ]
  },
  {
   "cell_type": "markdown",
   "metadata": {},
   "source": [
    "- Ordem numérica crescente."
   ]
  },
  {
   "cell_type": "code",
   "execution_count": 67,
   "metadata": {},
   "outputs": [
    {
     "name": "stdout",
     "output_type": "stream",
     "text": [
      "[23, 50, 65, 82, 100]\n"
     ]
    }
   ],
   "source": [
    "thislist = [100, 50, 65, 82, 23]  # Definição de uma lista de números inteiros\n",
    "\n",
    "thislist.sort()  # O método sort() ordena a lista 'thislist' em ordem crescente\n",
    "\n",
    "print(thislist)  # Imprime a lista 'thislist' ordenada\n"
   ]
  },
  {
   "cell_type": "markdown",
   "metadata": {},
   "source": [
    "- Para classificar em ordem decrescente, basta passar o argumento 'reverse = True'."
   ]
  },
  {
   "cell_type": "code",
   "execution_count": 70,
   "metadata": {},
   "outputs": [
    {
     "name": "stdout",
     "output_type": "stream",
     "text": [
      "['mango', 'kiwi', 'cherry', 'banana', 'apple', 'amora']\n"
     ]
    }
   ],
   "source": [
    "fruits = [\"apple\", \"cherry\", \"banana\", \"amora\", \"kiwi\", \"mango\"]  # Lista inicial com várias frutas\n",
    "\n",
    "fruits.sort(reverse = True)  # Ordena a lista 'fruits' em ordem decrescente (do maior para o menor)\n",
    "\n",
    "print(fruits)  # Exibe a lista 'fruits' após a ordenação\n"
   ]
  },
  {
   "cell_type": "markdown",
   "metadata": {},
   "source": [
    "O abs() é uma função embutida no Python que retorna o valor absoluto de um número. Isso significa que ele retorna a distância de um número em relação ao zero, ignorando o sinal. Por exemplo:\n",
    "\n",
    "abs(-5) retorna 5\n",
    "\n",
    "abs(3) retorna 3"
   ]
  },
  {
   "cell_type": "code",
   "execution_count": 72,
   "metadata": {},
   "outputs": [
    {
     "name": "stdout",
     "output_type": "stream",
     "text": [
      "[50, 64, 23, 82, 100]\n"
     ]
    }
   ],
   "source": [
    "# Ordena a lista com base na proximidade dos valores ao número 50\n",
    "def myfunc(n):  # A função recebe um número da lista\n",
    "    return abs(n - 50)  # Retorna a diferença absoluta entre o número e 50\n",
    "\n",
    "thislist = [100, 50, 64, 82, 23]  # Lista de números\n",
    "thislist.sort(key=myfunc)  # Ordena a lista com base na função myfunc\n",
    "\n",
    "print(thislist)  # Exibe a lista ordenada\n"
   ]
  },
  {
   "cell_type": "code",
   "execution_count": null,
   "metadata": {},
   "outputs": [
    {
     "name": "stdout",
     "output_type": "stream",
     "text": [
      "['32', 'amora', 'apple', 'banana', 'cherry', 'kiwi']\n"
     ]
    }
   ],
   "source": [
    "# Ordenamento case sensitive (diferencia maiúsculas de minúsculas)\n",
    "fruits = [\"apple\", \"cherry\", \"banana\", \"amora\", \"kiwi\", \"32\"]  # Lista de frutas e uma string numérica\n",
    "\n",
    "fruits.sort()  # Ordena a lista em ordem alfabética, considerando maiúsculas e minúsculas\n",
    "\n",
    "print(fruits)  # Exibe a lista ordenada\n"
   ]
  },
  {
   "cell_type": "code",
   "execution_count": null,
   "metadata": {},
   "outputs": [
    {
     "name": "stdout",
     "output_type": "stream",
     "text": [
      "['amora', 'apple', 'Banana', 'cherry', 'kiwi']\n"
     ]
    }
   ],
   "source": [
    "# Driblando a diferenciação entre letras maiúsculas e minúsculas\n",
    "fruits = [\"apple\", \"cherry\", \"Banana\", \"amora\", \"kiwi\"]  # Lista de frutas com diferentes casos de letras\n",
    "\n",
    "# Ordena a lista ignorando a diferença entre maiúsculas e minúsculas\n",
    "fruits.sort(key = str.lower)  # O 'key=str.lower' faz a ordenação sem considerar se as letras são maiúsculas ou minúsculas\n",
    "\n",
    "print(fruits)  # Exibe a lista ordenada sem diferenciar maiúsculas de minúsculas\n"
   ]
  },
  {
   "cell_type": "markdown",
   "metadata": {},
   "source": [
    "### Método 'reverse()'"
   ]
  },
  {
   "cell_type": "markdown",
   "metadata": {},
   "source": [
    "- Inverte a ordem de uma lista"
   ]
  },
  {
   "cell_type": "code",
   "execution_count": 8,
   "metadata": {},
   "outputs": [
    {
     "name": "stdout",
     "output_type": "stream",
     "text": [
      "['kiwi', 'amora', 'Banana', 'cherry', 'apple']\n"
     ]
    }
   ],
   "source": [
    "fruits = [\"apple\", \"cherry\", \"Banana\", \"amora\", \"kiwi\"]\n",
    "fruits.reverse()\n",
    "\n",
    "print(fruits)"
   ]
  },
  {
   "cell_type": "markdown",
   "metadata": {},
   "source": [
    "# Copiando uma lista \n",
    "\n",
    "- Se implementar 'list 2 = list1', isto cria apenas uma referência entre as listas, ao chamar a variável 'list2' estará na realidade operando o objeto 'list1'."
   ]
  },
  {
   "cell_type": "markdown",
   "metadata": {},
   "source": [
    "### Método 'copy()'"
   ]
  },
  {
   "cell_type": "code",
   "execution_count": 9,
   "metadata": {},
   "outputs": [
    {
     "name": "stdout",
     "output_type": "stream",
     "text": [
      "['apple', 'cherry', 'Banana']\n"
     ]
    }
   ],
   "source": [
    "thislist = [\"apple\", \"cherry\", \"Banana\"]\n",
    "mylist = thislist.copy()\n",
    "\n",
    "print(mylist)"
   ]
  },
  {
   "cell_type": "markdown",
   "metadata": {},
   "source": [
    "### Método 'list()'"
   ]
  },
  {
   "cell_type": "code",
   "execution_count": 10,
   "metadata": {},
   "outputs": [
    {
     "name": "stdout",
     "output_type": "stream",
     "text": [
      "['apple', 'cherry', 'Banana']\n"
     ]
    }
   ],
   "source": [
    "thislist = [\"apple\", \"cherry\", \"Banana\"]\n",
    "mylist = list(thislist)\n",
    "\n",
    "print(mylist)"
   ]
  },
  {
   "cell_type": "markdown",
   "metadata": {},
   "source": [
    "# Unindo ou concatenando listas"
   ]
  },
  {
   "cell_type": "markdown",
   "metadata": {},
   "source": [
    "- Operador '+'"
   ]
  },
  {
   "cell_type": "code",
   "execution_count": 11,
   "metadata": {},
   "outputs": [
    {
     "name": "stdout",
     "output_type": "stream",
     "text": [
      "['a', 'b', 'c', 1, 2, 3]\n"
     ]
    }
   ],
   "source": [
    "list1 = [\"a\", \"b\", \"c\"]\n",
    "list2 = [1,2,3]\n",
    "list3 = list1 + list2\n",
    "\n",
    "print(list3)"
   ]
  },
  {
   "cell_type": "markdown",
   "metadata": {},
   "source": [
    "- Método 'append()' - item por item"
   ]
  },
  {
   "cell_type": "code",
   "execution_count": 12,
   "metadata": {},
   "outputs": [
    {
     "name": "stdout",
     "output_type": "stream",
     "text": [
      "['a', 'b', 'c', 1, 2, 3]\n"
     ]
    }
   ],
   "source": [
    "list1 = [\"a\", \"b\", \"c\"]\n",
    "list2 = [1,2,3]\n",
    "for x in list2:\n",
    "  list1.append(x)\n",
    "\n",
    "print(list1)"
   ]
  },
  {
   "cell_type": "markdown",
   "metadata": {},
   "source": [
    "- Método 'extend()'"
   ]
  },
  {
   "cell_type": "code",
   "execution_count": 13,
   "metadata": {},
   "outputs": [
    {
     "name": "stdout",
     "output_type": "stream",
     "text": [
      "['a', 'b', 'c', 1, 2, 3]\n"
     ]
    }
   ],
   "source": [
    "list1 = [\"a\", \"b\", \"c\"]\n",
    "list2 = [1,2,3]\n",
    "list1.extend(list2)\n",
    "\n",
    "print(list1)"
   ]
  },
  {
   "cell_type": "markdown",
   "metadata": {},
   "source": [
    "### Métodos listas\n",
    "\n",
    "- **`append()`**: Adiciona um item ao final da lista.\n",
    "- **`extend()`**: Adiciona todos os itens de um iterável (outra lista) ao final da lista.\n",
    "- **`insert()`**: Insere um item em uma posição específica na lista.\n",
    "- **`remove()`**: Remove o primeiro item com o valor especificado.\n",
    "- **`pop()`**: Remove e retorna o item em uma posição específica (se não for especificada, remove o último item).\n",
    "- **`clear()`**: Remove todos os itens da lista.\n",
    "- **`index()`**: Retorna o índice do primeiro item com o valor especificado.\n",
    "- **`count()`**: Retorna o número de vezes que um valor aparece na lista.\n",
    "- **`sort()`**: Ordena os itens da lista em ordem crescente (ou personalizada, com o parâmetro `key`).\n",
    "- **`reverse()`**: Inverte a ordem dos itens da lista.\n",
    "- **`copy()`**: Retorna uma cópia superficial da lista.\n",
    "- **`join()`** (para listas de strings): Junta os itens de uma lista em uma única string, com um separador especificado.\n"
   ]
  },
  {
   "cell_type": "markdown",
   "metadata": {},
   "source": [
    "### Desafio 1 (15 min)\n",
    "\n",
    "- \"O Organizador de Tarefas\"\n",
    "- Descrição: Cria um programa que permita ao usuário gerenciar uma lista de tarefas. O programa deve permitir adicionar uma nova tarefa, listar todas as tarefas, e remover uma tarefa específica.\n",
    "- O programa deve utilizar um loop while com um menu de opções e uma lista para armazenas as tarefas."
   ]
  },
  {
   "cell_type": "markdown",
   "metadata": {},
   "source": [
    "### Desafio 2 (20 min)\n",
    "\n",
    "- \"O jogo do Labirinto\"\n",
    "- Descrição: Crie um programa que simula um pequeno labirinto. O usuário deve escolher direções(esquerda, direita, frente) para encontrar a saída. O programa deve informar se o usuário está se aproximando ou se afastando da saída.\n",
    "- Dica: O jogo pode considerar o caminho apenas como uma posição específica numa reta numérica e as ações esquerda, direita e frente, serem apenas operações matemáticas desconhecidas do usuário."
   ]
  },
  {
   "cell_type": "markdown",
   "metadata": {},
   "source": [
    "# Tuplas, Dicionário e Sets\n",
    "\n",
    "- São conteúdos de Python para Dados."
   ]
  },
  {
   "cell_type": "markdown",
   "metadata": {},
   "source": [
    "### Métodos tuplas\n",
    "\n",
    "- **`count()`** : Retorna o número de vezes que o valor especificado no argumento ocorre na tupla\n",
    "- **`index()`** : Retorna o índice do valor especificado no argumento"
   ]
  },
  {
   "cell_type": "markdown",
   "metadata": {},
   "source": [
    "### Métodos Sets"
   ]
  },
  {
   "cell_type": "markdown",
   "metadata": {},
   "source": [
    "- **`add()`**        - Adiciona um elemento ao set, se ele já não existir.\n",
    "- **`clear()`**      - Remove todos os elementos do set.\n",
    "- **`copy()`**       - Retorna uma cópia rasa do set.\n",
    "- **`difference()`** - Retorna a diferença entre o set e outro ou outros sets.\n",
    "- **`difference_update()`**  - Remove os elementos do set que são comuns a outro set ou outros.\n",
    "- **`discard()`**    - Remove um elemento do set se ele existir, sem gerar erro caso não exista.\n",
    "- **`intersection()`**  - Retorna a interseção de dois ou mais sets.\n",
    "- **`intersection_update()`**  - Atualiza o set com a interseção de outros sets.\n",
    "- **`isdisjoint()`** - Verifica se dois sets não têm elementos em comum.\n",
    "- **`issubset()`**   - Verifica se todos os elementos de um set estão em outro set.\n",
    "- **`issuperset()`** - Verifica se um set contém todos os elementos de outro set.\n",
    "- **`pop()`**        - Remove e retorna um elemento aleatório do set.\n",
    "- **`remove()`**     - Remove um elemento do set, gerando um erro se o elemento não existir.\n",
    "- **`symmetric_difference()`**  - Retorna a diferença simétrica entre dois sets.\n",
    "- **`symmetric_difference_update()`**  - Atualiza o set com a diferença simétrica de outro set.\n",
    "- **`union()`**      - Retorna a união de dois ou mais sets.\n",
    "- **`update()`**     - Adiciona todos os elementos de outro set ou iterável ao set atual.\n",
    "\n"
   ]
  },
  {
   "cell_type": "markdown",
   "metadata": {},
   "source": [
    "### Métodos Dicionários"
   ]
  },
  {
   "cell_type": "markdown",
   "metadata": {},
   "source": [
    "- **`clear()`**          - Remove todos os itens do dicionário.\n",
    "- **`copy()`**           - Retorna uma cópia rasa do dicionário.\n",
    "- **`fromkeys()`**       - Cria um novo dicionário com chaves fornecidas e valores padrão.\n",
    "- **`get()`**            - Retorna o valor para a chave fornecida, ou um valor padrão se a chave não existir.\n",
    "- **`items()`**          - Retorna uma visão de todos os itens (pares chave-valor) no dicionário.\n",
    "- **`keys()`**           - Retorna uma visão de todas as chaves no dicionário.\n",
    "- **`pop()`**            - Remove e retorna o valor associado à chave fornecida.\n",
    "- **`popitem()`**        - Remove e retorna um par chave-valor aleatório do dicionário.\n",
    "- **`setdefault()`**     - Retorna o valor de uma chave, ou um valor padrão se a chave não existir.\n",
    "- **`update()`**         - Atualiza o dicionário com os itens de outro dicionário ou iterável de pares chave-valor.\n",
    "- **`values()`**         - Retorna uma visão de todos os valores no dicionário.\n"
   ]
  },
  {
   "cell_type": "markdown",
   "metadata": {},
   "source": [
    "# Funções em Python"
   ]
  },
  {
   "cell_type": "markdown",
   "metadata": {},
   "source": [
    "OBJETIVO DA AULA\n",
    "\n",
    " • Abordar a criação e utilização de funções em \n",
    "Python, uma habilidade essencial para \n",
    "escrever códigos organizados e reutilizáveis.\n",
    "\n",
    "Objetivos da Aula:\n",
    "\n",
    " • Ensinar a definição e uso de funções em \n",
    "Python.\n",
    "\n",
    " • Explorar diferentes maneiras de passar \n",
    "argumentos e retornar valores em funções.\n",
    "\n",
    " • Incentivar boas práticas de programação com \n",
    "a documentação de funções.\n"
   ]
  },
  {
   "cell_type": "markdown",
   "metadata": {},
   "source": [
    "### O QUE SÃO FUNÇÕES"
   ]
  },
  {
   "cell_type": "markdown",
   "metadata": {},
   "source": [
    "- Uma função é um bloco de código que só é executado \n",
    "quando é chamado.\n",
    "\n",
    "- Uma função pode receber dados, chamados de \n",
    "parâmetros, que pedem ser passados ao chamar a função.\n",
    "\n",
    "- Uma função pode executar diversas tarefas, chamar outras \n",
    "funções e retornar resultados."
   ]
  },
  {
   "cell_type": "markdown",
   "metadata": {},
   "source": [
    "### CRIANDO UMA FUNÇÃO\n",
    "\n",
    " • Para criar uma função utilizamos a palavra-chave \n",
    "'def' seguida do nome da função com parêntesis ao \n",
    "final.\n",
    "\n",
    " • Criando uma função que imprime um texto no \n",
    "terminal."
   ]
  },
  {
   "cell_type": "code",
   "execution_count": 21,
   "metadata": {},
   "outputs": [],
   "source": [
    "def my_function():\n",
    " print(\"Hello from a function\")"
   ]
  },
  {
   "cell_type": "markdown",
   "metadata": {},
   "source": [
    " • Chamando uma função."
   ]
  },
  {
   "cell_type": "code",
   "execution_count": 25,
   "metadata": {},
   "outputs": [
    {
     "name": "stdout",
     "output_type": "stream",
     "text": [
      "Hello from a function\n"
     ]
    }
   ],
   "source": [
    "def my_function():\n",
    " print(\"Hello from a function\")\n",
    "my_function()"
   ]
  },
  {
   "cell_type": "markdown",
   "metadata": {},
   "source": [
    "### FUNÇÃO RECEBE ARGUMENTO"
   ]
  },
  {
   "cell_type": "markdown",
   "metadata": {},
   "source": [
    "- Uma função pode receber um dado ao ser chamada e utilizar este dado em sua execução."
   ]
  },
  {
   "cell_type": "code",
   "execution_count": 26,
   "metadata": {},
   "outputs": [
    {
     "name": "stdout",
     "output_type": "stream",
     "text": [
      "Olá, Dácio!\n"
     ]
    }
   ],
   "source": [
    "def saudacao_nome(nome):\n",
    "    print(\"Olá, \" + nome + \"!\")\n",
    "    \n",
    "saudacao_nome(\"Dácio\")\n"
   ]
  },
  {
   "cell_type": "markdown",
   "metadata": {},
   "source": [
    "- Uma função pode receber mais de um argumento, eles devem estar declarados separados por vírgula na criação da \n",
    "função."
   ]
  },
  {
   "cell_type": "code",
   "execution_count": 27,
   "metadata": {},
   "outputs": [
    {
     "name": "stdout",
     "output_type": "stream",
     "text": [
      "Nome: Dácio\n",
      "Idade: 37\n"
     ]
    }
   ],
   "source": [
    "def info_pessoa(nome, idade):\n",
    "    print(\"Nome:\", nome)\n",
    "    print(\"Idade:\", idade)\n",
    "    \n",
    "info_pessoa(\"Dácio\", 37)\n"
   ]
  },
  {
   "cell_type": "markdown",
   "metadata": {},
   "source": [
    "- Os argumentos devem ser passados na mesma ordem que a esperada pela função"
   ]
  },
  {
   "cell_type": "markdown",
   "metadata": {},
   "source": [
    "### FUNÇÃO COM ARGUMENTO OPCIONAL"
   ]
  },
  {
   "cell_type": "markdown",
   "metadata": {},
   "source": [
    "- Se uma função que espera uma certa quantidade de argumentos for chamada com \n",
    "uma quantidade diferente de argumentos isto irá gerar um erro na execução.\n",
    "\n",
    "- Uma função pode ser criada considerando a existência de parâmetros opcionais. \n",
    "Para isto um valor padrão (default) deve ser estabelecido na criação da função. O \n",
    "valor default será utilizado na execução se nenhum parâmetro for passado."
   ]
  },
  {
   "cell_type": "code",
   "execution_count": 28,
   "metadata": {},
   "outputs": [
    {
     "name": "stdout",
     "output_type": "stream",
     "text": [
      "Nome: Dácio - Idade: 30\n",
      "Nome: Dácio - Idade: 37\n"
     ]
    }
   ],
   "source": [
    "def info_pessoa(nome, idade=30):\n",
    "    print(\"Nome:\", nome, \"- Idade:\", idade)\n",
    "\n",
    "info_pessoa(\"Dácio\")        # Chamando com o valor padrão de idade (30)\n",
    "info_pessoa(\"Dácio\", 37)    # Chamando com o valor explícito de idade (37)\n"
   ]
  },
  {
   "cell_type": "markdown",
   "metadata": {},
   "source": [
    "### QUANTIDADE ARBITRÁRIA DE ARGUMENTOS\n",
    "\n",
    " • Se você não sabe quantos argumentos serão passados para sua função, adicione um '*' antes do nome \n",
    "do parâmetro na definição da função.\n",
    "\n",
    " • Desta forma a função receberá uma tupla de argumentos, e poderá acessar os itens de acordo:"
   ]
  },
  {
   "cell_type": "code",
   "execution_count": 29,
   "metadata": {},
   "outputs": [
    {
     "name": "stdout",
     "output_type": "stream",
     "text": [
      "The youngest child is Linus\n"
     ]
    }
   ],
   "source": [
    "def my_function(*kids):\n",
    "    print(\"The youngest child is \" + kids[2])\n",
    "\n",
    "my_function(\"Emil\", \"Tobias\", \"Linus\")"
   ]
  },
  {
   "cell_type": "markdown",
   "metadata": {},
   "source": [
    "### DIFERENÇA ENTRE PARÂMETRO E ARGUMENTO"
   ]
  },
  {
   "cell_type": "markdown",
   "metadata": {},
   "source": [
    "Parâmetro é a variável que \n",
    "irá receber um valor em uma \n",
    "função (ou método) \n",
    "enquanto que um argumento \n",
    "é o valor que você passa para \n",
    "a função (ou método)."
   ]
  },
  {
   "cell_type": "markdown",
   "metadata": {},
   "source": [
    "Você não passa parâmetros, \n",
    "você passa argumentos. A \n",
    "função recebe argumentos, \n",
    "mas recebe atribuindo-as \n",
    "aos parâmetros."
   ]
  },
  {
   "cell_type": "markdown",
   "metadata": {},
   "source": [
    "### ARGUMENTOS PALAVRA-CHAVE\n",
    "\n",
    "- É possível passar os argumentos em uma ordem diferente da criação dos \n",
    "parâmetros, para isso cada argumento deve estar atribuído à palavra-chave do \n",
    "parâmetro ao chamar a função."
   ]
  },
  {
   "cell_type": "code",
   "execution_count": 30,
   "metadata": {},
   "outputs": [
    {
     "name": "stdout",
     "output_type": "stream",
     "text": [
      "The youngest child is Linus\n"
     ]
    }
   ],
   "source": [
    "def my_function(child3, child2, child1):\n",
    "    print(\"The youngest child is \" + child3)\n",
    "\n",
    "my_function(child1 = \"Emil\", child2 = \"Tobias\", child3 = \"Linus\")\n"
   ]
  },
  {
   "cell_type": "markdown",
   "metadata": {},
   "source": [
    "### ARGUMENTO PALAVRAS-CHAVE ARBITRÁRIAS \n",
    "### **KWARGS\n",
    "\n",
    " • Se você não sabe quantos argumentos de palavra-chave serão passados para sua função, adicione dois \n",
    "asteriscos: '**' antes do nome do parâmetro na definição da função.\n",
    "\n",
    " • Desta forma a função receberá um dicionário de argumentos, e poderá acessar os itens de acordo:"
   ]
  },
  {
   "cell_type": "markdown",
   "metadata": {},
   "source": [
    "O ** na frente do parâmetro significa que a função pode receber um número variável de argumentos nomeados, que são armazenados como um dicionário. As chaves do dicionário são os nomes dos parâmetros e os valores são os valores passados. Isso permite que você passe uma quantidade indefinida de pares chave-valor para a função."
   ]
  },
  {
   "cell_type": "code",
   "execution_count": 14,
   "metadata": {},
   "outputs": [
    {
     "name": "stdout",
     "output_type": "stream",
     "text": [
      "His last name is Refsnes\n"
     ]
    }
   ],
   "source": [
    "def my_function(**kid):  # Recebe um número arbitrário de argumentos nomeados (keyword arguments) como um dicionário\n",
    "    print(\"His last name is \" + kid[\"lname\"])  # Acessa o valor associado à chave \"lname\" no dicionário 'kid' e imprime\n",
    "\n",
    "my_function(fname = \"Tobias\", lname = \"Refsnes\")  # Passa argumentos nomeados 'fname' e 'lname' para a função\n",
    "\n"
   ]
  },
  {
   "cell_type": "markdown",
   "metadata": {},
   "source": [
    "### Tipagem do argumento\n",
    "\n",
    "- É possível enviar um argumento de qualquer tipo para uma função (string, \n",
    "número, lista, dicionário etc.), e ele será tratado como o mesmo tipo de dados \n",
    "dentro da função.\n",
    "\n",
    "- Por exemplo, se você enviar uma Lista como argumento, ela ainda será uma \n",
    "Lista quando chegar à função:"
   ]
  },
  {
   "cell_type": "code",
   "execution_count": 32,
   "metadata": {},
   "outputs": [
    {
     "name": "stdout",
     "output_type": "stream",
     "text": [
      "apple\n",
      "banana\n",
      "cherry\n"
     ]
    }
   ],
   "source": [
    "def my_function(food):\n",
    "    for x in food:\n",
    "        print(x)\n",
    "\n",
    "fruits = [\"apple\", \"banana\", \"cherry\"]\n",
    "my_function(fruits)\n"
   ]
  },
  {
   "cell_type": "markdown",
   "metadata": {},
   "source": [
    "### FORÇAR APENAS ARGUMENTOS POSICIONAIS\n",
    "\n",
    " • É possível especificar que uma função pode ter APENAS argumentos \n",
    "posicionais. Para isso se deve adicionar ', /' após definir o parâmetro.\n",
    "\n",
    " - Se tentar chamar esta função passando argumentos por palavra-chave,irá ocorrer \n",
    "um erro de execução."
   ]
  },
  {
   "cell_type": "code",
   "execution_count": 15,
   "metadata": {},
   "outputs": [
    {
     "name": "stdout",
     "output_type": "stream",
     "text": [
      "3\n"
     ]
    }
   ],
   "source": [
    "def my_function(x, /):  # O '/' indica que todos os parâmetros antes dele (no caso, 'x') são posicionais\n",
    "    print(x)  # Imprime o valor de 'x', que foi passado como argumento\n",
    "\n",
    "my_function(3)  # Chama a função passando 3 como argumento posicional\n"
   ]
  },
  {
   "cell_type": "markdown",
   "metadata": {},
   "source": [
    "### Forçar apenas argumentos por palavra chave\n",
    "\n",
    "- Para especificar que uma função pode ter apenas argumentos de palavras\n",
    "chave, adicione '*, ' antes dos argumentos:\n",
    "\n",
    "- Se tentar chamar esta função passando argumentos posicionais, irá ocorrer um erro \n",
    "de execução."
   ]
  },
  {
   "cell_type": "code",
   "execution_count": 16,
   "metadata": {},
   "outputs": [
    {
     "name": "stdout",
     "output_type": "stream",
     "text": [
      "3\n"
     ]
    }
   ],
   "source": [
    "def my_function(*, x):  # O '*' indica que todos os parâmetros depois dele (no caso, 'x') devem ser passados como argumentos nomeados\n",
    "    print(x)  # Imprime o valor de 'x', que foi passado como argumento nomeado\n",
    "\n",
    "my_function(x = 3)  # Chama a função passando 3 como argumento nomeado para 'x'\n"
   ]
  },
  {
   "cell_type": "markdown",
   "metadata": {},
   "source": [
    "### FORÇANDO COMBINAÇÃO DE MODO DE ARGUMENTOS\n",
    " • É possível combinar os dois tipos de argumentos na mesma função.\n",
    " \n",
    "-  Qualquer argumento antes '*, ' apenas de palavra de '/ ,' é apenas posicional e qualquer argumento chave."
   ]
  },
  {
   "cell_type": "code",
   "execution_count": 17,
   "metadata": {},
   "outputs": [
    {
     "name": "stdout",
     "output_type": "stream",
     "text": [
      "26\n"
     ]
    }
   ],
   "source": [
    "def my_function(a, b, /, *, c, d):  \n",
    "    # 'a' e 'b' são parâmetros posicionais, pois estão antes do '/'\n",
    "    # 'c' e 'd' são parâmetros nomeados, pois estão depois do '*' \n",
    "\n",
    "    print(a + b + c + d)  # Imprime a soma de 'a', 'b', 'c' e 'd'\n",
    "\n",
    "my_function(5, 6, c=7, d=8)  # Chama a função passando '5' e '6' como argumentos posicionais, e 'c=7' e 'd=8' como argumentos nomeados\n"
   ]
  },
  {
   "cell_type": "markdown",
   "metadata": {},
   "source": [
    "### DECLARAÇÃO PASS\n",
    "\n",
    "- Já falamos sobre esse problema. Locais onde se espera haver um bloco de código não devem  permanecer vazios ou pode ocasionar erro de execução no programa.\n",
    "\n",
    " • Paralidar com isso, caso se necessário, utilize a instrução 'pass'."
   ]
  },
  {
   "cell_type": "code",
   "execution_count": 37,
   "metadata": {},
   "outputs": [],
   "source": [
    "def myfunction():\n",
    " pass"
   ]
  },
  {
   "cell_type": "markdown",
   "metadata": {},
   "source": [
    "### Retorno de Função\n",
    "\n",
    "- Uma função pode retornar um valor após ser  chamada, para isto inclua a instrução 'return'  seguida do valor a ser retornado dentro da  definição da função."
   ]
  },
  {
   "cell_type": "code",
   "execution_count": 38,
   "metadata": {},
   "outputs": [
    {
     "name": "stdout",
     "output_type": "stream",
     "text": [
      "11\n",
      "15\n"
     ]
    }
   ],
   "source": [
    "def soma(a, b):\n",
    "    return a + b\n",
    "\n",
    "print(soma(5, 6))\n",
    "x = soma(7, 8)\n",
    "print(x)\n"
   ]
  },
  {
   "cell_type": "markdown",
   "metadata": {},
   "source": [
    "# ESCOPO DAS VARIÁVEIS\n",
    "\n",
    "Variáveis globais e variáveis locais\n"
   ]
  },
  {
   "cell_type": "markdown",
   "metadata": {},
   "source": [
    "DEFINIÇÃO DE ESCOPO\n",
    " UMA VARIÁVEL SÓ ESTÁ DISPONÍVEL DENTRO DA REGIÃO NA \n",
    "QUAL ELA FOI CRIADA.\n"
   ]
  },
  {
   "cell_type": "markdown",
   "metadata": {},
   "source": [
    "### Variáveis locais"
   ]
  },
  {
   "cell_type": "markdown",
   "metadata": {},
   "source": [
    "• Uma variável criada dentro de uma função pertence ao local scope dessa função e só pode ser \n",
    "usada dentro dessa função."
   ]
  },
  {
   "cell_type": "code",
   "execution_count": 20,
   "metadata": {},
   "outputs": [
    {
     "name": "stdout",
     "output_type": "stream",
     "text": [
      "300\n"
     ]
    }
   ],
   "source": [
    "def myfunc():\n",
    " x=300\n",
    "\n",
    " print(x)\n",
    " \n",
    "myfunc()"
   ]
  },
  {
   "cell_type": "markdown",
   "metadata": {},
   "source": [
    " • Em funções encadeadas a variável só existe dentro da função na qual ela foi criada, então se uma \n",
    "outra função for criada dentro desta, a nova função terá acesso à variável criada na função pai."
   ]
  },
  {
   "cell_type": "code",
   "execution_count": 21,
   "metadata": {},
   "outputs": [
    {
     "name": "stdout",
     "output_type": "stream",
     "text": [
      "300\n"
     ]
    }
   ],
   "source": [
    "def myfunc():  # Definindo a função externa 'myfunc'\n",
    "    x = 300  # Variável 'x' é definida dentro de 'myfunc'\n",
    "\n",
    "    def myinnerfunc():  # Definindo uma função interna dentro de 'myfunc'\n",
    "        print(x)  # A função interna acessa a variável 'x' da função externa e imprime seu valor\n",
    "\n",
    "    myinnerfunc()  # Chamando a função interna\n",
    "\n",
    "myfunc()  # Chamando a função externa\n"
   ]
  },
  {
   "cell_type": "markdown",
   "metadata": {},
   "source": [
    "### Variáveis Globais\n",
    "\n",
    " Variáveis globais são aquelas declaradas fora de \n",
    "uma função, no corpo principal do código.\n",
    " Elas podem ser acessadas de qualquer parte \n",
    "do código."
   ]
  },
  {
   "cell_type": "code",
   "execution_count": 22,
   "metadata": {},
   "outputs": [
    {
     "name": "stdout",
     "output_type": "stream",
     "text": [
      "Python is awesome\n"
     ]
    }
   ],
   "source": [
    "x = \"awesome\"  # Variável global 'x' é definida com o valor 'awesome'\n",
    "\n",
    "def myfunc():  # Definindo a função 'myfunc'\n",
    "    print(\"Python is \" + x)  # A função imprime a string 'Python is ' seguida do valor de 'x'\n",
    "\n",
    "myfunc()  # Chamando a função 'myfunc'\n"
   ]
  },
  {
   "cell_type": "code",
   "execution_count": 24,
   "metadata": {},
   "outputs": [
    {
     "name": "stdout",
     "output_type": "stream",
     "text": [
      "Python is awesome\n",
      "Python is awesome\n"
     ]
    }
   ],
   "source": [
    "x = \"awesome\"  # Variável global 'x' definida com o valor 'awesome'\n",
    "\n",
    "def myfunc():\n",
    "    x = \"fantastic\"  # Variável local 'x' definida dentro da função, e só pode ser acessada dentro dela\n",
    "\n",
    "myfunc()  # Chama a função, mas a variável local 'x' dentro da função não afeta a variável global\n",
    "print(\"Python is \" + x)  # Imprime 'Python is awesome', porque a variável global 'x' não foi alterada\n",
    "\n",
    "myfunc()  # Chama novamente a função, mas novamente não altera a variável global\n",
    "print(\"Python is \" + x)  # Imprime 'Python is awesome' novamente, pois a variável global 'x' não foi alterada\n"
   ]
  },
  {
   "cell_type": "markdown",
   "metadata": {},
   "source": [
    "MESMO NOME DE VARIÁVEL EM ESCOPOS \n",
    "DIFERENTES\n"
   ]
  },
  {
   "cell_type": "markdown",
   "metadata": {},
   "source": [
    "- Se você declarar variáveis dentro e fora de uma \n",
    "função com o mesmo nome, o Python irá tratá-las \n",
    "como duas variáveis separadas, uma disponível no \n",
    "escopo global (fora da função) e outra disponível \n",
    "no escopo local (dentro da função)."
   ]
  },
  {
   "cell_type": "code",
   "execution_count": 23,
   "metadata": {},
   "outputs": [
    {
     "name": "stdout",
     "output_type": "stream",
     "text": [
      "200\n",
      "300\n"
     ]
    }
   ],
   "source": [
    "x = 300  # Variável global 'x' definida com o valor 300\n",
    "\n",
    "def myfunc():\n",
    "    x = 200  # Variável local 'x' definida dentro da função com o valor 200\n",
    "    print(x)  # Imprime a variável local 'x', que tem o valor 200\n",
    "\n",
    "myfunc()  # Chama a função myfunc, que imprime o valor de 'x' local (200)\n",
    "print(x)  # Imprime a variável global 'x', que tem o valor 300\n"
   ]
  },
  {
   "cell_type": "markdown",
   "metadata": {},
   "source": [
    "### Palavra-chave 'global'"
   ]
  },
  {
   "cell_type": "markdown",
   "metadata": {},
   "source": [
    "-  A palavra-chave 'global' força que \n",
    "uma variável declarada em \n",
    "qualquer escopo seja criada como \n",
    "sendo uma variável global, acessível \n",
    "em qualquer parte do código."
   ]
  },
  {
   "cell_type": "code",
   "execution_count": 25,
   "metadata": {},
   "outputs": [
    {
     "name": "stdout",
     "output_type": "stream",
     "text": [
      "300\n"
     ]
    }
   ],
   "source": [
    "def myfunc():\n",
    "    global x  # A palavra-chave 'global' indica que a variável 'x' é global, ou seja, modifica a variável 'x' fora da função\n",
    "    x = 300  # Modifica a variável global 'x' para o valor 300\n",
    "\n",
    "myfunc()  # Chama a função, que modifica a variável global 'x'\n",
    "print(x)  # Imprime o valor da variável global 'x', que foi alterada para 300 pela função\n"
   ]
  },
  {
   "cell_type": "markdown",
   "metadata": {},
   "source": [
    "- É possível usar a palavra-chave \n",
    "'global' para alterar uma variável de \n",
    "fora do escopo atual. É como se \n",
    "você estivesse criando essa variável \n",
    "global novamente."
   ]
  },
  {
   "cell_type": "code",
   "execution_count": 26,
   "metadata": {},
   "outputs": [
    {
     "name": "stdout",
     "output_type": "stream",
     "text": [
      "200\n"
     ]
    }
   ],
   "source": [
    "x = 300  # Variável global 'x' definida com o valor 300\n",
    "\n",
    "def myfunc():\n",
    "    global x  # A palavra-chave 'global' indica que a variável 'x' que será alterada é a global, não uma local\n",
    "    x = 200  # Modifica a variável global 'x' para o valor 200\n",
    "\n",
    "myfunc()  # Chama a função 'myfunc', que modifica a variável global 'x' para 200\n",
    "print(x)  # Imprime o valor da variável global 'x', que foi alterado para 200 pela função\n"
   ]
  }
 ],
 "metadata": {
  "kernelspec": {
   "display_name": "Python 3",
   "language": "python",
   "name": "python3"
  },
  "language_info": {
   "codemirror_mode": {
    "name": "ipython",
    "version": 3
   },
   "file_extension": ".py",
   "mimetype": "text/x-python",
   "name": "python",
   "nbconvert_exporter": "python",
   "pygments_lexer": "ipython3",
   "version": "3.13.2"
  }
 },
 "nbformat": 4,
 "nbformat_minor": 2
}
