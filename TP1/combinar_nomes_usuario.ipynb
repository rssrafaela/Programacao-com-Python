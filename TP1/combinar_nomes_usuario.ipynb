{
 "cells": [
  {
   "cell_type": "markdown",
   "metadata": {},
   "source": [
    "### 3. Escreva um programa que receba dois nomes de usuário e os combine de maneira criativa para formar um novo nome."
   ]
  },
  {
   "cell_type": "code",
   "execution_count": 1,
   "metadata": {},
   "outputs": [
    {
     "name": "stdout",
     "output_type": "stream",
     "text": [
      "Rafaela Toro\n"
     ]
    }
   ],
   "source": [
    "nomeUm = input(\"Digite o primeiro nome: \")\n",
    "nomeDois = input(\"Digite o segundo nome: \")\n",
    "novoNome = nomeUm + \" \" + nomeDois\n",
    "\n",
    "print(novoNome)"
   ]
  }
 ],
 "metadata": {
  "kernelspec": {
   "display_name": "Python 3",
   "language": "python",
   "name": "python3"
  },
  "language_info": {
   "codemirror_mode": {
    "name": "ipython",
    "version": 3
   },
   "file_extension": ".py",
   "mimetype": "text/x-python",
   "name": "python",
   "nbconvert_exporter": "python",
   "pygments_lexer": "ipython3",
   "version": "3.13.2"
  }
 },
 "nbformat": 4,
 "nbformat_minor": 2
}
