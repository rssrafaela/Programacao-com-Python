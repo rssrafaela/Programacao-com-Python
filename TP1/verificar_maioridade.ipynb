{
 "cells": [
  {
   "cell_type": "markdown",
   "metadata": {},
   "source": [
    "### 7. Crie um programa que pergunte a idade do usuário e verifique se ele é maior de idade ou não."
   ]
  }
 ],
 "metadata": {
  "language_info": {
   "name": "python"
  }
 },
 "nbformat": 4,
 "nbformat_minor": 2
}
