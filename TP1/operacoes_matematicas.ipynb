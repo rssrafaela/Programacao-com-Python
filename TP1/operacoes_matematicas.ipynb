{
 "cells": [
  {
   "cell_type": "markdown",
   "metadata": {},
   "source": [
    "### 1. Crie um programa que peça ao usuário para inserir dois números e, em seguida, calcule e exiba a soma, subtração, multiplicação, divisão e divisão inteira desses números."
   ]
  },
  {
   "cell_type": "code",
   "execution_count": 1,
   "metadata": {},
   "outputs": [
    {
     "name": "stdout",
     "output_type": "stream",
     "text": [
      "O resultado da soma é: 30.0, subtração: 10.0, multiplicação: 200.0, divisão: 2.0, divisão inteira: 2.0\n"
     ]
    }
   ],
   "source": [
    "n1 = float(input(\"Insira o primeiro número: \"))  # Conversão para float\n",
    "n2 = float(input(\"Insira o segundo número: \")) \n",
    "\n",
    "soma = n1 + n2\n",
    "subtracao = n1 - n2\n",
    "multiplicacao = n1 * n2\n",
    "divisao = n1 / n2\n",
    "divisaoInt = n1 // n2  # Divisão inteira (sem o restante)\n",
    "\n",
    "print(f\"O resultado da soma é: {soma}, subtração: {subtracao}, multiplicação: {multiplicacao}, divisão: {divisao}, divisão inteira: {divisaoInt}\")"
   ]
  }
 ],
 "metadata": {
  "kernelspec": {
   "display_name": "Python 3",
   "language": "python",
   "name": "python3"
  },
  "language_info": {
   "codemirror_mode": {
    "name": "ipython",
    "version": 3
   },
   "file_extension": ".py",
   "mimetype": "text/x-python",
   "name": "python",
   "nbconvert_exporter": "python",
   "pygments_lexer": "ipython3",
   "version": "3.13.2"
  }
 },
 "nbformat": 4,
 "nbformat_minor": 2
}
