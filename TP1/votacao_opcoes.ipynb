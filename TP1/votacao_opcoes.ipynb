{
 "cells": [
  {
   "cell_type": "markdown",
   "metadata": {},
   "source": [
    "### 13. Escreva um programa que permita ao usuário votar em três opções diferentes e, no final, exiba o número de votos de cada opção."
   ]
  }
 ],
 "metadata": {
  "language_info": {
   "name": "python"
  }
 },
 "nbformat": 4,
 "nbformat_minor": 2
}
